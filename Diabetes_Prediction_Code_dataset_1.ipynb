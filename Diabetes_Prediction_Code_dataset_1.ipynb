{
 "cells": [
  {
   "cell_type": "markdown",
   "id": "1zyLCtUdaT3_",
   "metadata": {
    "id": "1zyLCtUdaT3_"
   },
   "source": [
    "# Google Drive connection"
   ]
  },
  {
   "cell_type": "code",
   "execution_count": 1,
   "id": "FhDV3eWR995P",
   "metadata": {
    "colab": {
     "base_uri": "https://localhost:8080/"
    },
    "executionInfo": {
     "elapsed": 2780,
     "status": "ok",
     "timestamp": 1686345147853,
     "user": {
      "displayName": "Zamil Zamil",
      "userId": "04811903815352297421"
     },
     "user_tz": -360
    },
    "id": "FhDV3eWR995P",
    "outputId": "987a2b33-c9d1-4f06-c9a8-2fc2fc87871a"
   },
   "outputs": [
    {
     "name": "stdout",
     "output_type": "stream",
     "text": [
      "Drive already mounted at /content/drive; to attempt to forcibly remount, call drive.mount(\"/content/drive\", force_remount=True).\n"
     ]
    }
   ],
   "source": [
    "from google.colab import drive\n",
    "drive.mount('/content/drive')"
   ]
  },
  {
   "cell_type": "markdown",
   "id": "aBKIrzqEaZx3",
   "metadata": {
    "id": "aBKIrzqEaZx3"
   },
   "source": [
    "# Importing Packages and Libraries"
   ]
  },
  {
   "cell_type": "code",
   "execution_count": 4,
   "id": "b3f3aed1",
   "metadata": {
    "executionInfo": {
     "elapsed": 598,
     "status": "ok",
     "timestamp": 1686345148449,
     "user": {
      "displayName": "Zamil Zamil",
      "userId": "04811903815352297421"
     },
     "user_tz": -360
    },
    "id": "b3f3aed1"
   },
   "outputs": [],
   "source": [
    "import pandas as pd\n",
    "import numpy as np\n",
    "from numpy import array\n",
    "import seaborn as sns\n",
    "import matplotlib.pyplot as plt\n",
    "import matplotlib.colors\n",
    "import matplotlib.ticker as mtick\n"
   ]
  },
  {
   "cell_type": "markdown",
   "id": "ecTTT1gGafpp",
   "metadata": {
    "id": "ecTTT1gGafpp"
   },
   "source": [
    "### Removing Warnings"
   ]
  },
  {
   "cell_type": "code",
   "execution_count": 5,
   "id": "f212f3f6",
   "metadata": {
    "executionInfo": {
     "elapsed": 8,
     "status": "ok",
     "timestamp": 1686345148449,
     "user": {
      "displayName": "Zamil Zamil",
      "userId": "04811903815352297421"
     },
     "user_tz": -360
    },
    "id": "f212f3f6"
   },
   "outputs": [],
   "source": [
    "import warnings\n",
    "warnings.filterwarnings('ignore')"
   ]
  },
  {
   "cell_type": "markdown",
   "id": "Liw7_QC1bG8T",
   "metadata": {
    "id": "Liw7_QC1bG8T"
   },
   "source": [
    "### Reading Data"
   ]
  },
  {
   "cell_type": "code",
   "execution_count": 7,
   "id": "qSGTe1JibGeC",
   "metadata": {
    "colab": {
     "base_uri": "https://localhost:8080/",
     "height": 424
    },
    "executionInfo": {
     "elapsed": 440,
     "status": "ok",
     "timestamp": 1686345148881,
     "user": {
      "displayName": "Zamil Zamil",
      "userId": "04811903815352297421"
     },
     "user_tz": -360
    },
    "id": "qSGTe1JibGeC",
    "outputId": "88f4c173-6ded-4239-a1ed-94469a3d4348"
   },
   "outputs": [
    {
     "data": {
      "text/html": [
       "<div>\n",
       "<style scoped>\n",
       "    .dataframe tbody tr th:only-of-type {\n",
       "        vertical-align: middle;\n",
       "    }\n",
       "\n",
       "    .dataframe tbody tr th {\n",
       "        vertical-align: top;\n",
       "    }\n",
       "\n",
       "    .dataframe thead th {\n",
       "        text-align: right;\n",
       "    }\n",
       "</style>\n",
       "<table border=\"1\" class=\"dataframe\">\n",
       "  <thead>\n",
       "    <tr style=\"text-align: right;\">\n",
       "      <th></th>\n",
       "      <th>Pregnancies</th>\n",
       "      <th>Glucose</th>\n",
       "      <th>BloodPressure</th>\n",
       "      <th>SkinThickness</th>\n",
       "      <th>Insulin</th>\n",
       "      <th>BMI</th>\n",
       "      <th>DiabetesPedigreeFunction</th>\n",
       "      <th>Age</th>\n",
       "      <th>Outcome</th>\n",
       "    </tr>\n",
       "  </thead>\n",
       "  <tbody>\n",
       "    <tr>\n",
       "      <th>0</th>\n",
       "      <td>6</td>\n",
       "      <td>148</td>\n",
       "      <td>72</td>\n",
       "      <td>35</td>\n",
       "      <td>0</td>\n",
       "      <td>33.6</td>\n",
       "      <td>0.627</td>\n",
       "      <td>50</td>\n",
       "      <td>1</td>\n",
       "    </tr>\n",
       "    <tr>\n",
       "      <th>1</th>\n",
       "      <td>1</td>\n",
       "      <td>85</td>\n",
       "      <td>66</td>\n",
       "      <td>29</td>\n",
       "      <td>0</td>\n",
       "      <td>26.6</td>\n",
       "      <td>0.351</td>\n",
       "      <td>31</td>\n",
       "      <td>0</td>\n",
       "    </tr>\n",
       "    <tr>\n",
       "      <th>2</th>\n",
       "      <td>8</td>\n",
       "      <td>183</td>\n",
       "      <td>64</td>\n",
       "      <td>0</td>\n",
       "      <td>0</td>\n",
       "      <td>23.3</td>\n",
       "      <td>0.672</td>\n",
       "      <td>32</td>\n",
       "      <td>1</td>\n",
       "    </tr>\n",
       "    <tr>\n",
       "      <th>3</th>\n",
       "      <td>1</td>\n",
       "      <td>89</td>\n",
       "      <td>66</td>\n",
       "      <td>23</td>\n",
       "      <td>94</td>\n",
       "      <td>28.1</td>\n",
       "      <td>0.167</td>\n",
       "      <td>21</td>\n",
       "      <td>0</td>\n",
       "    </tr>\n",
       "    <tr>\n",
       "      <th>4</th>\n",
       "      <td>0</td>\n",
       "      <td>137</td>\n",
       "      <td>40</td>\n",
       "      <td>35</td>\n",
       "      <td>168</td>\n",
       "      <td>43.1</td>\n",
       "      <td>2.288</td>\n",
       "      <td>33</td>\n",
       "      <td>1</td>\n",
       "    </tr>\n",
       "    <tr>\n",
       "      <th>...</th>\n",
       "      <td>...</td>\n",
       "      <td>...</td>\n",
       "      <td>...</td>\n",
       "      <td>...</td>\n",
       "      <td>...</td>\n",
       "      <td>...</td>\n",
       "      <td>...</td>\n",
       "      <td>...</td>\n",
       "      <td>...</td>\n",
       "    </tr>\n",
       "    <tr>\n",
       "      <th>763</th>\n",
       "      <td>10</td>\n",
       "      <td>101</td>\n",
       "      <td>76</td>\n",
       "      <td>48</td>\n",
       "      <td>180</td>\n",
       "      <td>32.9</td>\n",
       "      <td>0.171</td>\n",
       "      <td>63</td>\n",
       "      <td>0</td>\n",
       "    </tr>\n",
       "    <tr>\n",
       "      <th>764</th>\n",
       "      <td>2</td>\n",
       "      <td>122</td>\n",
       "      <td>70</td>\n",
       "      <td>27</td>\n",
       "      <td>0</td>\n",
       "      <td>36.8</td>\n",
       "      <td>0.340</td>\n",
       "      <td>27</td>\n",
       "      <td>0</td>\n",
       "    </tr>\n",
       "    <tr>\n",
       "      <th>765</th>\n",
       "      <td>5</td>\n",
       "      <td>121</td>\n",
       "      <td>72</td>\n",
       "      <td>23</td>\n",
       "      <td>112</td>\n",
       "      <td>26.2</td>\n",
       "      <td>0.245</td>\n",
       "      <td>30</td>\n",
       "      <td>0</td>\n",
       "    </tr>\n",
       "    <tr>\n",
       "      <th>766</th>\n",
       "      <td>1</td>\n",
       "      <td>126</td>\n",
       "      <td>60</td>\n",
       "      <td>0</td>\n",
       "      <td>0</td>\n",
       "      <td>30.1</td>\n",
       "      <td>0.349</td>\n",
       "      <td>47</td>\n",
       "      <td>1</td>\n",
       "    </tr>\n",
       "    <tr>\n",
       "      <th>767</th>\n",
       "      <td>1</td>\n",
       "      <td>93</td>\n",
       "      <td>70</td>\n",
       "      <td>31</td>\n",
       "      <td>0</td>\n",
       "      <td>30.4</td>\n",
       "      <td>0.315</td>\n",
       "      <td>23</td>\n",
       "      <td>0</td>\n",
       "    </tr>\n",
       "  </tbody>\n",
       "</table>\n",
       "<p>768 rows × 9 columns</p>\n",
       "</div>"
      ],
      "text/plain": [
       "     Pregnancies  Glucose  BloodPressure  SkinThickness  Insulin   BMI  \\\n",
       "0              6      148             72             35        0  33.6   \n",
       "1              1       85             66             29        0  26.6   \n",
       "2              8      183             64              0        0  23.3   \n",
       "3              1       89             66             23       94  28.1   \n",
       "4              0      137             40             35      168  43.1   \n",
       "..           ...      ...            ...            ...      ...   ...   \n",
       "763           10      101             76             48      180  32.9   \n",
       "764            2      122             70             27        0  36.8   \n",
       "765            5      121             72             23      112  26.2   \n",
       "766            1      126             60              0        0  30.1   \n",
       "767            1       93             70             31        0  30.4   \n",
       "\n",
       "     DiabetesPedigreeFunction  Age  Outcome  \n",
       "0                       0.627   50        1  \n",
       "1                       0.351   31        0  \n",
       "2                       0.672   32        1  \n",
       "3                       0.167   21        0  \n",
       "4                       2.288   33        1  \n",
       "..                        ...  ...      ...  \n",
       "763                     0.171   63        0  \n",
       "764                     0.340   27        0  \n",
       "765                     0.245   30        0  \n",
       "766                     0.349   47        1  \n",
       "767                     0.315   23        0  \n",
       "\n",
       "[768 rows x 9 columns]"
      ]
     },
     "execution_count": 7,
     "metadata": {},
     "output_type": "execute_result"
    }
   ],
   "source": [
    "dataset = pd.read_csv('diabetes.csv')\n",
    "dataset\n",
    "\n"
   ]
  },
  {
   "cell_type": "code",
   "execution_count": 10,
   "id": "b116d154",
   "metadata": {},
   "outputs": [
    {
     "data": {
      "image/png": "[encoded data removed]",
      "text/plain": [
       "<Figure size 640x480 with 1 Axes>"
      ]
     },
     "metadata": {},
     "output_type": "display_data"
    }
   ],
   "source": [
    "import matplotlib.pyplot as plt\n",
    "import numpy as np\n",
    "\n",
    "# Assume that y is a list or array containing the class labels of your dataset\n",
    "unique_labels, counts = np.unique(dataset.Outcome, return_counts=True)\n",
    "\n",
    "plt.bar(unique_labels, counts)\n",
    "plt.xlabel('Class label')\n",
    "plt.ylabel('Number of samples')\n",
    "plt.title('Class distribution in dataset')\n",
    "plt.show()"
   ]
  },
  {
   "cell_type": "code",
   "execution_count": null,
   "id": "f6834015",
   "metadata": {
    "colab": {
     "base_uri": "https://localhost:8080/"
    },
    "executionInfo": {
     "elapsed": 15,
     "status": "ok",
     "timestamp": 1686345148882,
     "user": {
      "displayName": "Zamil Zamil",
      "userId": "04811903815352297421"
     },
     "user_tz": -360
    },
    "id": "f6834015",
    "outputId": "ae73f458-c00a-4453-ba00-ffdecd8c2d23"
   },
   "outputs": [],
   "source": [
    "dataset.shape"
   ]
  },
  {
   "cell_type": "code",
   "execution_count": 6,
   "id": "886b4280",
   "metadata": {
    "colab": {
     "base_uri": "https://localhost:8080/",
     "height": 300
    },
    "executionInfo": {
     "elapsed": 14,
     "status": "ok",
     "timestamp": 1686345148883,
     "user": {
      "displayName": "Zamil Zamil",
      "userId": "04811903815352297421"
     },
     "user_tz": -360
    },
    "id": "886b4280",
    "outputId": "938f3a02-cde8-4055-9697-c890caa53253"
   },
   "outputs": [
    {
     "data": {
      "text/html": [
       "\n",
       "  <div id=\"df-bc171092-6815-48f5-a47e-543fa8c1401b\">\n",
       "    <div class=\"colab-df-container\">\n",
       "      <div>\n",
       "<style scoped>\n",
       "    .dataframe tbody tr th:only-of-type {\n",
       "        vertical-align: middle;\n",
       "    }\n",
       "\n",
       "    .dataframe tbody tr th {\n",
       "        vertical-align: top;\n",
       "    }\n",
       "\n",
       "    .dataframe thead th {\n",
       "        text-align: right;\n",
       "    }\n",
       "</style>\n",
       "<table border=\"1\" class=\"dataframe\">\n",
       "  <thead>\n",
       "    <tr style=\"text-align: right;\">\n",
       "      <th></th>\n",
       "      <th>Pregnancies</th>\n",
       "      <th>Glucose</th>\n",
       "      <th>BloodPressure</th>\n",
       "      <th>SkinThickness</th>\n",
       "      <th>Insulin</th>\n",
       "      <th>BMI</th>\n",
       "      <th>DiabetesPedigreeFunction</th>\n",
       "      <th>Age</th>\n",
       "      <th>Outcome</th>\n",
       "    </tr>\n",
       "  </thead>\n",
       "  <tbody>\n",
       "    <tr>\n",
       "      <th>count</th>\n",
       "      <td>768.000000</td>\n",
       "      <td>768.000000</td>\n",
       "      <td>768.000000</td>\n",
       "      <td>768.000000</td>\n",
       "      <td>768.000000</td>\n",
       "      <td>768.000000</td>\n",
       "      <td>768.000000</td>\n",
       "      <td>768.000000</td>\n",
       "      <td>768.000000</td>\n",
       "    </tr>\n",
       "    <tr>\n",
       "      <th>mean</th>\n",
       "      <td>3.845052</td>\n",
       "      <td>120.894531</td>\n",
       "      <td>69.105469</td>\n",
       "      <td>20.536458</td>\n",
       "      <td>79.799479</td>\n",
       "      <td>31.992578</td>\n",
       "      <td>0.471876</td>\n",
       "      <td>33.240885</td>\n",
       "      <td>0.348958</td>\n",
       "    </tr>\n",
       "    <tr>\n",
       "      <th>std</th>\n",
       "      <td>3.369578</td>\n",
       "      <td>31.972618</td>\n",
       "      <td>19.355807</td>\n",
       "      <td>15.952218</td>\n",
       "      <td>115.244002</td>\n",
       "      <td>7.884160</td>\n",
       "      <td>0.331329</td>\n",
       "      <td>11.760232</td>\n",
       "      <td>0.476951</td>\n",
       "    </tr>\n",
       "    <tr>\n",
       "      <th>min</th>\n",
       "      <td>0.000000</td>\n",
       "      <td>0.000000</td>\n",
       "      <td>0.000000</td>\n",
       "      <td>0.000000</td>\n",
       "      <td>0.000000</td>\n",
       "      <td>0.000000</td>\n",
       "      <td>0.078000</td>\n",
       "      <td>21.000000</td>\n",
       "      <td>0.000000</td>\n",
       "    </tr>\n",
       "    <tr>\n",
       "      <th>25%</th>\n",
       "      <td>1.000000</td>\n",
       "      <td>99.000000</td>\n",
       "      <td>62.000000</td>\n",
       "      <td>0.000000</td>\n",
       "      <td>0.000000</td>\n",
       "      <td>27.300000</td>\n",
       "      <td>0.243750</td>\n",
       "      <td>24.000000</td>\n",
       "      <td>0.000000</td>\n",
       "    </tr>\n",
       "    <tr>\n",
       "      <th>50%</th>\n",
       "      <td>3.000000</td>\n",
       "      <td>117.000000</td>\n",
       "      <td>72.000000</td>\n",
       "      <td>23.000000</td>\n",
       "      <td>30.500000</td>\n",
       "      <td>32.000000</td>\n",
       "      <td>0.372500</td>\n",
       "      <td>29.000000</td>\n",
       "      <td>0.000000</td>\n",
       "    </tr>\n",
       "    <tr>\n",
       "      <th>75%</th>\n",
       "      <td>6.000000</td>\n",
       "      <td>140.250000</td>\n",
       "      <td>80.000000</td>\n",
       "      <td>32.000000</td>\n",
       "      <td>127.250000</td>\n",
       "      <td>36.600000</td>\n",
       "      <td>0.626250</td>\n",
       "      <td>41.000000</td>\n",
       "      <td>1.000000</td>\n",
       "    </tr>\n",
       "    <tr>\n",
       "      <th>max</th>\n",
       "      <td>17.000000</td>\n",
       "      <td>199.000000</td>\n",
       "      <td>122.000000</td>\n",
       "      <td>99.000000</td>\n",
       "      <td>846.000000</td>\n",
       "      <td>67.100000</td>\n",
       "      <td>2.420000</td>\n",
       "      <td>81.000000</td>\n",
       "      <td>1.000000</td>\n",
       "    </tr>\n",
       "  </tbody>\n",
       "</table>\n",
       "</div>\n",
       "      <button class=\"colab-df-convert\" onclick=\"convertToInteractive('df-bc171092-6815-48f5-a47e-543fa8c1401b')\"\n",
       "              title=\"Convert this dataframe to an interactive table.\"\n",
       "              style=\"display:none;\">\n",
       "        \n",
       "  <svg xmlns=\"http://www.w3.org/2000/svg\" height=\"24px\"viewBox=\"0 0 24 24\"\n",
       "       width=\"24px\">\n",
       "    <path d=\"M0 0h24v24H0V0z\" fill=\"none\"/>\n",
       "    <path d=\"M18.56 5.44l.94 2.06.94-2.06 2.06-.94-2.06-.94-.94-2.06-.94 2.06-2.06.94zm-11 1L8.5 8.5l.94-2.06 2.06-.94-2.06-.94L8.5 2.5l-.94 2.06-2.06.94zm10 10l.94 2.06.94-2.06 2.06-.94-2.06-.94-.94-2.06-.94 2.06-2.06.94z\"/><path d=\"M17.41 7.96l-1.37-1.37c-.4-.4-.92-.59-1.43-.59-.52 0-1.04.2-1.43.59L10.3 9.45l-7.72 7.72c-.78.78-.78 2.05 0 2.83L4 21.41c.39.39.9.59 1.41.59.51 0 1.02-.2 1.41-.59l7.78-7.78 2.81-2.81c.8-.78.8-2.07 0-2.86zM5.41 20L4 18.59l7.72-7.72 1.47 1.35L5.41 20z\"/>\n",
       "  </svg>\n",
       "      </button>\n",
       "      \n",
       "  <style>\n",
       "    .colab-df-container {\n",
       "      display:flex;\n",
       "      flex-wrap:wrap;\n",
       "      gap: 12px;\n",
       "    }\n",
       "\n",
       "    .colab-df-convert {\n",
       "      background-color: #E8F0FE;\n",
       "      border: none;\n",
       "      border-radius: 50%;\n",
       "      cursor: pointer;\n",
       "      display: none;\n",
       "      fill: #1967D2;\n",
       "      height: 32px;\n",
       "      padding: 0 0 0 0;\n",
       "      width: 32px;\n",
       "    }\n",
       "\n",
       "    .colab-df-convert:hover {\n",
       "      background-color: #E2EBFA;\n",
       "      box-shadow: 0px 1px 2px rgba(60, 64, 67, 0.3), 0px 1px 3px 1px rgba(60, 64, 67, 0.15);\n",
       "      fill: #174EA6;\n",
       "    }\n",
       "\n",
       "    [theme=dark] .colab-df-convert {\n",
       "      background-color: #3B4455;\n",
       "      fill: #D2E3FC;\n",
       "    }\n",
       "\n",
       "    [theme=dark] .colab-df-convert:hover {\n",
       "      background-color: #434B5C;\n",
       "      box-shadow: 0px 1px 3px 1px rgba(0, 0, 0, 0.15);\n",
       "      filter: drop-shadow(0px 1px 2px rgba(0, 0, 0, 0.3));\n",
       "      fill: #FFFFFF;\n",
       "    }\n",
       "  </style>\n",
       "\n",
       "      <script>\n",
       "        const buttonEl =\n",
       "          document.querySelector('#df-bc171092-6815-48f5-a47e-543fa8c1401b button.colab-df-convert');\n",
       "        buttonEl.style.display =\n",
       "          google.colab.kernel.accessAllowed ? 'block' : 'none';\n",
       "\n",
       "        async function convertToInteractive(key) {\n",
       "          const element = document.querySelector('#df-bc171092-6815-48f5-a47e-543fa8c1401b');\n",
       "          const dataTable =\n",
       "            await google.colab.kernel.invokeFunction('convertToInteractive',\n",
       "                                                     [key], {});\n",
       "          if (!dataTable) return;\n",
       "\n",
       "          const docLinkHtml = 'Like what you see? Visit the ' +\n",
       "            '<a target=\"_blank\" href=https://colab.research.google.com/notebooks/data_table.ipynb>data table notebook</a>'\n",
       "            + ' to learn more about interactive tables.';\n",
       "          element.innerHTML = '';\n",
       "          dataTable['output_type'] = 'display_data';\n",
       "          await google.colab.output.renderOutput(dataTable, element);\n",
       "          const docLink = document.createElement('div');\n",
       "          docLink.innerHTML = docLinkHtml;\n",
       "          element.appendChild(docLink);\n",
       "        }\n",
       "      </script>\n",
       "    </div>\n",
       "  </div>\n",
       "  "
      ],
      "text/plain": [
       "       Pregnancies     Glucose  BloodPressure  SkinThickness     Insulin  \\\n",
       "count   768.000000  768.000000     768.000000     768.000000  768.000000   \n",
       "mean      3.845052  120.894531      69.105469      20.536458   79.799479   \n",
       "std       3.369578   31.972618      19.355807      15.952218  115.244002   \n",
       "min       0.000000    0.000000       0.000000       0.000000    0.000000   \n",
       "25%       1.000000   99.000000      62.000000       0.000000    0.000000   \n",
       "50%       3.000000  117.000000      72.000000      23.000000   30.500000   \n",
       "75%       6.000000  140.250000      80.000000      32.000000  127.250000   \n",
       "max      17.000000  199.000000     122.000000      99.000000  846.000000   \n",
       "\n",
       "              BMI  DiabetesPedigreeFunction         Age     Outcome  \n",
       "count  768.000000                768.000000  768.000000  768.000000  \n",
       "mean    31.992578                  0.471876   33.240885    0.348958  \n",
       "std      7.884160                  0.331329   11.760232    0.476951  \n",
       "min      0.000000                  0.078000   21.000000    0.000000  \n",
       "25%     27.300000                  0.243750   24.000000    0.000000  \n",
       "50%     32.000000                  0.372500   29.000000    0.000000  \n",
       "75%     36.600000                  0.626250   41.000000    1.000000  \n",
       "max     67.100000                  2.420000   81.000000    1.000000  "
      ]
     },
     "execution_count": 6,
     "metadata": {},
     "output_type": "execute_result"
    }
   ],
   "source": [
    "dataset.describe()"
   ]
  },
  {
   "cell_type": "markdown",
   "id": "hEZJhOQ5bMvB",
   "metadata": {
    "id": "hEZJhOQ5bMvB"
   },
   "source": [
    "### Showing the Attribute Names"
   ]
  },
  {
   "cell_type": "code",
   "execution_count": 7,
   "id": "0193c2e3",
   "metadata": {
    "colab": {
     "base_uri": "https://localhost:8080/"
    },
    "executionInfo": {
     "elapsed": 13,
     "status": "ok",
     "timestamp": 1686345148883,
     "user": {
      "displayName": "Zamil Zamil",
      "userId": "04811903815352297421"
     },
     "user_tz": -360
    },
    "id": "0193c2e3",
    "outputId": "9c0f22e8-9941-478b-800e-553075f83d1a"
   },
   "outputs": [
    {
     "data": {
      "text/plain": [
       "Index(['Pregnancies', 'Glucose', 'BloodPressure', 'SkinThickness', 'Insulin',\n",
       "       'BMI', 'DiabetesPedigreeFunction', 'Age', 'Outcome'],\n",
       "      dtype='object')"
      ]
     },
     "execution_count": 7,
     "metadata": {},
     "output_type": "execute_result"
    }
   ],
   "source": [
    "col = dataset.columns\n",
    "col"
   ]
  },
  {
   "cell_type": "markdown",
   "id": "9KRF96ifbUNH",
   "metadata": {
    "id": "9KRF96ifbUNH"
   },
   "source": [
    "# Data Analysis and Preprocessing"
   ]
  },
  {
   "cell_type": "code",
   "execution_count": 11,
   "id": "b83c57b4",
   "metadata": {
    "colab": {
     "base_uri": "https://localhost:8080/"
    },
    "executionInfo": {
     "elapsed": 11,
     "status": "ok",
     "timestamp": 1686345148884,
     "user": {
      "displayName": "Zamil Zamil",
      "userId": "04811903815352297421"
     },
     "user_tz": -360
    },
    "id": "b83c57b4",
    "outputId": "c10e6bd1-cd1b-4227-9d41-849bb40721c4"
   },
   "outputs": [
    {
     "name": "stdout",
     "output_type": "stream",
     "text": [
      "<class 'pandas.core.frame.DataFrame'>\n",
      "RangeIndex: 768 entries, 0 to 767\n",
      "Data columns (total 9 columns):\n",
      " #   Column                    Non-Null Count  Dtype  \n",
      "---  ------                    --------------  -----  \n",
      " 0   Pregnancies               768 non-null    int64  \n",
      " 1   Glucose                   768 non-null    int64  \n",
      " 2   BloodPressure             768 non-null    int64  \n",
      " 3   SkinThickness             768 non-null    int64  \n",
      " 4   Insulin                   768 non-null    int64  \n",
      " 5   BMI                       768 non-null    float64\n",
      " 6   DiabetesPedigreeFunction  768 non-null    float64\n",
      " 7   Age                       768 non-null    int64  \n",
      " 8   Outcome                   768 non-null    int64  \n",
      "dtypes: float64(2), int64(7)\n",
      "memory usage: 54.1 KB\n"
     ]
    }
   ],
   "source": [
    "dataset.info()"
   ]
  },
  {
   "cell_type": "markdown",
   "id": "FgQXlWkVbYIB",
   "metadata": {
    "id": "FgQXlWkVbYIB"
   },
   "source": [
    "### Checking Null Values"
   ]
  },
  {
   "cell_type": "code",
   "execution_count": 12,
   "id": "b6135290",
   "metadata": {
    "colab": {
     "base_uri": "https://localhost:8080/"
    },
    "executionInfo": {
     "elapsed": 9,
     "status": "ok",
     "timestamp": 1686345148884,
     "user": {
      "displayName": "Zamil Zamil",
      "userId": "04811903815352297421"
     },
     "user_tz": -360
    },
    "id": "b6135290",
    "outputId": "f7833f7e-2aac-42ca-84a5-282e945f33e9"
   },
   "outputs": [
    {
     "data": {
      "text/plain": [
       "Pregnancies                 0\n",
       "Glucose                     0\n",
       "BloodPressure               0\n",
       "SkinThickness               0\n",
       "Insulin                     0\n",
       "BMI                         0\n",
       "DiabetesPedigreeFunction    0\n",
       "Age                         0\n",
       "Outcome                     0\n",
       "dtype: int64"
      ]
     },
     "execution_count": 12,
     "metadata": {},
     "output_type": "execute_result"
    }
   ],
   "source": [
    "dataset.isna().sum()"
   ]
  },
  {
   "cell_type": "markdown",
   "id": "IPmOUqksbbeQ",
   "metadata": {
    "id": "IPmOUqksbbeQ"
   },
   "source": [
    "### Ploting Null Values"
   ]
  },
  {
   "cell_type": "code",
   "execution_count": 13,
   "id": "f1b997d8",
   "metadata": {
    "colab": {
     "base_uri": "https://localhost:8080/",
     "height": 396
    },
    "executionInfo": {
     "elapsed": 672,
     "status": "ok",
     "timestamp": 1686345149549,
     "user": {
      "displayName": "Zamil Zamil",
      "userId": "04811903815352297421"
     },
     "user_tz": -360
    },
    "id": "f1b997d8",
    "outputId": "f460cd8d-ff0e-410d-80f5-e141a0c91c08"
   },
   "outputs": [
    {
     "data": {
      "image/png": "[encoded data removed]",
      "text/plain": [
       "<Figure size 1600x400 with 2 Axes>"
      ]
     },
     "metadata": {},
     "output_type": "display_data"
    }
   ],
   "source": [
    "plt.figure(figsize=(16,4))\n",
    "sns.heatmap((dataset.isna().sum()).to_frame(name='').T,cmap='RdYlGn', annot=True,\n",
    "             fmt='0.0f').set_title('Count missing values ', fontsize=18)\n",
    "plt.show()"
   ]
  },
  {
   "cell_type": "markdown",
   "id": "rmAi_DuSbi5f",
   "metadata": {
    "id": "rmAi_DuSbi5f"
   },
   "source": [
    "### Checking Duplicate in each Rows and Columns"
   ]
  },
  {
   "cell_type": "code",
   "execution_count": 14,
   "id": "42be46ba",
   "metadata": {
    "colab": {
     "base_uri": "https://localhost:8080/"
    },
    "executionInfo": {
     "elapsed": 18,
     "status": "ok",
     "timestamp": 1686345149549,
     "user": {
      "displayName": "Zamil Zamil",
      "userId": "04811903815352297421"
     },
     "user_tz": -360
    },
    "id": "42be46ba",
    "outputId": "58cb2cce-d438-4486-f004-04ae82d61ec1"
   },
   "outputs": [
    {
     "name": "stdout",
     "output_type": "stream",
     "text": [
      "Number of duplicates in each column: 0\n",
      "Number of duplicate rows: 0\n"
     ]
    }
   ],
   "source": [
    "duplicates_columns = dataset.duplicated()\n",
    "print(\"Number of duplicates in each column:\",duplicates_columns.sum())\n",
    "\n",
    "duplicates_rows = dataset.duplicated(keep=False)\n",
    "print(\"Number of duplicate rows:\",duplicates_rows.sum())"
   ]
  },
  {
   "cell_type": "markdown",
   "id": "7KBjcPkJbp0k",
   "metadata": {
    "id": "7KBjcPkJbp0k"
   },
   "source": [
    "### Checking Unique values for each Attributes"
   ]
  },
  {
   "cell_type": "code",
   "execution_count": 15,
   "id": "1547d9dc",
   "metadata": {
    "colab": {
     "base_uri": "https://localhost:8080/"
    },
    "executionInfo": {
     "elapsed": 13,
     "status": "ok",
     "timestamp": 1686345149550,
     "user": {
      "displayName": "Zamil Zamil",
      "userId": "04811903815352297421"
     },
     "user_tz": -360
    },
    "id": "1547d9dc",
    "outputId": "bb0c803b-a12c-49be-fae7-fd910c187f7d"
   },
   "outputs": [
    {
     "name": "stdout",
     "output_type": "stream",
     "text": [
      "Outcome : 2\n",
      "Pregnancies : 17\n",
      "BloodPressure : 47\n",
      "SkinThickness : 51\n",
      "Age : 52\n",
      "Glucose : 136\n",
      "Insulin : 186\n",
      "BMI : 248\n",
      "DiabetesPedigreeFunction : 517\n"
     ]
    }
   ],
   "source": [
    "for i in sorted(dataset, key=lambda x: len(dataset[x].unique())):\n",
    "    print(i, \":\", len(dataset[i].unique()))"
   ]
  },
  {
   "cell_type": "markdown",
   "id": "gbORvC0gb4Dg",
   "metadata": {
    "id": "gbORvC0gb4Dg"
   },
   "source": [
    "### Data Statistics"
   ]
  },
  {
   "cell_type": "code",
   "execution_count": 16,
   "id": "2c924d4f",
   "metadata": {
    "colab": {
     "base_uri": "https://localhost:8080/",
     "height": 332
    },
    "executionInfo": {
     "elapsed": 9,
     "status": "ok",
     "timestamp": 1686345149550,
     "user": {
      "displayName": "Zamil Zamil",
      "userId": "04811903815352297421"
     },
     "user_tz": -360
    },
    "id": "2c924d4f",
    "outputId": "9d3f5980-4c79-422e-95cd-2337747f3a93"
   },
   "outputs": [
    {
     "data": {
      "text/html": [
       "<div>\n",
       "<style scoped>\n",
       "    .dataframe tbody tr th:only-of-type {\n",
       "        vertical-align: middle;\n",
       "    }\n",
       "\n",
       "    .dataframe tbody tr th {\n",
       "        vertical-align: top;\n",
       "    }\n",
       "\n",
       "    .dataframe thead th {\n",
       "        text-align: right;\n",
       "    }\n",
       "</style>\n",
       "<table border=\"1\" class=\"dataframe\">\n",
       "  <thead>\n",
       "    <tr style=\"text-align: right;\">\n",
       "      <th></th>\n",
       "      <th>count</th>\n",
       "      <th>mean</th>\n",
       "      <th>std</th>\n",
       "      <th>min</th>\n",
       "      <th>25%</th>\n",
       "      <th>50%</th>\n",
       "      <th>75%</th>\n",
       "      <th>max</th>\n",
       "    </tr>\n",
       "  </thead>\n",
       "  <tbody>\n",
       "    <tr>\n",
       "      <th>Pregnancies</th>\n",
       "      <td>768.0</td>\n",
       "      <td>3.845052</td>\n",
       "      <td>3.369578</td>\n",
       "      <td>0.000</td>\n",
       "      <td>1.00000</td>\n",
       "      <td>3.0000</td>\n",
       "      <td>6.00000</td>\n",
       "      <td>17.00</td>\n",
       "    </tr>\n",
       "    <tr>\n",
       "      <th>Glucose</th>\n",
       "      <td>768.0</td>\n",
       "      <td>120.894531</td>\n",
       "      <td>31.972618</td>\n",
       "      <td>0.000</td>\n",
       "      <td>99.00000</td>\n",
       "      <td>117.0000</td>\n",
       "      <td>140.25000</td>\n",
       "      <td>199.00</td>\n",
       "    </tr>\n",
       "    <tr>\n",
       "      <th>BloodPressure</th>\n",
       "      <td>768.0</td>\n",
       "      <td>69.105469</td>\n",
       "      <td>19.355807</td>\n",
       "      <td>0.000</td>\n",
       "      <td>62.00000</td>\n",
       "      <td>72.0000</td>\n",
       "      <td>80.00000</td>\n",
       "      <td>122.00</td>\n",
       "    </tr>\n",
       "    <tr>\n",
       "      <th>SkinThickness</th>\n",
       "      <td>768.0</td>\n",
       "      <td>20.536458</td>\n",
       "      <td>15.952218</td>\n",
       "      <td>0.000</td>\n",
       "      <td>0.00000</td>\n",
       "      <td>23.0000</td>\n",
       "      <td>32.00000</td>\n",
       "      <td>99.00</td>\n",
       "    </tr>\n",
       "    <tr>\n",
       "      <th>Insulin</th>\n",
       "      <td>768.0</td>\n",
       "      <td>79.799479</td>\n",
       "      <td>115.244002</td>\n",
       "      <td>0.000</td>\n",
       "      <td>0.00000</td>\n",
       "      <td>30.5000</td>\n",
       "      <td>127.25000</td>\n",
       "      <td>846.00</td>\n",
       "    </tr>\n",
       "    <tr>\n",
       "      <th>BMI</th>\n",
       "      <td>768.0</td>\n",
       "      <td>31.992578</td>\n",
       "      <td>7.884160</td>\n",
       "      <td>0.000</td>\n",
       "      <td>27.30000</td>\n",
       "      <td>32.0000</td>\n",
       "      <td>36.60000</td>\n",
       "      <td>67.10</td>\n",
       "    </tr>\n",
       "    <tr>\n",
       "      <th>DiabetesPedigreeFunction</th>\n",
       "      <td>768.0</td>\n",
       "      <td>0.471876</td>\n",
       "      <td>0.331329</td>\n",
       "      <td>0.078</td>\n",
       "      <td>0.24375</td>\n",
       "      <td>0.3725</td>\n",
       "      <td>0.62625</td>\n",
       "      <td>2.42</td>\n",
       "    </tr>\n",
       "    <tr>\n",
       "      <th>Age</th>\n",
       "      <td>768.0</td>\n",
       "      <td>33.240885</td>\n",
       "      <td>11.760232</td>\n",
       "      <td>21.000</td>\n",
       "      <td>24.00000</td>\n",
       "      <td>29.0000</td>\n",
       "      <td>41.00000</td>\n",
       "      <td>81.00</td>\n",
       "    </tr>\n",
       "    <tr>\n",
       "      <th>Outcome</th>\n",
       "      <td>768.0</td>\n",
       "      <td>0.348958</td>\n",
       "      <td>0.476951</td>\n",
       "      <td>0.000</td>\n",
       "      <td>0.00000</td>\n",
       "      <td>0.0000</td>\n",
       "      <td>1.00000</td>\n",
       "      <td>1.00</td>\n",
       "    </tr>\n",
       "  </tbody>\n",
       "</table>\n",
       "</div>"
      ],
      "text/plain": [
       "                          count        mean         std     min       25%  \\\n",
       "Pregnancies               768.0    3.845052    3.369578   0.000   1.00000   \n",
       "Glucose                   768.0  120.894531   31.972618   0.000  99.00000   \n",
       "BloodPressure             768.0   69.105469   19.355807   0.000  62.00000   \n",
       "SkinThickness             768.0   20.536458   15.952218   0.000   0.00000   \n",
       "Insulin                   768.0   79.799479  115.244002   0.000   0.00000   \n",
       "BMI                       768.0   31.992578    7.884160   0.000  27.30000   \n",
       "DiabetesPedigreeFunction  768.0    0.471876    0.331329   0.078   0.24375   \n",
       "Age                       768.0   33.240885   11.760232  21.000  24.00000   \n",
       "Outcome                   768.0    0.348958    0.476951   0.000   0.00000   \n",
       "\n",
       "                               50%        75%     max  \n",
       "Pregnancies                 3.0000    6.00000   17.00  \n",
       "Glucose                   117.0000  140.25000  199.00  \n",
       "BloodPressure              72.0000   80.00000  122.00  \n",
       "SkinThickness              23.0000   32.00000   99.00  \n",
       "Insulin                    30.5000  127.25000  846.00  \n",
       "BMI                        32.0000   36.60000   67.10  \n",
       "DiabetesPedigreeFunction    0.3725    0.62625    2.42  \n",
       "Age                        29.0000   41.00000   81.00  \n",
       "Outcome                     0.0000    1.00000    1.00  "
      ]
     },
     "execution_count": 16,
     "metadata": {},
     "output_type": "execute_result"
    }
   ],
   "source": [
    "dataset.describe(include='all').T"
   ]
  },
  {
   "cell_type": "markdown",
   "id": "5OIvI-pIcYSO",
   "metadata": {
    "id": "5OIvI-pIcYSO"
   },
   "source": [
    "# Plotting data to see how the distribution of Feature attributes with Target attribute"
   ]
  },
  {
   "cell_type": "code",
   "execution_count": 17,
   "id": "8bd65713",
   "metadata": {
    "colab": {
     "base_uri": "https://localhost:8080/",
     "height": 449
    },
    "executionInfo": {
     "elapsed": 480,
     "status": "ok",
     "timestamp": 1686345150023,
     "user": {
      "displayName": "Zamil Zamil",
      "userId": "04811903815352297421"
     },
     "user_tz": -360
    },
    "id": "8bd65713",
    "outputId": "84b29d0f-a174-4a5b-8baa-097fb86bdba1"
   },
   "outputs": [
    {
     "data": {
      "image/png": "[encoded data removed]",
      "text/plain": [
       "<Figure size 640x480 with 1 Axes>"
      ]
     },
     "metadata": {},
     "output_type": "display_data"
    }
   ],
   "source": [
    "import matplotlib.pyplot as plt\n",
    "dataset.plot(x='Outcome', y='Pregnancies', kind='scatter')\n",
    "plt.show()"
   ]
  },
  {
   "cell_type": "code",
   "execution_count": 18,
   "id": "969a9046",
   "metadata": {
    "colab": {
     "base_uri": "https://localhost:8080/",
     "height": 449
    },
    "executionInfo": {
     "elapsed": 9,
     "status": "ok",
     "timestamp": 1686345150024,
     "user": {
      "displayName": "Zamil Zamil",
      "userId": "04811903815352297421"
     },
     "user_tz": -360
    },
    "id": "969a9046",
    "outputId": "979ea2d9-36c9-430a-ba89-3f849b648a89"
   },
   "outputs": [
    {
     "data": {
      "image/png": "[encoded data removed]",
      "text/plain": [
       "<Figure size 640x480 with 1 Axes>"
      ]
     },
     "metadata": {},
     "output_type": "display_data"
    }
   ],
   "source": [
    "dataset.plot(x='Outcome', y='Glucose', kind='scatter')\n",
    "plt.show()"
   ]
  },
  {
   "cell_type": "code",
   "execution_count": 19,
   "id": "98cfafdf",
   "metadata": {
    "colab": {
     "base_uri": "https://localhost:8080/",
     "height": 449
    },
    "executionInfo": {
     "elapsed": 660,
     "status": "ok",
     "timestamp": 1686345150676,
     "user": {
      "displayName": "Zamil Zamil",
      "userId": "04811903815352297421"
     },
     "user_tz": -360
    },
    "id": "98cfafdf",
    "outputId": "bf380602-9501-4b02-dcca-fd5359979bd3"
   },
   "outputs": [
    {
     "data": {
      "image/png": "[encoded data removed]",
      "text/plain": [
       "<Figure size 640x480 with 1 Axes>"
      ]
     },
     "metadata": {},
     "output_type": "display_data"
    }
   ],
   "source": [
    "dataset.plot(x='Outcome', y='Insulin', kind='scatter')\n",
    "plt.show()"
   ]
  },
  {
   "cell_type": "code",
   "execution_count": 20,
   "id": "5e9768d0",
   "metadata": {
    "colab": {
     "base_uri": "https://localhost:8080/",
     "height": 453
    },
    "executionInfo": {
     "elapsed": 9,
     "status": "ok",
     "timestamp": 1686345150677,
     "user": {
      "displayName": "Zamil Zamil",
      "userId": "04811903815352297421"
     },
     "user_tz": -360
    },
    "id": "5e9768d0",
    "outputId": "f3802d97-7838-46b7-dbaa-86ef3bfdcb7b"
   },
   "outputs": [
    {
     "data": {
      "image/png": "[encoded data removed]",
      "text/plain": [
       "<Figure size 640x480 with 1 Axes>"
      ]
     },
     "metadata": {},
     "output_type": "display_data"
    }
   ],
   "source": [
    "dataset.plot(x='Outcome', y='BMI', kind='scatter')\n",
    "plt.show()"
   ]
  },
  {
   "cell_type": "markdown",
   "id": "8JTxEiTqd6TH",
   "metadata": {
    "id": "8JTxEiTqd6TH"
   },
   "source": [
    "### Checking Outliers by plotting"
   ]
  },
  {
   "cell_type": "code",
   "execution_count": 21,
   "id": "65ae2af0",
   "metadata": {
    "colab": {
     "base_uri": "https://localhost:8080/",
     "height": 522
    },
    "executionInfo": {
     "elapsed": 855,
     "status": "ok",
     "timestamp": 1686345151525,
     "user": {
      "displayName": "Zamil Zamil",
      "userId": "04811903815352297421"
     },
     "user_tz": -360
    },
    "id": "65ae2af0",
    "outputId": "24767fdd-7088-4add-9288-0503b97e72c0"
   },
   "outputs": [
    {
     "data": {
      "image/png": "[encoded data removed]",
      "text/plain": [
       "<Figure size 1400x600 with 1 Axes>"
      ]
     },
     "metadata": {},
     "output_type": "display_data"
    }
   ],
   "source": [
    "dataset.plot(kind='box',figsize=(14,6))\n",
    "plt.show()"
   ]
  },
  {
   "cell_type": "markdown",
   "id": "wjDcm3C9eB63",
   "metadata": {
    "id": "wjDcm3C9eB63"
   },
   "source": [
    "### Outlier counting "
   ]
  },
  {
   "cell_type": "code",
   "execution_count": 22,
   "id": "0109b581",
   "metadata": {
    "colab": {
     "base_uri": "https://localhost:8080/"
    },
    "executionInfo": {
     "elapsed": 9,
     "status": "ok",
     "timestamp": 1686345151526,
     "user": {
      "displayName": "Zamil Zamil",
      "userId": "04811903815352297421"
     },
     "user_tz": -360
    },
    "id": "0109b581",
    "outputId": "76e6e587-5c11-44dc-d5e0-fab840c7781c"
   },
   "outputs": [
    {
     "name": "stdout",
     "output_type": "stream",
     "text": [
      "╒══════════════════════════╤═══════════════╤═════════════════╤══════════════════════════════════════════════════════════════════════════╕\n",
      "│ Column                   │   Total Count │   Outlier Count │ Outlier Values                                                           │\n",
      "╞══════════════════════════╪═══════════════╪═════════════════╪══════════════════════════════════════════════════════════════════════════╡\n",
      "│ Pregnancies              │           768 │               4 │ [15 17 14 14]                                                            │\n",
      "├──────────────────────────┼───────────────┼─────────────────┼──────────────────────────────────────────────────────────────────────────┤\n",
      "│ Glucose                  │           768 │               5 │ [0 0 0 0 0]                                                              │\n",
      "├──────────────────────────┼───────────────┼─────────────────┼──────────────────────────────────────────────────────────────────────────┤\n",
      "│ BloodPressure            │           768 │              45 │ [  0   0  30 110   0   0   0   0 108 122  30   0 110   0   0   0   0   0 │\n",
      "│                          │               │                 │    0   0   0   0   0 108   0   0   0   0   0   0   0   0   0   0 110   0 │\n",
      "│                          │               │                 │   24   0   0   0   0 114   0   0   0]                                    │\n",
      "├──────────────────────────┼───────────────┼─────────────────┼──────────────────────────────────────────────────────────────────────────┤\n",
      "│ SkinThickness            │           768 │               1 │ [99]                                                                     │\n",
      "├──────────────────────────┼───────────────┼─────────────────┼──────────────────────────────────────────────────────────────────────────┤\n",
      "│ Insulin                  │           768 │              34 │ [543 846 342 495 325 485 495 478 744 370 680 402 375 545 360 325 465 325 │\n",
      "│                          │               │                 │  415 579 474 328 480 326 330 600 321 440 540 480 335 387 392 510]        │\n",
      "├──────────────────────────┼───────────────┼─────────────────┼──────────────────────────────────────────────────────────────────────────┤\n",
      "│ BMI                      │           768 │              19 │ [ 0.   0.   0.   0.  53.2 55.   0.  67.1 52.3 52.3 52.9  0.   0.  59.4   │\n",
      "│                          │               │                 │   0.   0.  57.3  0.   0. ]                                               │\n",
      "├──────────────────────────┼───────────────┼─────────────────┼──────────────────────────────────────────────────────────────────────────┤\n",
      "│ DiabetesPedigreeFunction │           768 │              29 │ [2.288 1.441 1.39  1.893 1.781 1.222 1.4   1.321 1.224 2.329 1.318 1.213 │\n",
      "│                          │               │                 │  1.353 1.224 1.391 1.476 2.137 1.731 1.268 1.6   2.42  1.251 1.699 1.258 │\n",
      "│                          │               │                 │  1.282 1.698 1.461 1.292 1.394]                                          │\n",
      "├──────────────────────────┼───────────────┼─────────────────┼──────────────────────────────────────────────────────────────────────────┤\n",
      "│ Age                      │           768 │               9 │ [69 67 72 81 67 67 70 68 69]                                             │\n",
      "├──────────────────────────┼───────────────┼─────────────────┼──────────────────────────────────────────────────────────────────────────┤\n",
      "│ Outcome                  │           768 │               0 │ []                                                                       │\n",
      "╘══════════════════════════╧═══════════════╧═════════════════╧══════════════════════════════════════════════════════════════════════════╛\n"
     ]
    }
   ],
   "source": [
    "from tabulate import tabulate\n",
    "\n",
    "# Create an empty list to store outlier information for each column\n",
    "outliers = []\n",
    "\n",
    "# Loop over each column in the DataFrame\n",
    "for col in dataset.columns:\n",
    "    # Calculate the first and third quartiles\n",
    "    q1 = dataset[col].quantile(0.25)\n",
    "    q3 = dataset[col].quantile(0.75)\n",
    "    \n",
    "    # Calculate the interquartile range (IQR)\n",
    "    iqr = q3 - q1\n",
    "    \n",
    "    # Calculate the lower and upper bounds for outliers\n",
    "    lower_bound = q1 - 1.5 * iqr\n",
    "    upper_bound = q3 + 1.5 * iqr\n",
    "    \n",
    "    # Find the outliers in the column\n",
    "    col_outliers = dataset[(dataset[col] < lower_bound) | (dataset[col] > upper_bound)][col]\n",
    "    \n",
    "    # Add the outlier information to the list\n",
    "    outliers.append({\n",
    "        'Column': col,\n",
    "        'Total Count': len(dataset[col]),\n",
    "        'Outlier Count': len(col_outliers),\n",
    "        'Outlier Values': col_outliers.values\n",
    "    })\n",
    "\n",
    "# Display the results in a table format\n",
    "print(tabulate(outliers, headers='keys', tablefmt='fancy_grid'))"
   ]
  },
  {
   "cell_type": "code",
   "execution_count": 23,
   "id": "d01c1947",
   "metadata": {},
   "outputs": [
    {
     "data": {
      "image/png": "[encoded data removed]",
      "text/plain": [
       "<Figure size 640x480 with 1 Axes>"
      ]
     },
     "metadata": {},
     "output_type": "display_data"
    }
   ],
   "source": [
    "import matplotlib.pyplot as plt\n",
    "import numpy as np\n",
    "\n",
    "# Assume that y is a list or array containing the class labels of your dataset\n",
    "unique_labels, counts = np.unique(dataset.Outcome, return_counts=True)\n",
    "\n",
    "plt.bar(unique_labels, counts)\n",
    "plt.xlabel('Class label')\n",
    "plt.ylabel('Number of samples')\n",
    "plt.title('Class distribution in dataset')\n",
    "plt.show()"
   ]
  },
  {
   "cell_type": "markdown",
   "id": "vIbgfszKeepV",
   "metadata": {
    "id": "vIbgfszKeepV"
   },
   "source": [
    "### Correlation between the attributes those have large number of outlier and Target attribute"
   ]
  },
  {
   "cell_type": "code",
   "execution_count": 20,
   "id": "7d733f12",
   "metadata": {
    "colab": {
     "base_uri": "https://localhost:8080/",
     "height": 435
    },
    "executionInfo": {
     "elapsed": 826,
     "status": "ok",
     "timestamp": 1686345152347,
     "user": {
      "displayName": "Zamil Zamil",
      "userId": "04811903815352297421"
     },
     "user_tz": -360
    },
    "id": "7d733f12",
    "outputId": "1390390d-533c-4150-e0e8-45efcdcf7df7"
   },
   "outputs": [
    {
     "data": {
      "image/png": "[encoded data removed]",
      "text/plain": [
       "<Figure size 640x480 with 2 Axes>"
      ]
     },
     "metadata": {},
     "output_type": "display_data"
    }
   ],
   "source": [
    "\n",
    "# Select the columns of interest\n",
    "columns_of_interest = ['BloodPressure','Insulin','BMI','DiabetesPedigreeFunction', 'Outcome']\n",
    "\n",
    "# Calculate the correlation matrix between the selected columns\n",
    "corr = dataset[columns_of_interest].corr()['Outcome'].sort_values(ascending=False)\n",
    "\n",
    "# Display the correlation matrix for the selected columns as a heatmap\n",
    "sns.heatmap(corr.to_frame(), cmap='RdYlGn', annot=True, fmt='.2f');"
   ]
  },
  {
   "cell_type": "markdown",
   "id": "wENFHlL8YdOD",
   "metadata": {
    "id": "wENFHlL8YdOD"
   },
   "source": [
    "### Outlier Handling"
   ]
  },
  {
   "cell_type": "code",
   "execution_count": 24,
   "id": "aS1ihqKhYkYm",
   "metadata": {
    "colab": {
     "base_uri": "https://localhost:8080/"
    },
    "executionInfo": {
     "elapsed": 15,
     "status": "ok",
     "timestamp": 1686345152348,
     "user": {
      "displayName": "Zamil Zamil",
      "userId": "04811903815352297421"
     },
     "user_tz": -360
    },
    "id": "aS1ihqKhYkYm",
    "outputId": "36fb789f-7b9b-4f34-e9ec-3de24d0a17b3"
   },
   "outputs": [
    {
     "name": "stdout",
     "output_type": "stream",
     "text": [
      "Pregnancies True\n",
      "Glucose True\n",
      "BloodPressure True\n",
      "SkinThickness True\n",
      "Insulin True\n",
      "BMI True\n",
      "DiabetesPedigreeFunction True\n",
      "Age True\n",
      "Outcome False\n"
     ]
    }
   ],
   "source": [
    "# Outlier Analysis\n",
    "def outlier_thresholds(dataframe, col_name, q1=0.20, q3=0.80):\n",
    "    quartile1 = dataframe[col_name].quantile(q1)\n",
    "    quartile3 = dataframe[col_name].quantile(q3)\n",
    "    interquantile_range = quartile3 - quartile1\n",
    "    up_limit = quartile3 + 1.5 * interquantile_range\n",
    "    low_limit = quartile1 - 1.5 * interquantile_range\n",
    "    return low_limit, up_limit\n",
    "\n",
    "def check_outlier(dataframe, col_name):\n",
    "    low_limit, up_limit = outlier_thresholds(dataframe, col_name)\n",
    "    if dataframe[(dataframe[col_name] > up_limit) | (dataframe[col_name] < low_limit)].any(axis=None):\n",
    "        return True\n",
    "    else:\n",
    "        return False\n",
    "\n",
    "# We are checking the outlier analysis again for control\n",
    "for col in dataset.columns:\n",
    "    print(col, check_outlier(dataset, col))\n",
    "\n"
   ]
  },
  {
   "cell_type": "code",
   "execution_count": 26,
   "id": "koZ0DxUkbC4B",
   "metadata": {
    "executionInfo": {
     "elapsed": 12,
     "status": "ok",
     "timestamp": 1686345152348,
     "user": {
      "displayName": "Zamil Zamil",
      "userId": "04811903815352297421"
     },
     "user_tz": -360
    },
    "id": "koZ0DxUkbC4B"
   },
   "outputs": [],
   "source": [
    "# We are replacing the outliers according to the IQR method.\n",
    "def replace_with_thresholds(dataframe, variable, q1=0.20, q3=0.80):\n",
    "    low_limit, up_limit = outlier_thresholds(dataframe, variable, q1=0.20, q3=0.80)\n",
    "    dataframe.loc[(dataframe[variable] < low_limit), variable] = low_limit\n",
    "    dataframe.loc[(dataframe[variable] > up_limit), variable] = up_limit\n",
    "    \n",
    "for col in dataset.columns:\n",
    "    replace_with_thresholds(dataset, col)"
   ]
  },
  {
   "cell_type": "code",
   "execution_count": 27,
   "id": "tXmxJRaAbChM",
   "metadata": {
    "colab": {
     "base_uri": "https://localhost:8080/"
    },
    "executionInfo": {
     "elapsed": 12,
     "status": "ok",
     "timestamp": 1686345152348,
     "user": {
      "displayName": "Zamil Zamil",
      "userId": "04811903815352297421"
     },
     "user_tz": -360
    },
    "id": "tXmxJRaAbChM",
    "outputId": "1e2389e8-9529-4ec4-f4e9-81819f73d7ea"
   },
   "outputs": [
    {
     "name": "stdout",
     "output_type": "stream",
     "text": [
      "Pregnancies False\n",
      "Glucose False\n",
      "BloodPressure False\n",
      "SkinThickness False\n",
      "Insulin False\n",
      "BMI False\n",
      "DiabetesPedigreeFunction False\n",
      "Age False\n",
      "Outcome False\n"
     ]
    }
   ],
   "source": [
    "# We are checking the outlier analysis again for control\n",
    "for col in dataset.columns:\n",
    "    print(col, check_outlier(dataset, col))"
   ]
  },
  {
   "cell_type": "markdown",
   "id": "HwdpgotE1ZtM",
   "metadata": {
    "id": "HwdpgotE1ZtM"
   },
   "source": [
    "# Feature Selection"
   ]
  },
  {
   "cell_type": "markdown",
   "id": "8XHN1ls60ZBN",
   "metadata": {
    "id": "8XHN1ls60ZBN"
   },
   "source": [
    "### Data Cleaning"
   ]
  },
  {
   "cell_type": "code",
   "execution_count": 28,
   "id": "8xcup9wI0cs8",
   "metadata": {
    "executionInfo": {
     "elapsed": 9,
     "status": "ok",
     "timestamp": 1686345152348,
     "user": {
      "displayName": "Zamil Zamil",
      "userId": "04811903815352297421"
     },
     "user_tz": -360
    },
    "id": "8xcup9wI0cs8"
   },
   "outputs": [],
   "source": [
    "#Replace Zeroes with mean values\n",
    "zero_not_accepted = ['Glucose','BloodPressure','SkinThickness', 'BMI','Insulin']\n",
    "    \n",
    "for column in zero_not_accepted:\n",
    "    dataset[column] = dataset[column].replace(0,np.NaN)\n",
    "    mean = int(dataset[column].mean(skipna=True))\n",
    "    dataset[column] = dataset[column].replace(np.NaN,mean)"
   ]
  },
  {
   "cell_type": "code",
   "execution_count": 30,
   "id": "4f6be762",
   "metadata": {},
   "outputs": [
    {
     "data": {
      "image/png": "[encoded data removed]",
      "text/plain": [
       "<Figure size 640x480 with 1 Axes>"
      ]
     },
     "metadata": {},
     "output_type": "display_data"
    }
   ],
   "source": [
    "import matplotlib.pyplot as plt\n",
    "import numpy as np\n",
    "\n",
    "# Assume that y is a list or array containing the class labels of your dataset\n",
    "unique_labels, counts = np.unique(dataset.columns, return_counts=True)  \n",
    "\n",
    "plt.bar(unique_labels, counts)\n",
    "plt.xlabel('Class label')\n",
    "plt.ylabel('Number of samples')\n",
    "plt.title('Class distribution in dataset')  #\n",
    "plt.show()"
   ]
  },
  {
   "cell_type": "code",
   "execution_count": 25,
   "id": "OfKh_Zhq8E3W",
   "metadata": {
    "colab": {
     "base_uri": "https://localhost:8080/",
     "height": 424
    },
    "executionInfo": {
     "elapsed": 10,
     "status": "ok",
     "timestamp": 1686345152349,
     "user": {
      "displayName": "Zamil Zamil",
      "userId": "04811903815352297421"
     },
     "user_tz": -360
    },
    "id": "OfKh_Zhq8E3W",
    "outputId": "fa60eb69-2b8f-4c48-dad8-f37ed1e55dc3"
   },
   "outputs": [
    {
     "data": {
      "text/html": [
       "\n",
       "  <div id=\"df-014699ee-b8ac-4123-8ad3-f077850bce6c\">\n",
       "    <div class=\"colab-df-container\">\n",
       "      <div>\n",
       "<style scoped>\n",
       "    .dataframe tbody tr th:only-of-type {\n",
       "        vertical-align: middle;\n",
       "    }\n",
       "\n",
       "    .dataframe tbody tr th {\n",
       "        vertical-align: top;\n",
       "    }\n",
       "\n",
       "    .dataframe thead th {\n",
       "        text-align: right;\n",
       "    }\n",
       "</style>\n",
       "<table border=\"1\" class=\"dataframe\">\n",
       "  <thead>\n",
       "    <tr style=\"text-align: right;\">\n",
       "      <th></th>\n",
       "      <th>Pregnancies</th>\n",
       "      <th>Glucose</th>\n",
       "      <th>BloodPressure</th>\n",
       "      <th>SkinThickness</th>\n",
       "      <th>Insulin</th>\n",
       "      <th>BMI</th>\n",
       "      <th>DiabetesPedigreeFunction</th>\n",
       "      <th>Age</th>\n",
       "      <th>Outcome</th>\n",
       "    </tr>\n",
       "  </thead>\n",
       "  <tbody>\n",
       "    <tr>\n",
       "      <th>0</th>\n",
       "      <td>6</td>\n",
       "      <td>148</td>\n",
       "      <td>72</td>\n",
       "      <td>35.0</td>\n",
       "      <td>147.0</td>\n",
       "      <td>33.6</td>\n",
       "      <td>0.6270</td>\n",
       "      <td>50.0</td>\n",
       "      <td>1.0</td>\n",
       "    </tr>\n",
       "    <tr>\n",
       "      <th>1</th>\n",
       "      <td>1</td>\n",
       "      <td>85</td>\n",
       "      <td>66</td>\n",
       "      <td>29.0</td>\n",
       "      <td>147.0</td>\n",
       "      <td>26.6</td>\n",
       "      <td>0.3510</td>\n",
       "      <td>31.0</td>\n",
       "      <td>0.0</td>\n",
       "    </tr>\n",
       "    <tr>\n",
       "      <th>2</th>\n",
       "      <td>8</td>\n",
       "      <td>183</td>\n",
       "      <td>64</td>\n",
       "      <td>29.0</td>\n",
       "      <td>147.0</td>\n",
       "      <td>23.3</td>\n",
       "      <td>0.6720</td>\n",
       "      <td>32.0</td>\n",
       "      <td>1.0</td>\n",
       "    </tr>\n",
       "    <tr>\n",
       "      <th>3</th>\n",
       "      <td>1</td>\n",
       "      <td>89</td>\n",
       "      <td>66</td>\n",
       "      <td>23.0</td>\n",
       "      <td>94.0</td>\n",
       "      <td>28.1</td>\n",
       "      <td>0.1670</td>\n",
       "      <td>21.0</td>\n",
       "      <td>0.0</td>\n",
       "    </tr>\n",
       "    <tr>\n",
       "      <th>4</th>\n",
       "      <td>0</td>\n",
       "      <td>137</td>\n",
       "      <td>40</td>\n",
       "      <td>35.0</td>\n",
       "      <td>168.0</td>\n",
       "      <td>43.1</td>\n",
       "      <td>1.3884</td>\n",
       "      <td>33.0</td>\n",
       "      <td>1.0</td>\n",
       "    </tr>\n",
       "    <tr>\n",
       "      <th>...</th>\n",
       "      <td>...</td>\n",
       "      <td>...</td>\n",
       "      <td>...</td>\n",
       "      <td>...</td>\n",
       "      <td>...</td>\n",
       "      <td>...</td>\n",
       "      <td>...</td>\n",
       "      <td>...</td>\n",
       "      <td>...</td>\n",
       "    </tr>\n",
       "    <tr>\n",
       "      <th>763</th>\n",
       "      <td>10</td>\n",
       "      <td>101</td>\n",
       "      <td>76</td>\n",
       "      <td>48.0</td>\n",
       "      <td>180.0</td>\n",
       "      <td>32.9</td>\n",
       "      <td>0.1710</td>\n",
       "      <td>63.0</td>\n",
       "      <td>0.0</td>\n",
       "    </tr>\n",
       "    <tr>\n",
       "      <th>764</th>\n",
       "      <td>2</td>\n",
       "      <td>122</td>\n",
       "      <td>70</td>\n",
       "      <td>27.0</td>\n",
       "      <td>147.0</td>\n",
       "      <td>36.8</td>\n",
       "      <td>0.3400</td>\n",
       "      <td>27.0</td>\n",
       "      <td>0.0</td>\n",
       "    </tr>\n",
       "    <tr>\n",
       "      <th>765</th>\n",
       "      <td>5</td>\n",
       "      <td>121</td>\n",
       "      <td>72</td>\n",
       "      <td>23.0</td>\n",
       "      <td>112.0</td>\n",
       "      <td>26.2</td>\n",
       "      <td>0.2450</td>\n",
       "      <td>30.0</td>\n",
       "      <td>0.0</td>\n",
       "    </tr>\n",
       "    <tr>\n",
       "      <th>766</th>\n",
       "      <td>1</td>\n",
       "      <td>126</td>\n",
       "      <td>60</td>\n",
       "      <td>29.0</td>\n",
       "      <td>147.0</td>\n",
       "      <td>30.1</td>\n",
       "      <td>0.3490</td>\n",
       "      <td>47.0</td>\n",
       "      <td>1.0</td>\n",
       "    </tr>\n",
       "    <tr>\n",
       "      <th>767</th>\n",
       "      <td>1</td>\n",
       "      <td>93</td>\n",
       "      <td>70</td>\n",
       "      <td>31.0</td>\n",
       "      <td>147.0</td>\n",
       "      <td>30.4</td>\n",
       "      <td>0.3150</td>\n",
       "      <td>23.0</td>\n",
       "      <td>0.0</td>\n",
       "    </tr>\n",
       "  </tbody>\n",
       "</table>\n",
       "<p>768 rows × 9 columns</p>\n",
       "</div>\n",
       "      <button class=\"colab-df-convert\" onclick=\"convertToInteractive('df-014699ee-b8ac-4123-8ad3-f077850bce6c')\"\n",
       "              title=\"Convert this dataframe to an interactive table.\"\n",
       "              style=\"display:none;\">\n",
       "        \n",
       "  <svg xmlns=\"http://www.w3.org/2000/svg\" height=\"24px\"viewBox=\"0 0 24 24\"\n",
       "       width=\"24px\">\n",
       "    <path d=\"M0 0h24v24H0V0z\" fill=\"none\"/>\n",
       "    <path d=\"M18.56 5.44l.94 2.06.94-2.06 2.06-.94-2.06-.94-.94-2.06-.94 2.06-2.06.94zm-11 1L8.5 8.5l.94-2.06 2.06-.94-2.06-.94L8.5 2.5l-.94 2.06-2.06.94zm10 10l.94 2.06.94-2.06 2.06-.94-2.06-.94-.94-2.06-.94 2.06-2.06.94z\"/><path d=\"M17.41 7.96l-1.37-1.37c-.4-.4-.92-.59-1.43-.59-.52 0-1.04.2-1.43.59L10.3 9.45l-7.72 7.72c-.78.78-.78 2.05 0 2.83L4 21.41c.39.39.9.59 1.41.59.51 0 1.02-.2 1.41-.59l7.78-7.78 2.81-2.81c.8-.78.8-2.07 0-2.86zM5.41 20L4 18.59l7.72-7.72 1.47 1.35L5.41 20z\"/>\n",
       "  </svg>\n",
       "      </button>\n",
       "      \n",
       "  <style>\n",
       "    .colab-df-container {\n",
       "      display:flex;\n",
       "      flex-wrap:wrap;\n",
       "      gap: 12px;\n",
       "    }\n",
       "\n",
       "    .colab-df-convert {\n",
       "      background-color: #E8F0FE;\n",
       "      border: none;\n",
       "      border-radius: 50%;\n",
       "      cursor: pointer;\n",
       "      display: none;\n",
       "      fill: #1967D2;\n",
       "      height: 32px;\n",
       "      padding: 0 0 0 0;\n",
       "      width: 32px;\n",
       "    }\n",
       "\n",
       "    .colab-df-convert:hover {\n",
       "      background-color: #E2EBFA;\n",
       "      box-shadow: 0px 1px 2px rgba(60, 64, 67, 0.3), 0px 1px 3px 1px rgba(60, 64, 67, 0.15);\n",
       "      fill: #174EA6;\n",
       "    }\n",
       "\n",
       "    [theme=dark] .colab-df-convert {\n",
       "      background-color: #3B4455;\n",
       "      fill: #D2E3FC;\n",
       "    }\n",
       "\n",
       "    [theme=dark] .colab-df-convert:hover {\n",
       "      background-color: #434B5C;\n",
       "      box-shadow: 0px 1px 3px 1px rgba(0, 0, 0, 0.15);\n",
       "      filter: drop-shadow(0px 1px 2px rgba(0, 0, 0, 0.3));\n",
       "      fill: #FFFFFF;\n",
       "    }\n",
       "  </style>\n",
       "\n",
       "      <script>\n",
       "        const buttonEl =\n",
       "          document.querySelector('#df-014699ee-b8ac-4123-8ad3-f077850bce6c button.colab-df-convert');\n",
       "        buttonEl.style.display =\n",
       "          google.colab.kernel.accessAllowed ? 'block' : 'none';\n",
       "\n",
       "        async function convertToInteractive(key) {\n",
       "          const element = document.querySelector('#df-014699ee-b8ac-4123-8ad3-f077850bce6c');\n",
       "          const dataTable =\n",
       "            await google.colab.kernel.invokeFunction('convertToInteractive',\n",
       "                                                     [key], {});\n",
       "          if (!dataTable) return;\n",
       "\n",
       "          const docLinkHtml = 'Like what you see? Visit the ' +\n",
       "            '<a target=\"_blank\" href=https://colab.research.google.com/notebooks/data_table.ipynb>data table notebook</a>'\n",
       "            + ' to learn more about interactive tables.';\n",
       "          element.innerHTML = '';\n",
       "          dataTable['output_type'] = 'display_data';\n",
       "          await google.colab.output.renderOutput(dataTable, element);\n",
       "          const docLink = document.createElement('div');\n",
       "          docLink.innerHTML = docLinkHtml;\n",
       "          element.appendChild(docLink);\n",
       "        }\n",
       "      </script>\n",
       "    </div>\n",
       "  </div>\n",
       "  "
      ],
      "text/plain": [
       "     Pregnancies  Glucose  BloodPressure  SkinThickness  Insulin   BMI  \\\n",
       "0              6      148             72           35.0    147.0  33.6   \n",
       "1              1       85             66           29.0    147.0  26.6   \n",
       "2              8      183             64           29.0    147.0  23.3   \n",
       "3              1       89             66           23.0     94.0  28.1   \n",
       "4              0      137             40           35.0    168.0  43.1   \n",
       "..           ...      ...            ...            ...      ...   ...   \n",
       "763           10      101             76           48.0    180.0  32.9   \n",
       "764            2      122             70           27.0    147.0  36.8   \n",
       "765            5      121             72           23.0    112.0  26.2   \n",
       "766            1      126             60           29.0    147.0  30.1   \n",
       "767            1       93             70           31.0    147.0  30.4   \n",
       "\n",
       "     DiabetesPedigreeFunction   Age  Outcome  \n",
       "0                      0.6270  50.0      1.0  \n",
       "1                      0.3510  31.0      0.0  \n",
       "2                      0.6720  32.0      1.0  \n",
       "3                      0.1670  21.0      0.0  \n",
       "4                      1.3884  33.0      1.0  \n",
       "..                        ...   ...      ...  \n",
       "763                    0.1710  63.0      0.0  \n",
       "764                    0.3400  27.0      0.0  \n",
       "765                    0.2450  30.0      0.0  \n",
       "766                    0.3490  47.0      1.0  \n",
       "767                    0.3150  23.0      0.0  \n",
       "\n",
       "[768 rows x 9 columns]"
      ]
     },
     "execution_count": 25,
     "metadata": {},
     "output_type": "execute_result"
    }
   ],
   "source": [
    "dataset\n"
   ]
  },
  {
   "cell_type": "markdown",
   "id": "1Em5NRh1dcce",
   "metadata": {
    "id": "1Em5NRh1dcce"
   },
   "source": [
    "### Correlation with Target attribute"
   ]
  },
  {
   "cell_type": "code",
   "execution_count": 26,
   "id": "83450452",
   "metadata": {
    "colab": {
     "base_uri": "https://localhost:8080/",
     "height": 583
    },
    "executionInfo": {
     "elapsed": 1077,
     "status": "ok",
     "timestamp": 1686345153417,
     "user": {
      "displayName": "Zamil Zamil",
      "userId": "04811903815352297421"
     },
     "user_tz": -360
    },
    "id": "83450452",
    "outputId": "ce9eba53-e133-4466-dfc0-d38a654d6ea7"
   },
   "outputs": [
    {
     "data": {
      "image/png": "[encoded data removed]",
      "text/plain": [
       "<Figure size 1200x400 with 1 Axes>"
      ]
     },
     "metadata": {},
     "output_type": "display_data"
    }
   ],
   "source": [
    "(dataset.drop('Outcome', axis=1)\n",
    "   .corrwith(dataset.Outcome)\n",
    "   .sort_values(ascending=False)\n",
    "   .plot(kind='bar', figsize=(12, 4), title=\"Correlation with Outcome\", alpha=0.8, zorder=3)\n",
    "   .spines[['top','right', 'left']].set_visible(False)\n",
    "   )\n",
    "plt.grid(axis='y', linestyle='--', alpha=.5)\n",
    "plt.xticks(rotation = 45, ha='right', size=15);"
   ]
  },
  {
   "cell_type": "code",
   "execution_count": 27,
   "id": "2dce738f",
   "metadata": {
    "colab": {
     "base_uri": "https://localhost:8080/",
     "height": 435
    },
    "executionInfo": {
     "elapsed": 1251,
     "status": "ok",
     "timestamp": 1686345154663,
     "user": {
      "displayName": "Zamil Zamil",
      "userId": "04811903815352297421"
     },
     "user_tz": -360
    },
    "id": "2dce738f",
    "outputId": "e6d8b858-6f74-46c3-9569-b4bd194b2e1d"
   },
   "outputs": [
    {
     "data": {
      "image/png": "[encoded data removed]",
      "text/plain": [
       "<Figure size 640x480 with 2 Axes>"
      ]
     },
     "metadata": {},
     "output_type": "display_data"
    }
   ],
   "source": [
    "corr = dataset.corr()['Outcome'].sort_values(ascending=False)\n",
    "sns.heatmap(corr.to_frame(), cmap='RdYlGn', annot=True, fmt='.2f');"
   ]
  },
  {
   "cell_type": "markdown",
   "id": "HTMPWRILfQRF",
   "metadata": {
    "id": "HTMPWRILfQRF"
   },
   "source": [
    "### Using ExtraTreesClassifier to find the best feature"
   ]
  },
  {
   "cell_type": "code",
   "execution_count": 28,
   "id": "73836fd2",
   "metadata": {
    "colab": {
     "base_uri": "https://localhost:8080/",
     "height": 430
    },
    "executionInfo": {
     "elapsed": 2391,
     "status": "ok",
     "timestamp": 1686345157052,
     "user": {
      "displayName": "Zamil Zamil",
      "userId": "04811903815352297421"
     },
     "user_tz": -360
    },
    "id": "73836fd2",
    "outputId": "72986689-7ccb-4592-de66-c8903df7685b"
   },
   "outputs": [
    {
     "data": {
      "image/png": "[encoded data removed]",
      "text/plain": [
       "<Figure size 640x480 with 1 Axes>"
      ]
     },
     "metadata": {},
     "output_type": "display_data"
    }
   ],
   "source": [
    "\n",
    "from sklearn.ensemble import ExtraTreesClassifier\n",
    "\n",
    "# Split the dataset into X and y\n",
    "X = dataset.drop(columns=[\"Outcome\"])\n",
    "y = dataset[\"Outcome\"]\n",
    "\n",
    "# initialize ExtraTreesClassifier\n",
    "model = ExtraTreesClassifier()\n",
    "\n",
    "# fit the model to your dataset\n",
    "model.fit(X, y)\n",
    "\n",
    "# plot feature importances\n",
    "feat_importances = pd.Series(model.feature_importances_, index=X.columns)\n",
    "feat_importances.nlargest(15).plot(kind='barh')\n",
    "plt.show()"
   ]
  },
  {
   "cell_type": "markdown",
   "id": "n9h7wDxDgY08",
   "metadata": {
    "id": "n9h7wDxDgY08"
   },
   "source": [
    "### Using SelectKBest to get more efficient feature"
   ]
  },
  {
   "cell_type": "code",
   "execution_count": 29,
   "id": "3e2500a4",
   "metadata": {
    "colab": {
     "base_uri": "https://localhost:8080/"
    },
    "executionInfo": {
     "elapsed": 5,
     "status": "ok",
     "timestamp": 1686345157052,
     "user": {
      "displayName": "Zamil Zamil",
      "userId": "04811903815352297421"
     },
     "user_tz": -360
    },
    "id": "3e2500a4",
    "outputId": "d9a44bbe-d938-4b55-d1a8-ad41ffa891c7"
   },
   "outputs": [
    {
     "name": "stdout",
     "output_type": "stream",
     "text": [
      "                    Feature        Score\n",
      "0                   Glucose  1412.839409\n",
      "1                   Insulin  1268.739094\n",
      "2                       Age   182.480280\n",
      "3                       BMI   120.127438\n",
      "4               Pregnancies   111.027046\n",
      "5             SkinThickness    92.046303\n",
      "6             BloodPressure    25.955584\n",
      "7  DiabetesPedigreeFunction     4.911958\n"
     ]
    }
   ],
   "source": [
    "\n",
    "from sklearn.feature_selection import SelectKBest, chi2\n",
    "\n",
    "# Split the dataset into X and y\n",
    "X = dataset.drop(columns=[\"Outcome\"])\n",
    "y = dataset[\"Outcome\"]\n",
    "\n",
    "# Select the top 10 features with the highest ANOVA F-value\n",
    "k = 8\n",
    "selector = SelectKBest(score_func=chi2, k=k)\n",
    "X_new = selector.fit_transform(X, y)\n",
    "\n",
    "# Define feature names\n",
    "feature_names = list(X.columns)\n",
    "\n",
    "# Create a pandas dataframe of feature scores\n",
    "scores_df = pd.DataFrame({'Feature': feature_names, 'Score': selector.scores_})\n",
    "\n",
    "# Sort the dataframe by feature scores in descending order\n",
    "scores_df = scores_df.sort_values('Score', ascending=False).reset_index(drop=True)\n",
    "\n",
    "# Print the dataframe\n",
    "print(scores_df)"
   ]
  },
  {
   "cell_type": "markdown",
   "id": "xd7qMTrEgc4O",
   "metadata": {
    "id": "xd7qMTrEgc4O"
   },
   "source": [
    "### Combining SelectKBest with ExtraTreesClassifier"
   ]
  },
  {
   "cell_type": "code",
   "execution_count": 30,
   "id": "1e49c34e",
   "metadata": {
    "colab": {
     "base_uri": "https://localhost:8080/",
     "height": 472
    },
    "executionInfo": {
     "elapsed": 1370,
     "status": "ok",
     "timestamp": 1686345158418,
     "user": {
      "displayName": "Zamil Zamil",
      "userId": "04811903815352297421"
     },
     "user_tz": -360
    },
    "id": "1e49c34e",
    "outputId": "4acb91bf-9322-45b4-848c-efaac885c595"
   },
   "outputs": [
    {
     "data": {
      "image/png": "[encoded data removed]",
      "text/plain": [
       "<Figure size 640x480 with 1 Axes>"
      ]
     },
     "metadata": {},
     "output_type": "display_data"
    }
   ],
   "source": [
    "\n",
    "from sklearn.ensemble import ExtraTreesClassifier\n",
    "from sklearn.feature_selection import SelectKBest, chi2\n",
    "\n",
    "# Split the dataset into X and y\n",
    "X = dataset.drop(columns=[\"Outcome\"])\n",
    "y = dataset[\"Outcome\"]\n",
    "\n",
    "# Feature selection with SelectKBest\n",
    "k = 8\n",
    "selector = SelectKBest(score_func=chi2, k=k)\n",
    "X_new = selector.fit_transform(X, y)\n",
    "\n",
    "# Get the selected feature names\n",
    "feature_names = X.columns[selector.get_support()]\n",
    "\n",
    "# Feature importance with ExtraTreesClassifier\n",
    "model = ExtraTreesClassifier()\n",
    "model.fit(X_new, y)\n",
    "\n",
    "# Plot the feature importances\n",
    "feat_importances = pd.Series(model.feature_importances_, index=feature_names)\n",
    "feat_importances.nlargest(k).plot(kind='barh')\n",
    "plt.title(\"Feature Importances\")\n",
    "plt.xlabel(\"Importance\")\n",
    "plt.ylabel(\"Feature\")\n",
    "plt.show()"
   ]
  },
  {
   "cell_type": "markdown",
   "id": "VqkiCi69gm_O",
   "metadata": {
    "id": "VqkiCi69gm_O"
   },
   "source": [
    "### List of columns sorted by Pearson correlation"
   ]
  },
  {
   "cell_type": "code",
   "execution_count": 31,
   "id": "643af4d3",
   "metadata": {
    "colab": {
     "base_uri": "https://localhost:8080/"
    },
    "executionInfo": {
     "elapsed": 10,
     "status": "ok",
     "timestamp": 1686345158419,
     "user": {
      "displayName": "Zamil Zamil",
      "userId": "04811903815352297421"
     },
     "user_tz": -360
    },
    "id": "643af4d3",
    "outputId": "28cfb9cb-426f-4536-b32e-217c70b89619"
   },
   "outputs": [
    {
     "data": {
      "text/plain": [
       "Glucose                     0.472751\n",
       "BMI                         0.303764\n",
       "Age                         0.239968\n",
       "Insulin                     0.235812\n",
       "Pregnancies                 0.221692\n",
       "SkinThickness               0.215241\n",
       "DiabetesPedigreeFunction    0.181521\n",
       "BloodPressure               0.100662\n",
       "dtype: float64"
      ]
     },
     "execution_count": 31,
     "metadata": {},
     "output_type": "execute_result"
    }
   ],
   "source": [
    "\n",
    "pear_coor = (dataset.drop('Outcome', axis=1).corrwith(dataset.Outcome).abs().sort_values(ascending=False))\n",
    "pear_coor"
   ]
  },
  {
   "cell_type": "code",
   "execution_count": 32,
   "id": "3af8175c",
   "metadata": {
    "colab": {
     "base_uri": "https://localhost:8080/"
    },
    "executionInfo": {
     "elapsed": 8,
     "status": "ok",
     "timestamp": 1686345158419,
     "user": {
      "displayName": "Zamil Zamil",
      "userId": "04811903815352297421"
     },
     "user_tz": -360
    },
    "id": "3af8175c",
    "outputId": "66b4647f-4202-49b1-cc1d-105147d60136"
   },
   "outputs": [
    {
     "data": {
      "text/plain": [
       "Glucose                     0.472751\n",
       "BMI                         0.303764\n",
       "Age                         0.239968\n",
       "Insulin                     0.235812\n",
       "Pregnancies                 0.221692\n",
       "SkinThickness               0.215241\n",
       "DiabetesPedigreeFunction    0.181521\n",
       "BloodPressure               0.100662\n",
       "dtype: float64"
      ]
     },
     "execution_count": 32,
     "metadata": {},
     "output_type": "execute_result"
    }
   ],
   "source": [
    "pear_coor[pear_coor>0.05]"
   ]
  },
  {
   "cell_type": "markdown",
   "id": "Iaycl39pgunl",
   "metadata": {
    "id": "Iaycl39pgunl"
   },
   "source": [
    "### Feature selection using SelectionKBest"
   ]
  },
  {
   "cell_type": "code",
   "execution_count": 33,
   "id": "95b53ea9",
   "metadata": {
    "colab": {
     "base_uri": "https://localhost:8080/",
     "height": 472
    },
    "executionInfo": {
     "elapsed": 683,
     "status": "ok",
     "timestamp": 1686345159098,
     "user": {
      "displayName": "Zamil Zamil",
      "userId": "04811903815352297421"
     },
     "user_tz": -360
    },
    "id": "95b53ea9",
    "outputId": "db234750-cc25-4a17-a24c-74c4da279f3f"
   },
   "outputs": [
    {
     "data": {
      "image/png": "[encoded data removed]",
      "text/plain": [
       "<Figure size 640x480 with 1 Axes>"
      ]
     },
     "metadata": {},
     "output_type": "display_data"
    }
   ],
   "source": [
    "from sklearn.feature_selection import SelectKBest, chi2\n",
    "\n",
    "\n",
    "# Split the data into features and target variable\n",
    "X = dataset.drop('Outcome', axis=1)\n",
    "y = dataset['Outcome']\n",
    "\n",
    "# Create a SelectKBest object\n",
    "selector = SelectKBest(score_func=chi2, k=8)\n",
    "\n",
    "# Fit the selector to the data\n",
    "selector.fit(X, y)\n",
    "\n",
    "# Get the indices of the selected features\n",
    "selected_features = selector.get_support()\n",
    "\n",
    "# Print the names of the selected features\n",
    "# print(X.columns[selected_features])\n",
    "\n",
    "# Get the names of the selected features\n",
    "feature_names = X.columns[selected_features]\n",
    "\n",
    "# Plotting the bar diagram\n",
    "scores = selector.scores_[selected_features]\n",
    "y_pos = np.arange(len(feature_names))\n",
    "\n",
    "\n",
    "plt.barh(y_pos, scores, align='center', color='blue')\n",
    "plt.yticks(y_pos, feature_names)\n",
    "plt.xlabel('Chi-Squared Score')\n",
    "\n",
    "plt.title('Feature Importance')\n",
    "\n",
    "plt.show()"
   ]
  },
  {
   "cell_type": "markdown",
   "id": "he9AVg1uKlgF",
   "metadata": {
    "id": "he9AVg1uKlgF"
   },
   "source": [
    "# Determining Test Size Using Cross Validation Score"
   ]
  },
  {
   "cell_type": "markdown",
   "id": "ywsKNLOJe-Vt",
   "metadata": {
    "id": "ywsKNLOJe-Vt"
   },
   "source": [
    "### Checking the ratio of Target attribute in dataset"
   ]
  },
  {
   "cell_type": "code",
   "execution_count": 34,
   "id": "0241b189",
   "metadata": {
    "colab": {
     "base_uri": "https://localhost:8080/",
     "height": 428
    },
    "executionInfo": {
     "elapsed": 645,
     "status": "ok",
     "timestamp": 1686345159740,
     "user": {
      "displayName": "Zamil Zamil",
      "userId": "04811903815352297421"
     },
     "user_tz": -360
    },
    "id": "0241b189",
    "outputId": "d3dbda6c-3d6c-4d65-cf46-e936206bf29d"
   },
   "outputs": [
    {
     "data": {
      "image/png": "[encoded data removed]",
      "text/plain": [
       "<Figure size 640x480 with 1 Axes>"
      ]
     },
     "metadata": {},
     "output_type": "display_data"
    }
   ],
   "source": [
    "# Count the frequency of each price range category\n",
    "counts = dataset['Outcome'].value_counts()\n",
    "\n",
    "# Create a pie chart\n",
    "plt.pie(counts.values, labels=['Diabetes Negative','Diabetes Positive'], autopct='%1.1f%%')\n",
    "plt.title('Distribution of Diabetes Paitent ')\n",
    "plt.show()"
   ]
  },
  {
   "cell_type": "code",
   "execution_count": 35,
   "id": "b9c40983",
   "metadata": {
    "colab": {
     "base_uri": "https://localhost:8080/"
    },
    "executionInfo": {
     "elapsed": 11,
     "status": "ok",
     "timestamp": 1686345159741,
     "user": {
      "displayName": "Zamil Zamil",
      "userId": "04811903815352297421"
     },
     "user_tz": -360
    },
    "id": "b9c40983",
    "outputId": "9228acba-8c94-478d-d6bb-10955fbd1e49"
   },
   "outputs": [
    {
     "data": {
      "text/plain": [
       "0.0    500\n",
       "1.0    268\n",
       "Name: Outcome, dtype: int64"
      ]
     },
     "execution_count": 35,
     "metadata": {},
     "output_type": "execute_result"
    }
   ],
   "source": [
    "counts = dataset['Outcome'].value_counts()\n",
    "counts"
   ]
  },
  {
   "cell_type": "markdown",
   "id": "JQnY171HxTcf",
   "metadata": {
    "id": "JQnY171HxTcf"
   },
   "source": [
    "### Observing Decision Tree Test Size"
   ]
  },
  {
   "cell_type": "code",
   "execution_count": 36,
   "id": "c1fec094",
   "metadata": {
    "colab": {
     "base_uri": "https://localhost:8080/",
     "height": 165
    },
    "executionInfo": {
     "elapsed": 3050,
     "status": "ok",
     "timestamp": 1686345162786,
     "user": {
      "displayName": "Zamil Zamil",
      "userId": "04811903815352297421"
     },
     "user_tz": -360
    },
    "id": "c1fec094",
    "outputId": "bd2d8f6c-5549-44fb-9e84-e65166dcc1ce"
   },
   "outputs": [
    {
     "name": "stdout",
     "output_type": "stream",
     "text": [
      "Results for Decision Tree Classifier:\n"
     ]
    },
    {
     "data": {
      "text/html": [
       "<style type=\"text/css\">\n",
       "#T_b6b6b_row0_col0, #T_b6b6b_row1_col0, #T_b6b6b_row2_col6, #T_b6b6b_row3_col0, #T_b6b6b_row4_col0 {\n",
       "  background-color: #f46d43;\n",
       "}\n",
       "</style>\n",
       "<table id=\"T_b6b6b\">\n",
       "  <thead>\n",
       "    <tr>\n",
       "      <th class=\"blank level0\" >&nbsp;</th>\n",
       "      <th id=\"T_b6b6b_level0_col0\" class=\"col_heading level0 col0\" >Test Size 0.10</th>\n",
       "      <th id=\"T_b6b6b_level0_col1\" class=\"col_heading level0 col1\" >Test Size 0.15</th>\n",
       "      <th id=\"T_b6b6b_level0_col2\" class=\"col_heading level0 col2\" >Test Size 0.20</th>\n",
       "      <th id=\"T_b6b6b_level0_col3\" class=\"col_heading level0 col3\" >Test Size 0.25</th>\n",
       "      <th id=\"T_b6b6b_level0_col4\" class=\"col_heading level0 col4\" >Test Size 0.30</th>\n",
       "      <th id=\"T_b6b6b_level0_col5\" class=\"col_heading level0 col5\" >Test Size 0.35</th>\n",
       "      <th id=\"T_b6b6b_level0_col6\" class=\"col_heading level0 col6\" >Test Size 0.40</th>\n",
       "      <th id=\"T_b6b6b_level0_col7\" class=\"col_heading level0 col7\" >Test Size 0.45</th>\n",
       "    </tr>\n",
       "  </thead>\n",
       "  <tbody>\n",
       "    <tr>\n",
       "      <th id=\"T_b6b6b_level0_row0\" class=\"row_heading level0 row0\" >0</th>\n",
       "      <td id=\"T_b6b6b_row0_col0\" class=\"data row0 col0\" >0.717767</td>\n",
       "      <td id=\"T_b6b6b_row0_col1\" class=\"data row0 col1\" >0.700857</td>\n",
       "      <td id=\"T_b6b6b_row0_col2\" class=\"data row0 col2\" >0.693762</td>\n",
       "      <td id=\"T_b6b6b_row0_col3\" class=\"data row0 col3\" >0.697391</td>\n",
       "      <td id=\"T_b6b6b_row0_col4\" class=\"data row0 col4\" >0.690810</td>\n",
       "      <td id=\"T_b6b6b_row0_col5\" class=\"data row0 col5\" >0.667172</td>\n",
       "      <td id=\"T_b6b6b_row0_col6\" class=\"data row0 col6\" >0.700000</td>\n",
       "      <td id=\"T_b6b6b_row0_col7\" class=\"data row0 col7\" >0.670728</td>\n",
       "    </tr>\n",
       "    <tr>\n",
       "      <th id=\"T_b6b6b_level0_row1\" class=\"row_heading level0 row1\" >1</th>\n",
       "      <td id=\"T_b6b6b_row1_col0\" class=\"data row1 col0\" >0.719278</td>\n",
       "      <td id=\"T_b6b6b_row1_col1\" class=\"data row1 col1\" >0.702408</td>\n",
       "      <td id=\"T_b6b6b_row1_col2\" class=\"data row1 col2\" >0.690577</td>\n",
       "      <td id=\"T_b6b6b_row1_col3\" class=\"data row1 col3\" >0.674783</td>\n",
       "      <td id=\"T_b6b6b_row1_col4\" class=\"data row1 col4\" >0.711250</td>\n",
       "      <td id=\"T_b6b6b_row1_col5\" class=\"data row1 col5\" >0.695273</td>\n",
       "      <td id=\"T_b6b6b_row1_col6\" class=\"data row1 col6\" >0.693478</td>\n",
       "      <td id=\"T_b6b6b_row1_col7\" class=\"data row1 col7\" >0.661232</td>\n",
       "    </tr>\n",
       "    <tr>\n",
       "      <th id=\"T_b6b6b_level0_row2\" class=\"row_heading level0 row2\" >2</th>\n",
       "      <td id=\"T_b6b6b_row2_col0\" class=\"data row2 col0\" >0.719237</td>\n",
       "      <td id=\"T_b6b6b_row2_col1\" class=\"data row2 col1\" >0.705473</td>\n",
       "      <td id=\"T_b6b6b_row2_col2\" class=\"data row2 col2\" >0.690550</td>\n",
       "      <td id=\"T_b6b6b_row2_col3\" class=\"data row2 col3\" >0.685217</td>\n",
       "      <td id=\"T_b6b6b_row2_col4\" class=\"data row2 col4\" >0.700121</td>\n",
       "      <td id=\"T_b6b6b_row2_col5\" class=\"data row2 col5\" >0.689293</td>\n",
       "      <td id=\"T_b6b6b_row2_col6\" class=\"data row2 col6\" >0.739130</td>\n",
       "      <td id=\"T_b6b6b_row2_col7\" class=\"data row2 col7\" >0.661289</td>\n",
       "    </tr>\n",
       "    <tr>\n",
       "      <th id=\"T_b6b6b_level0_row3\" class=\"row_heading level0 row3\" >3</th>\n",
       "      <td id=\"T_b6b6b_row3_col0\" class=\"data row3 col0\" >0.723564</td>\n",
       "      <td id=\"T_b6b6b_row3_col1\" class=\"data row3 col1\" >0.703911</td>\n",
       "      <td id=\"T_b6b6b_row3_col2\" class=\"data row3 col2\" >0.690524</td>\n",
       "      <td id=\"T_b6b6b_row3_col3\" class=\"data row3 col3\" >0.681739</td>\n",
       "      <td id=\"T_b6b6b_row3_col4\" class=\"data row3 col4\" >0.698287</td>\n",
       "      <td id=\"T_b6b6b_row3_col5\" class=\"data row3 col5\" >0.695212</td>\n",
       "      <td id=\"T_b6b6b_row3_col6\" class=\"data row3 col6\" >0.702174</td>\n",
       "      <td id=\"T_b6b6b_row3_col7\" class=\"data row3 col7\" >0.677815</td>\n",
       "    </tr>\n",
       "    <tr>\n",
       "      <th id=\"T_b6b6b_level0_row4\" class=\"row_heading level0 row4\" >4</th>\n",
       "      <td id=\"T_b6b6b_row4_col0\" class=\"data row4 col0\" >0.714910</td>\n",
       "      <td id=\"T_b6b6b_row4_col1\" class=\"data row4 col1\" >0.710076</td>\n",
       "      <td id=\"T_b6b6b_row4_col2\" class=\"data row4 col2\" >0.700280</td>\n",
       "      <td id=\"T_b6b6b_row4_col3\" class=\"data row4 col3\" >0.685217</td>\n",
       "      <td id=\"T_b6b6b_row4_col4\" class=\"data row4 col4\" >0.694548</td>\n",
       "      <td id=\"T_b6b6b_row4_col5\" class=\"data row4 col5\" >0.681293</td>\n",
       "      <td id=\"T_b6b6b_row4_col6\" class=\"data row4 col6\" >0.710870</td>\n",
       "      <td id=\"T_b6b6b_row4_col7\" class=\"data row4 col7\" >0.670784</td>\n",
       "    </tr>\n",
       "  </tbody>\n",
       "</table>\n"
      ],
      "text/plain": [
       "<IPython.core.display.HTML object>"
      ]
     },
     "metadata": {},
     "output_type": "display_data"
    }
   ],
   "source": [
    "\n",
    "from sklearn.tree import DecisionTreeClassifier\n",
    "from sklearn.model_selection import train_test_split, cross_val_score\n",
    "from IPython.display import HTML\n",
    "\n",
    "# Load data from CSV file\n",
    "# ds = pd.read_csv('/content/drive/MyDrive/cse445 dataset/diabetes.csv')\n",
    "\n",
    "# Split the data into training and testing sets\n",
    "X = dataset.drop('Outcome', axis=1)\n",
    "y = dataset['Outcome']\n",
    "\n",
    "# Define range of test sizes to try\n",
    "test_sizes = np.arange(0.1, 0.5, 0.05)\n",
    "\n",
    "# Create a decision tree classifier\n",
    "clf = DecisionTreeClassifier()\n",
    "\n",
    "# Repeat the cross-validation 5 times and store the results in a list\n",
    "n_runs = 5\n",
    "results = []\n",
    "for run in range(n_runs):\n",
    "    scores = []\n",
    "    for test_size in test_sizes:\n",
    "        X_train, X_test, y_train, y_test = train_test_split(X, y, test_size=test_size, random_state=42)\n",
    "        score = np.mean(cross_val_score(clf, X_train, y_train, cv=5))\n",
    "        scores.append(score)\n",
    "    results.append(scores)\n",
    "\n",
    "# Convert the results to a dataframe\n",
    "results_df = pd.DataFrame(results, columns=[f\"Test Size {ts:.2f}\" for ts in test_sizes])\n",
    "\n",
    "# Highlight the highest result in each row\n",
    "results_highlighted = results_df.style.highlight_max(color='#f46d43', axis=1)\n",
    "\n",
    "# Print the highlighted results in a table format\n",
    "print(\"Results for Decision Tree Classifier:\")\n",
    "html = results_highlighted.render()\n",
    "display(HTML(html))"
   ]
  },
  {
   "cell_type": "markdown",
   "id": "GmvbbM-bK_zm",
   "metadata": {
    "id": "GmvbbM-bK_zm"
   },
   "source": [
    "### Observing K-Nearest Neighbors Test Size"
   ]
  },
  {
   "cell_type": "code",
   "execution_count": 37,
   "id": "4a192d88",
   "metadata": {
    "colab": {
     "base_uri": "https://localhost:8080/",
     "height": 165
    },
    "executionInfo": {
     "elapsed": 4335,
     "status": "ok",
     "timestamp": 1686345167118,
     "user": {
      "displayName": "Zamil Zamil",
      "userId": "04811903815352297421"
     },
     "user_tz": -360
    },
    "id": "4a192d88",
    "outputId": "36012ba2-1c48-4050-f4ac-8af8b11557f9"
   },
   "outputs": [
    {
     "name": "stdout",
     "output_type": "stream",
     "text": [
      "K-Nearest Neighbors Algorithm:\n"
     ]
    },
    {
     "data": {
      "text/html": [
       "<style type=\"text/css\">\n",
       "#T_75628_row0_col1, #T_75628_row1_col1, #T_75628_row2_col1, #T_75628_row3_col1, #T_75628_row4_col1 {\n",
       "  background-color: #f46d43;\n",
       "}\n",
       "</style>\n",
       "<table id=\"T_75628\">\n",
       "  <thead>\n",
       "    <tr>\n",
       "      <th class=\"blank level0\" >&nbsp;</th>\n",
       "      <th id=\"T_75628_level0_col0\" class=\"col_heading level0 col0\" >Test Size 0.10</th>\n",
       "      <th id=\"T_75628_level0_col1\" class=\"col_heading level0 col1\" >Test Size 0.15</th>\n",
       "      <th id=\"T_75628_level0_col2\" class=\"col_heading level0 col2\" >Test Size 0.20</th>\n",
       "      <th id=\"T_75628_level0_col3\" class=\"col_heading level0 col3\" >Test Size 0.25</th>\n",
       "      <th id=\"T_75628_level0_col4\" class=\"col_heading level0 col4\" >Test Size 0.30</th>\n",
       "      <th id=\"T_75628_level0_col5\" class=\"col_heading level0 col5\" >Test Size 0.35</th>\n",
       "      <th id=\"T_75628_level0_col6\" class=\"col_heading level0 col6\" >Test Size 0.40</th>\n",
       "      <th id=\"T_75628_level0_col7\" class=\"col_heading level0 col7\" >Test Size 0.45</th>\n",
       "    </tr>\n",
       "  </thead>\n",
       "  <tbody>\n",
       "    <tr>\n",
       "      <th id=\"T_75628_level0_row0\" class=\"row_heading level0 row0\" >0</th>\n",
       "      <td id=\"T_75628_row0_col0\" class=\"data row0 col0\" >0.754009</td>\n",
       "      <td id=\"T_75628_row0_col1\" class=\"data row0 col1\" >0.765308</td>\n",
       "      <td id=\"T_75628_row0_col2\" class=\"data row0 col2\" >0.755764</td>\n",
       "      <td id=\"T_75628_row0_col3\" class=\"data row0 col3\" >0.756522</td>\n",
       "      <td id=\"T_75628_row0_col4\" class=\"data row0 col4\" >0.761578</td>\n",
       "      <td id=\"T_75628_row0_col5\" class=\"data row0 col5\" >0.753475</td>\n",
       "      <td id=\"T_75628_row0_col6\" class=\"data row0 col6\" >0.717391</td>\n",
       "      <td id=\"T_75628_row0_col7\" class=\"data row0 col7\" >0.727563</td>\n",
       "    </tr>\n",
       "    <tr>\n",
       "      <th id=\"T_75628_level0_row1\" class=\"row_heading level0 row1\" >1</th>\n",
       "      <td id=\"T_75628_row1_col0\" class=\"data row1 col0\" >0.754009</td>\n",
       "      <td id=\"T_75628_row1_col1\" class=\"data row1 col1\" >0.765308</td>\n",
       "      <td id=\"T_75628_row1_col2\" class=\"data row1 col2\" >0.755764</td>\n",
       "      <td id=\"T_75628_row1_col3\" class=\"data row1 col3\" >0.756522</td>\n",
       "      <td id=\"T_75628_row1_col4\" class=\"data row1 col4\" >0.761578</td>\n",
       "      <td id=\"T_75628_row1_col5\" class=\"data row1 col5\" >0.753475</td>\n",
       "      <td id=\"T_75628_row1_col6\" class=\"data row1 col6\" >0.717391</td>\n",
       "      <td id=\"T_75628_row1_col7\" class=\"data row1 col7\" >0.727563</td>\n",
       "    </tr>\n",
       "    <tr>\n",
       "      <th id=\"T_75628_level0_row2\" class=\"row_heading level0 row2\" >2</th>\n",
       "      <td id=\"T_75628_row2_col0\" class=\"data row2 col0\" >0.754009</td>\n",
       "      <td id=\"T_75628_row2_col1\" class=\"data row2 col1\" >0.765308</td>\n",
       "      <td id=\"T_75628_row2_col2\" class=\"data row2 col2\" >0.755764</td>\n",
       "      <td id=\"T_75628_row2_col3\" class=\"data row2 col3\" >0.756522</td>\n",
       "      <td id=\"T_75628_row2_col4\" class=\"data row2 col4\" >0.761578</td>\n",
       "      <td id=\"T_75628_row2_col5\" class=\"data row2 col5\" >0.753475</td>\n",
       "      <td id=\"T_75628_row2_col6\" class=\"data row2 col6\" >0.717391</td>\n",
       "      <td id=\"T_75628_row2_col7\" class=\"data row2 col7\" >0.727563</td>\n",
       "    </tr>\n",
       "    <tr>\n",
       "      <th id=\"T_75628_level0_row3\" class=\"row_heading level0 row3\" >3</th>\n",
       "      <td id=\"T_75628_row3_col0\" class=\"data row3 col0\" >0.754009</td>\n",
       "      <td id=\"T_75628_row3_col1\" class=\"data row3 col1\" >0.765308</td>\n",
       "      <td id=\"T_75628_row3_col2\" class=\"data row3 col2\" >0.755764</td>\n",
       "      <td id=\"T_75628_row3_col3\" class=\"data row3 col3\" >0.756522</td>\n",
       "      <td id=\"T_75628_row3_col4\" class=\"data row3 col4\" >0.761578</td>\n",
       "      <td id=\"T_75628_row3_col5\" class=\"data row3 col5\" >0.753475</td>\n",
       "      <td id=\"T_75628_row3_col6\" class=\"data row3 col6\" >0.717391</td>\n",
       "      <td id=\"T_75628_row3_col7\" class=\"data row3 col7\" >0.727563</td>\n",
       "    </tr>\n",
       "    <tr>\n",
       "      <th id=\"T_75628_level0_row4\" class=\"row_heading level0 row4\" >4</th>\n",
       "      <td id=\"T_75628_row4_col0\" class=\"data row4 col0\" >0.754009</td>\n",
       "      <td id=\"T_75628_row4_col1\" class=\"data row4 col1\" >0.765308</td>\n",
       "      <td id=\"T_75628_row4_col2\" class=\"data row4 col2\" >0.755764</td>\n",
       "      <td id=\"T_75628_row4_col3\" class=\"data row4 col3\" >0.756522</td>\n",
       "      <td id=\"T_75628_row4_col4\" class=\"data row4 col4\" >0.761578</td>\n",
       "      <td id=\"T_75628_row4_col5\" class=\"data row4 col5\" >0.753475</td>\n",
       "      <td id=\"T_75628_row4_col6\" class=\"data row4 col6\" >0.717391</td>\n",
       "      <td id=\"T_75628_row4_col7\" class=\"data row4 col7\" >0.727563</td>\n",
       "    </tr>\n",
       "  </tbody>\n",
       "</table>\n"
      ],
      "text/plain": [
       "<IPython.core.display.HTML object>"
      ]
     },
     "metadata": {},
     "output_type": "display_data"
    }
   ],
   "source": [
    "\n",
    "\n",
    "from sklearn.neighbors import KNeighborsClassifier\n",
    "from sklearn.preprocessing import StandardScaler\n",
    "\n",
    "# Load data from CSV file\n",
    "# ds = pd.read_csv('/content/drive/MyDrive/cse445 dataset/diabetes.csv')\n",
    "\n",
    "# Split the data into training and testing sets\n",
    "X = dataset.drop('Outcome', axis=1)\n",
    "y = dataset['Outcome']\n",
    "\n",
    "\n",
    "# Define range of test sizes to try\n",
    "test_sizes = np.arange(0.1, 0.5, 0.05)\n",
    "\n",
    "# Create a K Nearest Neighbors classifier\n",
    "clf = KNeighborsClassifier()\n",
    "\n",
    "# Create a standard scaler object\n",
    "std = StandardScaler()\n",
    "\n",
    "# Repeat the cross-validation 5 times and store the results in a list\n",
    "n_runs = 5\n",
    "results = []\n",
    "for run in range(n_runs):\n",
    "    scores = []\n",
    "    for test_size in test_sizes:\n",
    "        X_train, X_test, y_train, y_test = train_test_split(X, y, test_size=test_size, random_state=42)\n",
    "        # Scale the data using the standard scaler object\n",
    "        X_train_std = std.fit_transform(X_train)\n",
    "        X_test_std = std.transform(X_test)\n",
    "        clf.fit(X_train_std, y_train)\n",
    "        score = np.mean(cross_val_score(clf, X_train_std, y_train, cv=5))\n",
    "        scores.append(score)\n",
    "    results.append(scores)\n",
    "\n",
    "# Convert the results to a dataframe\n",
    "results_df = pd.DataFrame(results, columns=[f\"Test Size {ts:.2f}\" for ts in test_sizes])\n",
    "\n",
    "# Highlight the highest result in each row\n",
    "results_highlighted = results_df.style.highlight_max(color='#f46d43', axis=1)\n",
    "\n",
    "# Print the highlighted results in a table format\n",
    "print(\"K-Nearest Neighbors Algorithm:\")\n",
    "html = results_highlighted.render()\n",
    "display(HTML(html))"
   ]
  },
  {
   "cell_type": "markdown",
   "id": "GXKn-0IhK0T2",
   "metadata": {
    "id": "GXKn-0IhK0T2"
   },
   "source": [
    "### Observing Multinomial Naive Bayes Test Size"
   ]
  },
  {
   "cell_type": "code",
   "execution_count": 38,
   "id": "b6cae702",
   "metadata": {
    "colab": {
     "base_uri": "https://localhost:8080/",
     "height": 165
    },
    "executionInfo": {
     "elapsed": 5373,
     "status": "ok",
     "timestamp": 1686345172485,
     "user": {
      "displayName": "Zamil Zamil",
      "userId": "04811903815352297421"
     },
     "user_tz": -360
    },
    "id": "b6cae702",
    "outputId": "ddabd85d-f336-4205-f9ef-e4b0c009aab5"
   },
   "outputs": [
    {
     "name": "stdout",
     "output_type": "stream",
     "text": [
      "Multinomial Naive Bayes Algorithm:\n"
     ]
    },
    {
     "data": {
      "text/html": [
       "<style type=\"text/css\">\n",
       "#T_d241f_row0_col0, #T_d241f_row1_col0, #T_d241f_row2_col0, #T_d241f_row3_col0, #T_d241f_row4_col0 {\n",
       "  background-color: #f46d43;\n",
       "}\n",
       "</style>\n",
       "<table id=\"T_d241f\">\n",
       "  <thead>\n",
       "    <tr>\n",
       "      <th class=\"blank level0\" >&nbsp;</th>\n",
       "      <th id=\"T_d241f_level0_col0\" class=\"col_heading level0 col0\" >Test Size 0.10</th>\n",
       "      <th id=\"T_d241f_level0_col1\" class=\"col_heading level0 col1\" >Test Size 0.15</th>\n",
       "      <th id=\"T_d241f_level0_col2\" class=\"col_heading level0 col2\" >Test Size 0.20</th>\n",
       "      <th id=\"T_d241f_level0_col3\" class=\"col_heading level0 col3\" >Test Size 0.25</th>\n",
       "      <th id=\"T_d241f_level0_col4\" class=\"col_heading level0 col4\" >Test Size 0.30</th>\n",
       "      <th id=\"T_d241f_level0_col5\" class=\"col_heading level0 col5\" >Test Size 0.35</th>\n",
       "      <th id=\"T_d241f_level0_col6\" class=\"col_heading level0 col6\" >Test Size 0.40</th>\n",
       "      <th id=\"T_d241f_level0_col7\" class=\"col_heading level0 col7\" >Test Size 0.45</th>\n",
       "    </tr>\n",
       "  </thead>\n",
       "  <tbody>\n",
       "    <tr>\n",
       "      <th id=\"T_d241f_level0_row0\" class=\"row_heading level0 row0\" >0</th>\n",
       "      <td id=\"T_d241f_row0_col0\" class=\"data row0 col0\" >0.664269</td>\n",
       "      <td id=\"T_d241f_row0_col1\" class=\"data row0 col1\" >0.658027</td>\n",
       "      <td id=\"T_d241f_row0_col2\" class=\"data row0 col2\" >0.661282</td>\n",
       "      <td id=\"T_d241f_row0_col3\" class=\"data row0 col3\" >0.660870</td>\n",
       "      <td id=\"T_d241f_row0_col4\" class=\"data row0 col4\" >0.661215</td>\n",
       "      <td id=\"T_d241f_row0_col5\" class=\"data row0 col5\" >0.651434</td>\n",
       "      <td id=\"T_d241f_row0_col6\" class=\"data row0 col6\" >0.641304</td>\n",
       "      <td id=\"T_d241f_row0_col7\" class=\"data row0 col7\" >0.637619</td>\n",
       "    </tr>\n",
       "    <tr>\n",
       "      <th id=\"T_d241f_level0_row1\" class=\"row_heading level0 row1\" >1</th>\n",
       "      <td id=\"T_d241f_row1_col0\" class=\"data row1 col0\" >0.664269</td>\n",
       "      <td id=\"T_d241f_row1_col1\" class=\"data row1 col1\" >0.658027</td>\n",
       "      <td id=\"T_d241f_row1_col2\" class=\"data row1 col2\" >0.661282</td>\n",
       "      <td id=\"T_d241f_row1_col3\" class=\"data row1 col3\" >0.660870</td>\n",
       "      <td id=\"T_d241f_row1_col4\" class=\"data row1 col4\" >0.661215</td>\n",
       "      <td id=\"T_d241f_row1_col5\" class=\"data row1 col5\" >0.651434</td>\n",
       "      <td id=\"T_d241f_row1_col6\" class=\"data row1 col6\" >0.641304</td>\n",
       "      <td id=\"T_d241f_row1_col7\" class=\"data row1 col7\" >0.637619</td>\n",
       "    </tr>\n",
       "    <tr>\n",
       "      <th id=\"T_d241f_level0_row2\" class=\"row_heading level0 row2\" >2</th>\n",
       "      <td id=\"T_d241f_row2_col0\" class=\"data row2 col0\" >0.664269</td>\n",
       "      <td id=\"T_d241f_row2_col1\" class=\"data row2 col1\" >0.658027</td>\n",
       "      <td id=\"T_d241f_row2_col2\" class=\"data row2 col2\" >0.661282</td>\n",
       "      <td id=\"T_d241f_row2_col3\" class=\"data row2 col3\" >0.660870</td>\n",
       "      <td id=\"T_d241f_row2_col4\" class=\"data row2 col4\" >0.661215</td>\n",
       "      <td id=\"T_d241f_row2_col5\" class=\"data row2 col5\" >0.651434</td>\n",
       "      <td id=\"T_d241f_row2_col6\" class=\"data row2 col6\" >0.641304</td>\n",
       "      <td id=\"T_d241f_row2_col7\" class=\"data row2 col7\" >0.637619</td>\n",
       "    </tr>\n",
       "    <tr>\n",
       "      <th id=\"T_d241f_level0_row3\" class=\"row_heading level0 row3\" >3</th>\n",
       "      <td id=\"T_d241f_row3_col0\" class=\"data row3 col0\" >0.664269</td>\n",
       "      <td id=\"T_d241f_row3_col1\" class=\"data row3 col1\" >0.658027</td>\n",
       "      <td id=\"T_d241f_row3_col2\" class=\"data row3 col2\" >0.661282</td>\n",
       "      <td id=\"T_d241f_row3_col3\" class=\"data row3 col3\" >0.660870</td>\n",
       "      <td id=\"T_d241f_row3_col4\" class=\"data row3 col4\" >0.661215</td>\n",
       "      <td id=\"T_d241f_row3_col5\" class=\"data row3 col5\" >0.651434</td>\n",
       "      <td id=\"T_d241f_row3_col6\" class=\"data row3 col6\" >0.641304</td>\n",
       "      <td id=\"T_d241f_row3_col7\" class=\"data row3 col7\" >0.637619</td>\n",
       "    </tr>\n",
       "    <tr>\n",
       "      <th id=\"T_d241f_level0_row4\" class=\"row_heading level0 row4\" >4</th>\n",
       "      <td id=\"T_d241f_row4_col0\" class=\"data row4 col0\" >0.664269</td>\n",
       "      <td id=\"T_d241f_row4_col1\" class=\"data row4 col1\" >0.658027</td>\n",
       "      <td id=\"T_d241f_row4_col2\" class=\"data row4 col2\" >0.661282</td>\n",
       "      <td id=\"T_d241f_row4_col3\" class=\"data row4 col3\" >0.660870</td>\n",
       "      <td id=\"T_d241f_row4_col4\" class=\"data row4 col4\" >0.661215</td>\n",
       "      <td id=\"T_d241f_row4_col5\" class=\"data row4 col5\" >0.651434</td>\n",
       "      <td id=\"T_d241f_row4_col6\" class=\"data row4 col6\" >0.641304</td>\n",
       "      <td id=\"T_d241f_row4_col7\" class=\"data row4 col7\" >0.637619</td>\n",
       "    </tr>\n",
       "  </tbody>\n",
       "</table>\n"
      ],
      "text/plain": [
       "<IPython.core.display.HTML object>"
      ]
     },
     "metadata": {},
     "output_type": "display_data"
    }
   ],
   "source": [
    "\n",
    "\n",
    "from sklearn.naive_bayes import MultinomialNB\n",
    "\n",
    "# Load data from CSV file\n",
    "# ds = pd.read_csv('/content/drive/MyDrive/cse445 dataset/diabetes.csv')\n",
    "\n",
    "# Split the data into training and testing sets\n",
    "X = dataset.drop('Outcome', axis=1)\n",
    "y = dataset['Outcome']\n",
    "\n",
    "\n",
    "# Define range of test sizes to try\n",
    "test_sizes = np.arange(0.1, 0.5, 0.05)\n",
    "\n",
    "# Create a Multinomial Naive Bayes classifier\n",
    "clf = MultinomialNB()\n",
    "\n",
    "# Repeat the cross-validation 5 times and store the results in a list\n",
    "n_runs = 5\n",
    "results = []\n",
    "for run in range(n_runs):\n",
    "    scores = []\n",
    "    for test_size in test_sizes:\n",
    "        X_train, X_test, y_train, y_test = train_test_split(X, y, test_size=test_size, random_state=42)\n",
    "        clf.fit(X_train, y_train)\n",
    "        score = np.mean(cross_val_score(clf, X_train, y_train, cv=5))\n",
    "        scores.append(score)\n",
    "    results.append(scores)\n",
    "\n",
    "# Convert the results to a dataframe\n",
    "results_df = pd.DataFrame(results, columns=[f\"Test Size {ts:.2f}\" for ts in test_sizes])\n",
    "\n",
    "# Highlight the highest result in each row\n",
    "results_highlighted = results_df.style.highlight_max(color='#f46d43', axis=1)\n",
    "\n",
    "# Print the highlighted results in a table format\n",
    "print(\"Multinomial Naive Bayes Algorithm:\")\n",
    "html = results_highlighted.render()\n",
    "display(HTML(html))"
   ]
  },
  {
   "cell_type": "markdown",
   "id": "YqNd0RF_K2sF",
   "metadata": {
    "id": "YqNd0RF_K2sF"
   },
   "source": [
    "### Observing Artificial Neural Network Test Size"
   ]
  },
  {
   "cell_type": "code",
   "execution_count": 39,
   "id": "222f9430",
   "metadata": {
    "colab": {
     "base_uri": "https://localhost:8080/",
     "height": 165
    },
    "executionInfo": {
     "elapsed": 451236,
     "status": "ok",
     "timestamp": 1686345623716,
     "user": {
      "displayName": "Zamil Zamil",
      "userId": "04811903815352297421"
     },
     "user_tz": -360
    },
    "id": "222f9430",
    "outputId": "0b1932d2-988f-4ffb-a9e9-a083f8f2ff22"
   },
   "outputs": [
    {
     "name": "stdout",
     "output_type": "stream",
     "text": [
      "Artificial Neural Network (ANN):\n"
     ]
    },
    {
     "data": {
      "text/html": [
       "<style type=\"text/css\">\n",
       "#T_8d466_row0_col5, #T_8d466_row1_col5, #T_8d466_row2_col5, #T_8d466_row3_col5, #T_8d466_row4_col5 {\n",
       "  background-color: #f46d43;\n",
       "}\n",
       "</style>\n",
       "<table id=\"T_8d466\">\n",
       "  <thead>\n",
       "    <tr>\n",
       "      <th class=\"blank level0\" >&nbsp;</th>\n",
       "      <th id=\"T_8d466_level0_col0\" class=\"col_heading level0 col0\" >Test Size 0.10</th>\n",
       "      <th id=\"T_8d466_level0_col1\" class=\"col_heading level0 col1\" >Test Size 0.15</th>\n",
       "      <th id=\"T_8d466_level0_col2\" class=\"col_heading level0 col2\" >Test Size 0.20</th>\n",
       "      <th id=\"T_8d466_level0_col3\" class=\"col_heading level0 col3\" >Test Size 0.25</th>\n",
       "      <th id=\"T_8d466_level0_col4\" class=\"col_heading level0 col4\" >Test Size 0.30</th>\n",
       "      <th id=\"T_8d466_level0_col5\" class=\"col_heading level0 col5\" >Test Size 0.35</th>\n",
       "      <th id=\"T_8d466_level0_col6\" class=\"col_heading level0 col6\" >Test Size 0.40</th>\n",
       "      <th id=\"T_8d466_level0_col7\" class=\"col_heading level0 col7\" >Test Size 0.45</th>\n",
       "    </tr>\n",
       "  </thead>\n",
       "  <tbody>\n",
       "    <tr>\n",
       "      <th id=\"T_8d466_level0_row0\" class=\"row_heading level0 row0\" >0</th>\n",
       "      <td id=\"T_8d466_row0_col0\" class=\"data row0 col0\" >0.738046</td>\n",
       "      <td id=\"T_8d466_row0_col1\" class=\"data row0 col1\" >0.745332</td>\n",
       "      <td id=\"T_8d466_row0_col2\" class=\"data row0 col2\" >0.737758</td>\n",
       "      <td id=\"T_8d466_row0_col3\" class=\"data row0 col3\" >0.744348</td>\n",
       "      <td id=\"T_8d466_row0_col4\" class=\"data row0 col4\" >0.746677</td>\n",
       "      <td id=\"T_8d466_row0_col5\" class=\"data row0 col5\" >0.749455</td>\n",
       "      <td id=\"T_8d466_row0_col6\" class=\"data row0 col6\" >0.734783</td>\n",
       "      <td id=\"T_8d466_row0_col7\" class=\"data row0 col7\" >0.715742</td>\n",
       "    </tr>\n",
       "    <tr>\n",
       "      <th id=\"T_8d466_level0_row1\" class=\"row_heading level0 row1\" >1</th>\n",
       "      <td id=\"T_8d466_row1_col0\" class=\"data row1 col0\" >0.738046</td>\n",
       "      <td id=\"T_8d466_row1_col1\" class=\"data row1 col1\" >0.745332</td>\n",
       "      <td id=\"T_8d466_row1_col2\" class=\"data row1 col2\" >0.737758</td>\n",
       "      <td id=\"T_8d466_row1_col3\" class=\"data row1 col3\" >0.744348</td>\n",
       "      <td id=\"T_8d466_row1_col4\" class=\"data row1 col4\" >0.746677</td>\n",
       "      <td id=\"T_8d466_row1_col5\" class=\"data row1 col5\" >0.749455</td>\n",
       "      <td id=\"T_8d466_row1_col6\" class=\"data row1 col6\" >0.734783</td>\n",
       "      <td id=\"T_8d466_row1_col7\" class=\"data row1 col7\" >0.715742</td>\n",
       "    </tr>\n",
       "    <tr>\n",
       "      <th id=\"T_8d466_level0_row2\" class=\"row_heading level0 row2\" >2</th>\n",
       "      <td id=\"T_8d466_row2_col0\" class=\"data row2 col0\" >0.738046</td>\n",
       "      <td id=\"T_8d466_row2_col1\" class=\"data row2 col1\" >0.745332</td>\n",
       "      <td id=\"T_8d466_row2_col2\" class=\"data row2 col2\" >0.737758</td>\n",
       "      <td id=\"T_8d466_row2_col3\" class=\"data row2 col3\" >0.744348</td>\n",
       "      <td id=\"T_8d466_row2_col4\" class=\"data row2 col4\" >0.746677</td>\n",
       "      <td id=\"T_8d466_row2_col5\" class=\"data row2 col5\" >0.749455</td>\n",
       "      <td id=\"T_8d466_row2_col6\" class=\"data row2 col6\" >0.734783</td>\n",
       "      <td id=\"T_8d466_row2_col7\" class=\"data row2 col7\" >0.715742</td>\n",
       "    </tr>\n",
       "    <tr>\n",
       "      <th id=\"T_8d466_level0_row3\" class=\"row_heading level0 row3\" >3</th>\n",
       "      <td id=\"T_8d466_row3_col0\" class=\"data row3 col0\" >0.738046</td>\n",
       "      <td id=\"T_8d466_row3_col1\" class=\"data row3 col1\" >0.745332</td>\n",
       "      <td id=\"T_8d466_row3_col2\" class=\"data row3 col2\" >0.737758</td>\n",
       "      <td id=\"T_8d466_row3_col3\" class=\"data row3 col3\" >0.744348</td>\n",
       "      <td id=\"T_8d466_row3_col4\" class=\"data row3 col4\" >0.746677</td>\n",
       "      <td id=\"T_8d466_row3_col5\" class=\"data row3 col5\" >0.749455</td>\n",
       "      <td id=\"T_8d466_row3_col6\" class=\"data row3 col6\" >0.734783</td>\n",
       "      <td id=\"T_8d466_row3_col7\" class=\"data row3 col7\" >0.715742</td>\n",
       "    </tr>\n",
       "    <tr>\n",
       "      <th id=\"T_8d466_level0_row4\" class=\"row_heading level0 row4\" >4</th>\n",
       "      <td id=\"T_8d466_row4_col0\" class=\"data row4 col0\" >0.738046</td>\n",
       "      <td id=\"T_8d466_row4_col1\" class=\"data row4 col1\" >0.745332</td>\n",
       "      <td id=\"T_8d466_row4_col2\" class=\"data row4 col2\" >0.737758</td>\n",
       "      <td id=\"T_8d466_row4_col3\" class=\"data row4 col3\" >0.744348</td>\n",
       "      <td id=\"T_8d466_row4_col4\" class=\"data row4 col4\" >0.746677</td>\n",
       "      <td id=\"T_8d466_row4_col5\" class=\"data row4 col5\" >0.749455</td>\n",
       "      <td id=\"T_8d466_row4_col6\" class=\"data row4 col6\" >0.734783</td>\n",
       "      <td id=\"T_8d466_row4_col7\" class=\"data row4 col7\" >0.715742</td>\n",
       "    </tr>\n",
       "  </tbody>\n",
       "</table>\n"
      ],
      "text/plain": [
       "<IPython.core.display.HTML object>"
      ]
     },
     "metadata": {},
     "output_type": "display_data"
    }
   ],
   "source": [
    "import pandas as pd\n",
    "import numpy as np\n",
    "from sklearn.model_selection import train_test_split\n",
    "from sklearn.preprocessing import StandardScaler\n",
    "from sklearn.neural_network import MLPClassifier\n",
    "from sklearn.model_selection import cross_val_score\n",
    "from IPython.display import display, HTML\n",
    "\n",
    "# Load data from CSV file\n",
    "# ds = pd.read_csv('/content/drive/MyDrive/cse445 dataset/diabetes.csv')\n",
    "\n",
    "# Split the data into training and testing sets\n",
    "X = dataset.drop('Outcome', axis=1)\n",
    "y = dataset['Outcome']\n",
    "\n",
    "# Define range of test sizes to try\n",
    "test_sizes = np.arange(0.1, 0.5, 0.05)\n",
    "\n",
    "# Create an MLPClassifier (Artificial Neural Network)\n",
    "clf = MLPClassifier(hidden_layer_sizes=(10, 10), max_iter=1000, random_state=42)\n",
    "\n",
    "# Create a standard scaler object\n",
    "std = StandardScaler()\n",
    "\n",
    "# Repeat the cross-validation 5 times and store the results in a list\n",
    "n_runs = 5\n",
    "results = []\n",
    "for run in range(n_runs):\n",
    "    scores = []\n",
    "    for test_size in test_sizes:\n",
    "        X_train, X_test, y_train, y_test = train_test_split(X, y, test_size=test_size, random_state=42)\n",
    "        # Scale the data using the standard scaler object\n",
    "        X_train_std = std.fit_transform(X_train)\n",
    "        X_test_std = std.transform(X_test)\n",
    "        clf.fit(X_train_std, y_train)\n",
    "        score = np.mean(cross_val_score(clf, X_train_std, y_train, cv=5))\n",
    "        scores.append(score)\n",
    "    results.append(scores)\n",
    "\n",
    "# Convert the results to a dataframe\n",
    "results_df = pd.DataFrame(results, columns=[f\"Test Size {ts:.2f}\" for ts in test_sizes])\n",
    "\n",
    "# Highlight the highest result in each row\n",
    "results_highlighted = results_df.style.highlight_max(color='#f46d43', axis=1)\n",
    "\n",
    "# Print the highlighted results in a table format\n",
    "print(\"Artificial Neural Network (ANN):\")\n",
    "html = results_highlighted.render()\n",
    "display(HTML(html))\n"
   ]
  },
  {
   "cell_type": "markdown",
   "id": "OWWZ3r0_lYwZ",
   "metadata": {
    "id": "OWWZ3r0_lYwZ"
   },
   "source": [
    "# Training the Models"
   ]
  },
  {
   "cell_type": "markdown",
   "id": "cUZUYh-kmsjO",
   "metadata": {
    "id": "cUZUYh-kmsjO"
   },
   "source": [
    "### Separating the training and testing sets"
   ]
  },
  {
   "cell_type": "code",
   "execution_count": 40,
   "id": "8u9HTE0T9_yN",
   "metadata": {
    "colab": {
     "base_uri": "https://localhost:8080/",
     "height": 206
    },
    "executionInfo": {
     "elapsed": 52,
     "status": "ok",
     "timestamp": 1686345623717,
     "user": {
      "displayName": "Zamil Zamil",
      "userId": "04811903815352297421"
     },
     "user_tz": -360
    },
    "id": "8u9HTE0T9_yN",
    "outputId": "b41e6ab1-bb0d-4c94-d699-4393cde12661"
   },
   "outputs": [
    {
     "data": {
      "text/html": [
       "\n",
       "  <div id=\"df-fe94c4b8-b294-4bd0-a7d4-627ef0f69920\">\n",
       "    <div class=\"colab-df-container\">\n",
       "      <div>\n",
       "<style scoped>\n",
       "    .dataframe tbody tr th:only-of-type {\n",
       "        vertical-align: middle;\n",
       "    }\n",
       "\n",
       "    .dataframe tbody tr th {\n",
       "        vertical-align: top;\n",
       "    }\n",
       "\n",
       "    .dataframe thead th {\n",
       "        text-align: right;\n",
       "    }\n",
       "</style>\n",
       "<table border=\"1\" class=\"dataframe\">\n",
       "  <thead>\n",
       "    <tr style=\"text-align: right;\">\n",
       "      <th></th>\n",
       "      <th>Pregnancies</th>\n",
       "      <th>Glucose</th>\n",
       "      <th>BloodPressure</th>\n",
       "      <th>SkinThickness</th>\n",
       "      <th>Insulin</th>\n",
       "      <th>BMI</th>\n",
       "      <th>DiabetesPedigreeFunction</th>\n",
       "      <th>Age</th>\n",
       "      <th>Outcome</th>\n",
       "    </tr>\n",
       "  </thead>\n",
       "  <tbody>\n",
       "    <tr>\n",
       "      <th>0</th>\n",
       "      <td>6</td>\n",
       "      <td>148</td>\n",
       "      <td>72</td>\n",
       "      <td>35.0</td>\n",
       "      <td>147.0</td>\n",
       "      <td>33.6</td>\n",
       "      <td>0.6270</td>\n",
       "      <td>50.0</td>\n",
       "      <td>1.0</td>\n",
       "    </tr>\n",
       "    <tr>\n",
       "      <th>1</th>\n",
       "      <td>1</td>\n",
       "      <td>85</td>\n",
       "      <td>66</td>\n",
       "      <td>29.0</td>\n",
       "      <td>147.0</td>\n",
       "      <td>26.6</td>\n",
       "      <td>0.3510</td>\n",
       "      <td>31.0</td>\n",
       "      <td>0.0</td>\n",
       "    </tr>\n",
       "    <tr>\n",
       "      <th>2</th>\n",
       "      <td>8</td>\n",
       "      <td>183</td>\n",
       "      <td>64</td>\n",
       "      <td>29.0</td>\n",
       "      <td>147.0</td>\n",
       "      <td>23.3</td>\n",
       "      <td>0.6720</td>\n",
       "      <td>32.0</td>\n",
       "      <td>1.0</td>\n",
       "    </tr>\n",
       "    <tr>\n",
       "      <th>3</th>\n",
       "      <td>1</td>\n",
       "      <td>89</td>\n",
       "      <td>66</td>\n",
       "      <td>23.0</td>\n",
       "      <td>94.0</td>\n",
       "      <td>28.1</td>\n",
       "      <td>0.1670</td>\n",
       "      <td>21.0</td>\n",
       "      <td>0.0</td>\n",
       "    </tr>\n",
       "    <tr>\n",
       "      <th>4</th>\n",
       "      <td>0</td>\n",
       "      <td>137</td>\n",
       "      <td>40</td>\n",
       "      <td>35.0</td>\n",
       "      <td>168.0</td>\n",
       "      <td>43.1</td>\n",
       "      <td>1.3884</td>\n",
       "      <td>33.0</td>\n",
       "      <td>1.0</td>\n",
       "    </tr>\n",
       "  </tbody>\n",
       "</table>\n",
       "</div>\n",
       "      <button class=\"colab-df-convert\" onclick=\"convertToInteractive('df-fe94c4b8-b294-4bd0-a7d4-627ef0f69920')\"\n",
       "              title=\"Convert this dataframe to an interactive table.\"\n",
       "              style=\"display:none;\">\n",
       "        \n",
       "  <svg xmlns=\"http://www.w3.org/2000/svg\" height=\"24px\"viewBox=\"0 0 24 24\"\n",
       "       width=\"24px\">\n",
       "    <path d=\"M0 0h24v24H0V0z\" fill=\"none\"/>\n",
       "    <path d=\"M18.56 5.44l.94 2.06.94-2.06 2.06-.94-2.06-.94-.94-2.06-.94 2.06-2.06.94zm-11 1L8.5 8.5l.94-2.06 2.06-.94-2.06-.94L8.5 2.5l-.94 2.06-2.06.94zm10 10l.94 2.06.94-2.06 2.06-.94-2.06-.94-.94-2.06-.94 2.06-2.06.94z\"/><path d=\"M17.41 7.96l-1.37-1.37c-.4-.4-.92-.59-1.43-.59-.52 0-1.04.2-1.43.59L10.3 9.45l-7.72 7.72c-.78.78-.78 2.05 0 2.83L4 21.41c.39.39.9.59 1.41.59.51 0 1.02-.2 1.41-.59l7.78-7.78 2.81-2.81c.8-.78.8-2.07 0-2.86zM5.41 20L4 18.59l7.72-7.72 1.47 1.35L5.41 20z\"/>\n",
       "  </svg>\n",
       "      </button>\n",
       "      \n",
       "  <style>\n",
       "    .colab-df-container {\n",
       "      display:flex;\n",
       "      flex-wrap:wrap;\n",
       "      gap: 12px;\n",
       "    }\n",
       "\n",
       "    .colab-df-convert {\n",
       "      background-color: #E8F0FE;\n",
       "      border: none;\n",
       "      border-radius: 50%;\n",
       "      cursor: pointer;\n",
       "      display: none;\n",
       "      fill: #1967D2;\n",
       "      height: 32px;\n",
       "      padding: 0 0 0 0;\n",
       "      width: 32px;\n",
       "    }\n",
       "\n",
       "    .colab-df-convert:hover {\n",
       "      background-color: #E2EBFA;\n",
       "      box-shadow: 0px 1px 2px rgba(60, 64, 67, 0.3), 0px 1px 3px 1px rgba(60, 64, 67, 0.15);\n",
       "      fill: #174EA6;\n",
       "    }\n",
       "\n",
       "    [theme=dark] .colab-df-convert {\n",
       "      background-color: #3B4455;\n",
       "      fill: #D2E3FC;\n",
       "    }\n",
       "\n",
       "    [theme=dark] .colab-df-convert:hover {\n",
       "      background-color: #434B5C;\n",
       "      box-shadow: 0px 1px 3px 1px rgba(0, 0, 0, 0.15);\n",
       "      filter: drop-shadow(0px 1px 2px rgba(0, 0, 0, 0.3));\n",
       "      fill: #FFFFFF;\n",
       "    }\n",
       "  </style>\n",
       "\n",
       "      <script>\n",
       "        const buttonEl =\n",
       "          document.querySelector('#df-fe94c4b8-b294-4bd0-a7d4-627ef0f69920 button.colab-df-convert');\n",
       "        buttonEl.style.display =\n",
       "          google.colab.kernel.accessAllowed ? 'block' : 'none';\n",
       "\n",
       "        async function convertToInteractive(key) {\n",
       "          const element = document.querySelector('#df-fe94c4b8-b294-4bd0-a7d4-627ef0f69920');\n",
       "          const dataTable =\n",
       "            await google.colab.kernel.invokeFunction('convertToInteractive',\n",
       "                                                     [key], {});\n",
       "          if (!dataTable) return;\n",
       "\n",
       "          const docLinkHtml = 'Like what you see? Visit the ' +\n",
       "            '<a target=\"_blank\" href=https://colab.research.google.com/notebooks/data_table.ipynb>data table notebook</a>'\n",
       "            + ' to learn more about interactive tables.';\n",
       "          element.innerHTML = '';\n",
       "          dataTable['output_type'] = 'display_data';\n",
       "          await google.colab.output.renderOutput(dataTable, element);\n",
       "          const docLink = document.createElement('div');\n",
       "          docLink.innerHTML = docLinkHtml;\n",
       "          element.appendChild(docLink);\n",
       "        }\n",
       "      </script>\n",
       "    </div>\n",
       "  </div>\n",
       "  "
      ],
      "text/plain": [
       "   Pregnancies  Glucose  BloodPressure  SkinThickness  Insulin   BMI  \\\n",
       "0            6      148             72           35.0    147.0  33.6   \n",
       "1            1       85             66           29.0    147.0  26.6   \n",
       "2            8      183             64           29.0    147.0  23.3   \n",
       "3            1       89             66           23.0     94.0  28.1   \n",
       "4            0      137             40           35.0    168.0  43.1   \n",
       "\n",
       "   DiabetesPedigreeFunction   Age  Outcome  \n",
       "0                    0.6270  50.0      1.0  \n",
       "1                    0.3510  31.0      0.0  \n",
       "2                    0.6720  32.0      1.0  \n",
       "3                    0.1670  21.0      0.0  \n",
       "4                    1.3884  33.0      1.0  "
      ]
     },
     "execution_count": 40,
     "metadata": {},
     "output_type": "execute_result"
    }
   ],
   "source": [
    "dataset.head()"
   ]
  },
  {
   "cell_type": "code",
   "execution_count": 41,
   "id": "df1a377e",
   "metadata": {
    "executionInfo": {
     "elapsed": 49,
     "status": "ok",
     "timestamp": 1686345623717,
     "user": {
      "displayName": "Zamil Zamil",
      "userId": "04811903815352297421"
     },
     "user_tz": -360
    },
    "id": "df1a377e"
   },
   "outputs": [],
   "source": [
    "# Split dataset into input features (X) and target variable (y)\n",
    "X = dataset.drop('Outcome', axis=1)\n",
    "y = dataset['Outcome']\n",
    "\n",
    "# Split data into train and test sets\n",
    "X_train, X_test, y_train, y_test = train_test_split(X, y, random_state=42, test_size=0.2)"
   ]
  },
  {
   "cell_type": "code",
   "execution_count": 42,
   "id": "lxiO74CVnadV",
   "metadata": {
    "colab": {
     "base_uri": "https://localhost:8080/",
     "height": 458
    },
    "executionInfo": {
     "elapsed": 49,
     "status": "ok",
     "timestamp": 1686345623718,
     "user": {
      "displayName": "Zamil Zamil",
      "userId": "04811903815352297421"
     },
     "user_tz": -360
    },
    "id": "lxiO74CVnadV",
    "outputId": "e9c9ef67-ca67-40b5-94e5-95e082264553"
   },
   "outputs": [
    {
     "name": "stdout",
     "output_type": "stream",
     "text": [
      "Printing Features: \n",
      "\n"
     ]
    },
    {
     "data": {
      "text/html": [
       "\n",
       "  <div id=\"df-b4a57f16-eb1d-41f8-98fa-f075a6be9f0d\">\n",
       "    <div class=\"colab-df-container\">\n",
       "      <div>\n",
       "<style scoped>\n",
       "    .dataframe tbody tr th:only-of-type {\n",
       "        vertical-align: middle;\n",
       "    }\n",
       "\n",
       "    .dataframe tbody tr th {\n",
       "        vertical-align: top;\n",
       "    }\n",
       "\n",
       "    .dataframe thead th {\n",
       "        text-align: right;\n",
       "    }\n",
       "</style>\n",
       "<table border=\"1\" class=\"dataframe\">\n",
       "  <thead>\n",
       "    <tr style=\"text-align: right;\">\n",
       "      <th></th>\n",
       "      <th>Pregnancies</th>\n",
       "      <th>Glucose</th>\n",
       "      <th>BloodPressure</th>\n",
       "      <th>SkinThickness</th>\n",
       "      <th>Insulin</th>\n",
       "      <th>BMI</th>\n",
       "      <th>DiabetesPedigreeFunction</th>\n",
       "      <th>Age</th>\n",
       "    </tr>\n",
       "  </thead>\n",
       "  <tbody>\n",
       "    <tr>\n",
       "      <th>0</th>\n",
       "      <td>6</td>\n",
       "      <td>148</td>\n",
       "      <td>72</td>\n",
       "      <td>35.0</td>\n",
       "      <td>147.0</td>\n",
       "      <td>33.6</td>\n",
       "      <td>0.6270</td>\n",
       "      <td>50.0</td>\n",
       "    </tr>\n",
       "    <tr>\n",
       "      <th>1</th>\n",
       "      <td>1</td>\n",
       "      <td>85</td>\n",
       "      <td>66</td>\n",
       "      <td>29.0</td>\n",
       "      <td>147.0</td>\n",
       "      <td>26.6</td>\n",
       "      <td>0.3510</td>\n",
       "      <td>31.0</td>\n",
       "    </tr>\n",
       "    <tr>\n",
       "      <th>2</th>\n",
       "      <td>8</td>\n",
       "      <td>183</td>\n",
       "      <td>64</td>\n",
       "      <td>29.0</td>\n",
       "      <td>147.0</td>\n",
       "      <td>23.3</td>\n",
       "      <td>0.6720</td>\n",
       "      <td>32.0</td>\n",
       "    </tr>\n",
       "    <tr>\n",
       "      <th>3</th>\n",
       "      <td>1</td>\n",
       "      <td>89</td>\n",
       "      <td>66</td>\n",
       "      <td>23.0</td>\n",
       "      <td>94.0</td>\n",
       "      <td>28.1</td>\n",
       "      <td>0.1670</td>\n",
       "      <td>21.0</td>\n",
       "    </tr>\n",
       "    <tr>\n",
       "      <th>4</th>\n",
       "      <td>0</td>\n",
       "      <td>137</td>\n",
       "      <td>40</td>\n",
       "      <td>35.0</td>\n",
       "      <td>168.0</td>\n",
       "      <td>43.1</td>\n",
       "      <td>1.3884</td>\n",
       "      <td>33.0</td>\n",
       "    </tr>\n",
       "    <tr>\n",
       "      <th>...</th>\n",
       "      <td>...</td>\n",
       "      <td>...</td>\n",
       "      <td>...</td>\n",
       "      <td>...</td>\n",
       "      <td>...</td>\n",
       "      <td>...</td>\n",
       "      <td>...</td>\n",
       "      <td>...</td>\n",
       "    </tr>\n",
       "    <tr>\n",
       "      <th>763</th>\n",
       "      <td>10</td>\n",
       "      <td>101</td>\n",
       "      <td>76</td>\n",
       "      <td>48.0</td>\n",
       "      <td>180.0</td>\n",
       "      <td>32.9</td>\n",
       "      <td>0.1710</td>\n",
       "      <td>63.0</td>\n",
       "    </tr>\n",
       "    <tr>\n",
       "      <th>764</th>\n",
       "      <td>2</td>\n",
       "      <td>122</td>\n",
       "      <td>70</td>\n",
       "      <td>27.0</td>\n",
       "      <td>147.0</td>\n",
       "      <td>36.8</td>\n",
       "      <td>0.3400</td>\n",
       "      <td>27.0</td>\n",
       "    </tr>\n",
       "    <tr>\n",
       "      <th>765</th>\n",
       "      <td>5</td>\n",
       "      <td>121</td>\n",
       "      <td>72</td>\n",
       "      <td>23.0</td>\n",
       "      <td>112.0</td>\n",
       "      <td>26.2</td>\n",
       "      <td>0.2450</td>\n",
       "      <td>30.0</td>\n",
       "    </tr>\n",
       "    <tr>\n",
       "      <th>766</th>\n",
       "      <td>1</td>\n",
       "      <td>126</td>\n",
       "      <td>60</td>\n",
       "      <td>29.0</td>\n",
       "      <td>147.0</td>\n",
       "      <td>30.1</td>\n",
       "      <td>0.3490</td>\n",
       "      <td>47.0</td>\n",
       "    </tr>\n",
       "    <tr>\n",
       "      <th>767</th>\n",
       "      <td>1</td>\n",
       "      <td>93</td>\n",
       "      <td>70</td>\n",
       "      <td>31.0</td>\n",
       "      <td>147.0</td>\n",
       "      <td>30.4</td>\n",
       "      <td>0.3150</td>\n",
       "      <td>23.0</td>\n",
       "    </tr>\n",
       "  </tbody>\n",
       "</table>\n",
       "<p>768 rows × 8 columns</p>\n",
       "</div>\n",
       "      <button class=\"colab-df-convert\" onclick=\"convertToInteractive('df-b4a57f16-eb1d-41f8-98fa-f075a6be9f0d')\"\n",
       "              title=\"Convert this dataframe to an interactive table.\"\n",
       "              style=\"display:none;\">\n",
       "        \n",
       "  <svg xmlns=\"http://www.w3.org/2000/svg\" height=\"24px\"viewBox=\"0 0 24 24\"\n",
       "       width=\"24px\">\n",
       "    <path d=\"M0 0h24v24H0V0z\" fill=\"none\"/>\n",
       "    <path d=\"M18.56 5.44l.94 2.06.94-2.06 2.06-.94-2.06-.94-.94-2.06-.94 2.06-2.06.94zm-11 1L8.5 8.5l.94-2.06 2.06-.94-2.06-.94L8.5 2.5l-.94 2.06-2.06.94zm10 10l.94 2.06.94-2.06 2.06-.94-2.06-.94-.94-2.06-.94 2.06-2.06.94z\"/><path d=\"M17.41 7.96l-1.37-1.37c-.4-.4-.92-.59-1.43-.59-.52 0-1.04.2-1.43.59L10.3 9.45l-7.72 7.72c-.78.78-.78 2.05 0 2.83L4 21.41c.39.39.9.59 1.41.59.51 0 1.02-.2 1.41-.59l7.78-7.78 2.81-2.81c.8-.78.8-2.07 0-2.86zM5.41 20L4 18.59l7.72-7.72 1.47 1.35L5.41 20z\"/>\n",
       "  </svg>\n",
       "      </button>\n",
       "      \n",
       "  <style>\n",
       "    .colab-df-container {\n",
       "      display:flex;\n",
       "      flex-wrap:wrap;\n",
       "      gap: 12px;\n",
       "    }\n",
       "\n",
       "    .colab-df-convert {\n",
       "      background-color: #E8F0FE;\n",
       "      border: none;\n",
       "      border-radius: 50%;\n",
       "      cursor: pointer;\n",
       "      display: none;\n",
       "      fill: #1967D2;\n",
       "      height: 32px;\n",
       "      padding: 0 0 0 0;\n",
       "      width: 32px;\n",
       "    }\n",
       "\n",
       "    .colab-df-convert:hover {\n",
       "      background-color: #E2EBFA;\n",
       "      box-shadow: 0px 1px 2px rgba(60, 64, 67, 0.3), 0px 1px 3px 1px rgba(60, 64, 67, 0.15);\n",
       "      fill: #174EA6;\n",
       "    }\n",
       "\n",
       "    [theme=dark] .colab-df-convert {\n",
       "      background-color: #3B4455;\n",
       "      fill: #D2E3FC;\n",
       "    }\n",
       "\n",
       "    [theme=dark] .colab-df-convert:hover {\n",
       "      background-color: #434B5C;\n",
       "      box-shadow: 0px 1px 3px 1px rgba(0, 0, 0, 0.15);\n",
       "      filter: drop-shadow(0px 1px 2px rgba(0, 0, 0, 0.3));\n",
       "      fill: #FFFFFF;\n",
       "    }\n",
       "  </style>\n",
       "\n",
       "      <script>\n",
       "        const buttonEl =\n",
       "          document.querySelector('#df-b4a57f16-eb1d-41f8-98fa-f075a6be9f0d button.colab-df-convert');\n",
       "        buttonEl.style.display =\n",
       "          google.colab.kernel.accessAllowed ? 'block' : 'none';\n",
       "\n",
       "        async function convertToInteractive(key) {\n",
       "          const element = document.querySelector('#df-b4a57f16-eb1d-41f8-98fa-f075a6be9f0d');\n",
       "          const dataTable =\n",
       "            await google.colab.kernel.invokeFunction('convertToInteractive',\n",
       "                                                     [key], {});\n",
       "          if (!dataTable) return;\n",
       "\n",
       "          const docLinkHtml = 'Like what you see? Visit the ' +\n",
       "            '<a target=\"_blank\" href=https://colab.research.google.com/notebooks/data_table.ipynb>data table notebook</a>'\n",
       "            + ' to learn more about interactive tables.';\n",
       "          element.innerHTML = '';\n",
       "          dataTable['output_type'] = 'display_data';\n",
       "          await google.colab.output.renderOutput(dataTable, element);\n",
       "          const docLink = document.createElement('div');\n",
       "          docLink.innerHTML = docLinkHtml;\n",
       "          element.appendChild(docLink);\n",
       "        }\n",
       "      </script>\n",
       "    </div>\n",
       "  </div>\n",
       "  "
      ],
      "text/plain": [
       "     Pregnancies  Glucose  BloodPressure  SkinThickness  Insulin   BMI  \\\n",
       "0              6      148             72           35.0    147.0  33.6   \n",
       "1              1       85             66           29.0    147.0  26.6   \n",
       "2              8      183             64           29.0    147.0  23.3   \n",
       "3              1       89             66           23.0     94.0  28.1   \n",
       "4              0      137             40           35.0    168.0  43.1   \n",
       "..           ...      ...            ...            ...      ...   ...   \n",
       "763           10      101             76           48.0    180.0  32.9   \n",
       "764            2      122             70           27.0    147.0  36.8   \n",
       "765            5      121             72           23.0    112.0  26.2   \n",
       "766            1      126             60           29.0    147.0  30.1   \n",
       "767            1       93             70           31.0    147.0  30.4   \n",
       "\n",
       "     DiabetesPedigreeFunction   Age  \n",
       "0                      0.6270  50.0  \n",
       "1                      0.3510  31.0  \n",
       "2                      0.6720  32.0  \n",
       "3                      0.1670  21.0  \n",
       "4                      1.3884  33.0  \n",
       "..                        ...   ...  \n",
       "763                    0.1710  63.0  \n",
       "764                    0.3400  27.0  \n",
       "765                    0.2450  30.0  \n",
       "766                    0.3490  47.0  \n",
       "767                    0.3150  23.0  \n",
       "\n",
       "[768 rows x 8 columns]"
      ]
     },
     "execution_count": 42,
     "metadata": {},
     "output_type": "execute_result"
    }
   ],
   "source": [
    "print(\"Printing Features: \\n\")\n",
    "X"
   ]
  },
  {
   "cell_type": "code",
   "execution_count": 43,
   "id": "Syk2UdVsnpPP",
   "metadata": {
    "colab": {
     "base_uri": "https://localhost:8080/"
    },
    "executionInfo": {
     "elapsed": 43,
     "status": "ok",
     "timestamp": 1686345623718,
     "user": {
      "displayName": "Zamil Zamil",
      "userId": "04811903815352297421"
     },
     "user_tz": -360
    },
    "id": "Syk2UdVsnpPP",
    "outputId": "7b3ed98a-f41e-4e69-80c5-afefbe2b959e"
   },
   "outputs": [
    {
     "name": "stdout",
     "output_type": "stream",
     "text": [
      "Printing Target Attribute: \n",
      "\n"
     ]
    },
    {
     "data": {
      "text/plain": [
       "0      1.0\n",
       "1      0.0\n",
       "2      1.0\n",
       "3      0.0\n",
       "4      1.0\n",
       "      ... \n",
       "763    0.0\n",
       "764    0.0\n",
       "765    0.0\n",
       "766    1.0\n",
       "767    0.0\n",
       "Name: Outcome, Length: 768, dtype: float64"
      ]
     },
     "execution_count": 43,
     "metadata": {},
     "output_type": "execute_result"
    }
   ],
   "source": [
    "print(\"Printing Target Attribute: \\n\")\n",
    "y"
   ]
  },
  {
   "cell_type": "code",
   "execution_count": 44,
   "id": "_-3QcOn_3nSi",
   "metadata": {
    "colab": {
     "base_uri": "https://localhost:8080/",
     "height": 424
    },
    "executionInfo": {
     "elapsed": 40,
     "status": "ok",
     "timestamp": 1686345623719,
     "user": {
      "displayName": "Zamil Zamil",
      "userId": "04811903815352297421"
     },
     "user_tz": -360
    },
    "id": "_-3QcOn_3nSi",
    "outputId": "bb266d2d-0e83-46db-f68c-bf150634007c"
   },
   "outputs": [
    {
     "data": {
      "text/html": [
       "\n",
       "  <div id=\"df-ae000065-f7e4-4965-93ad-1fecc3b41bba\">\n",
       "    <div class=\"colab-df-container\">\n",
       "      <div>\n",
       "<style scoped>\n",
       "    .dataframe tbody tr th:only-of-type {\n",
       "        vertical-align: middle;\n",
       "    }\n",
       "\n",
       "    .dataframe tbody tr th {\n",
       "        vertical-align: top;\n",
       "    }\n",
       "\n",
       "    .dataframe thead th {\n",
       "        text-align: right;\n",
       "    }\n",
       "</style>\n",
       "<table border=\"1\" class=\"dataframe\">\n",
       "  <thead>\n",
       "    <tr style=\"text-align: right;\">\n",
       "      <th></th>\n",
       "      <th>Pregnancies</th>\n",
       "      <th>Glucose</th>\n",
       "      <th>BloodPressure</th>\n",
       "      <th>SkinThickness</th>\n",
       "      <th>Insulin</th>\n",
       "      <th>BMI</th>\n",
       "      <th>DiabetesPedigreeFunction</th>\n",
       "      <th>Age</th>\n",
       "    </tr>\n",
       "  </thead>\n",
       "  <tbody>\n",
       "    <tr>\n",
       "      <th>60</th>\n",
       "      <td>2</td>\n",
       "      <td>84</td>\n",
       "      <td>27</td>\n",
       "      <td>29.0</td>\n",
       "      <td>147.0</td>\n",
       "      <td>8.05</td>\n",
       "      <td>0.304</td>\n",
       "      <td>21.0</td>\n",
       "    </tr>\n",
       "    <tr>\n",
       "      <th>618</th>\n",
       "      <td>9</td>\n",
       "      <td>112</td>\n",
       "      <td>82</td>\n",
       "      <td>24.0</td>\n",
       "      <td>147.0</td>\n",
       "      <td>28.20</td>\n",
       "      <td>1.282</td>\n",
       "      <td>50.0</td>\n",
       "    </tr>\n",
       "    <tr>\n",
       "      <th>346</th>\n",
       "      <td>1</td>\n",
       "      <td>139</td>\n",
       "      <td>46</td>\n",
       "      <td>19.0</td>\n",
       "      <td>83.0</td>\n",
       "      <td>28.70</td>\n",
       "      <td>0.654</td>\n",
       "      <td>22.0</td>\n",
       "    </tr>\n",
       "    <tr>\n",
       "      <th>294</th>\n",
       "      <td>0</td>\n",
       "      <td>161</td>\n",
       "      <td>50</td>\n",
       "      <td>29.0</td>\n",
       "      <td>147.0</td>\n",
       "      <td>21.90</td>\n",
       "      <td>0.254</td>\n",
       "      <td>65.0</td>\n",
       "    </tr>\n",
       "    <tr>\n",
       "      <th>231</th>\n",
       "      <td>6</td>\n",
       "      <td>134</td>\n",
       "      <td>80</td>\n",
       "      <td>37.0</td>\n",
       "      <td>370.0</td>\n",
       "      <td>46.20</td>\n",
       "      <td>0.238</td>\n",
       "      <td>46.0</td>\n",
       "    </tr>\n",
       "    <tr>\n",
       "      <th>...</th>\n",
       "      <td>...</td>\n",
       "      <td>...</td>\n",
       "      <td>...</td>\n",
       "      <td>...</td>\n",
       "      <td>...</td>\n",
       "      <td>...</td>\n",
       "      <td>...</td>\n",
       "      <td>...</td>\n",
       "    </tr>\n",
       "    <tr>\n",
       "      <th>71</th>\n",
       "      <td>5</td>\n",
       "      <td>139</td>\n",
       "      <td>64</td>\n",
       "      <td>35.0</td>\n",
       "      <td>140.0</td>\n",
       "      <td>28.60</td>\n",
       "      <td>0.411</td>\n",
       "      <td>26.0</td>\n",
       "    </tr>\n",
       "    <tr>\n",
       "      <th>106</th>\n",
       "      <td>1</td>\n",
       "      <td>96</td>\n",
       "      <td>115</td>\n",
       "      <td>29.0</td>\n",
       "      <td>147.0</td>\n",
       "      <td>22.40</td>\n",
       "      <td>0.207</td>\n",
       "      <td>27.0</td>\n",
       "    </tr>\n",
       "    <tr>\n",
       "      <th>270</th>\n",
       "      <td>10</td>\n",
       "      <td>101</td>\n",
       "      <td>86</td>\n",
       "      <td>37.0</td>\n",
       "      <td>147.0</td>\n",
       "      <td>45.60</td>\n",
       "      <td>1.136</td>\n",
       "      <td>38.0</td>\n",
       "    </tr>\n",
       "    <tr>\n",
       "      <th>435</th>\n",
       "      <td>0</td>\n",
       "      <td>141</td>\n",
       "      <td>27</td>\n",
       "      <td>29.0</td>\n",
       "      <td>147.0</td>\n",
       "      <td>42.40</td>\n",
       "      <td>0.205</td>\n",
       "      <td>29.0</td>\n",
       "    </tr>\n",
       "    <tr>\n",
       "      <th>102</th>\n",
       "      <td>0</td>\n",
       "      <td>125</td>\n",
       "      <td>96</td>\n",
       "      <td>29.0</td>\n",
       "      <td>147.0</td>\n",
       "      <td>22.50</td>\n",
       "      <td>0.262</td>\n",
       "      <td>21.0</td>\n",
       "    </tr>\n",
       "  </tbody>\n",
       "</table>\n",
       "<p>614 rows × 8 columns</p>\n",
       "</div>\n",
       "      <button class=\"colab-df-convert\" onclick=\"convertToInteractive('df-ae000065-f7e4-4965-93ad-1fecc3b41bba')\"\n",
       "              title=\"Convert this dataframe to an interactive table.\"\n",
       "              style=\"display:none;\">\n",
       "        \n",
       "  <svg xmlns=\"http://www.w3.org/2000/svg\" height=\"24px\"viewBox=\"0 0 24 24\"\n",
       "       width=\"24px\">\n",
       "    <path d=\"M0 0h24v24H0V0z\" fill=\"none\"/>\n",
       "    <path d=\"M18.56 5.44l.94 2.06.94-2.06 2.06-.94-2.06-.94-.94-2.06-.94 2.06-2.06.94zm-11 1L8.5 8.5l.94-2.06 2.06-.94-2.06-.94L8.5 2.5l-.94 2.06-2.06.94zm10 10l.94 2.06.94-2.06 2.06-.94-2.06-.94-.94-2.06-.94 2.06-2.06.94z\"/><path d=\"M17.41 7.96l-1.37-1.37c-.4-.4-.92-.59-1.43-.59-.52 0-1.04.2-1.43.59L10.3 9.45l-7.72 7.72c-.78.78-.78 2.05 0 2.83L4 21.41c.39.39.9.59 1.41.59.51 0 1.02-.2 1.41-.59l7.78-7.78 2.81-2.81c.8-.78.8-2.07 0-2.86zM5.41 20L4 18.59l7.72-7.72 1.47 1.35L5.41 20z\"/>\n",
       "  </svg>\n",
       "      </button>\n",
       "      \n",
       "  <style>\n",
       "    .colab-df-container {\n",
       "      display:flex;\n",
       "      flex-wrap:wrap;\n",
       "      gap: 12px;\n",
       "    }\n",
       "\n",
       "    .colab-df-convert {\n",
       "      background-color: #E8F0FE;\n",
       "      border: none;\n",
       "      border-radius: 50%;\n",
       "      cursor: pointer;\n",
       "      display: none;\n",
       "      fill: #1967D2;\n",
       "      height: 32px;\n",
       "      padding: 0 0 0 0;\n",
       "      width: 32px;\n",
       "    }\n",
       "\n",
       "    .colab-df-convert:hover {\n",
       "      background-color: #E2EBFA;\n",
       "      box-shadow: 0px 1px 2px rgba(60, 64, 67, 0.3), 0px 1px 3px 1px rgba(60, 64, 67, 0.15);\n",
       "      fill: #174EA6;\n",
       "    }\n",
       "\n",
       "    [theme=dark] .colab-df-convert {\n",
       "      background-color: #3B4455;\n",
       "      fill: #D2E3FC;\n",
       "    }\n",
       "\n",
       "    [theme=dark] .colab-df-convert:hover {\n",
       "      background-color: #434B5C;\n",
       "      box-shadow: 0px 1px 3px 1px rgba(0, 0, 0, 0.15);\n",
       "      filter: drop-shadow(0px 1px 2px rgba(0, 0, 0, 0.3));\n",
       "      fill: #FFFFFF;\n",
       "    }\n",
       "  </style>\n",
       "\n",
       "      <script>\n",
       "        const buttonEl =\n",
       "          document.querySelector('#df-ae000065-f7e4-4965-93ad-1fecc3b41bba button.colab-df-convert');\n",
       "        buttonEl.style.display =\n",
       "          google.colab.kernel.accessAllowed ? 'block' : 'none';\n",
       "\n",
       "        async function convertToInteractive(key) {\n",
       "          const element = document.querySelector('#df-ae000065-f7e4-4965-93ad-1fecc3b41bba');\n",
       "          const dataTable =\n",
       "            await google.colab.kernel.invokeFunction('convertToInteractive',\n",
       "                                                     [key], {});\n",
       "          if (!dataTable) return;\n",
       "\n",
       "          const docLinkHtml = 'Like what you see? Visit the ' +\n",
       "            '<a target=\"_blank\" href=https://colab.research.google.com/notebooks/data_table.ipynb>data table notebook</a>'\n",
       "            + ' to learn more about interactive tables.';\n",
       "          element.innerHTML = '';\n",
       "          dataTable['output_type'] = 'display_data';\n",
       "          await google.colab.output.renderOutput(dataTable, element);\n",
       "          const docLink = document.createElement('div');\n",
       "          docLink.innerHTML = docLinkHtml;\n",
       "          element.appendChild(docLink);\n",
       "        }\n",
       "      </script>\n",
       "    </div>\n",
       "  </div>\n",
       "  "
      ],
      "text/plain": [
       "     Pregnancies  Glucose  BloodPressure  SkinThickness  Insulin    BMI  \\\n",
       "60             2       84             27           29.0    147.0   8.05   \n",
       "618            9      112             82           24.0    147.0  28.20   \n",
       "346            1      139             46           19.0     83.0  28.70   \n",
       "294            0      161             50           29.0    147.0  21.90   \n",
       "231            6      134             80           37.0    370.0  46.20   \n",
       "..           ...      ...            ...            ...      ...    ...   \n",
       "71             5      139             64           35.0    140.0  28.60   \n",
       "106            1       96            115           29.0    147.0  22.40   \n",
       "270           10      101             86           37.0    147.0  45.60   \n",
       "435            0      141             27           29.0    147.0  42.40   \n",
       "102            0      125             96           29.0    147.0  22.50   \n",
       "\n",
       "     DiabetesPedigreeFunction   Age  \n",
       "60                      0.304  21.0  \n",
       "618                     1.282  50.0  \n",
       "346                     0.654  22.0  \n",
       "294                     0.254  65.0  \n",
       "231                     0.238  46.0  \n",
       "..                        ...   ...  \n",
       "71                      0.411  26.0  \n",
       "106                     0.207  27.0  \n",
       "270                     1.136  38.0  \n",
       "435                     0.205  29.0  \n",
       "102                     0.262  21.0  \n",
       "\n",
       "[614 rows x 8 columns]"
      ]
     },
     "execution_count": 44,
     "metadata": {},
     "output_type": "execute_result"
    }
   ],
   "source": [
    "X_train"
   ]
  },
  {
   "cell_type": "code",
   "execution_count": 45,
   "id": "njiwIG4Y3uPR",
   "metadata": {
    "colab": {
     "base_uri": "https://localhost:8080/"
    },
    "executionInfo": {
     "elapsed": 39,
     "status": "ok",
     "timestamp": 1686345623719,
     "user": {
      "displayName": "Zamil Zamil",
      "userId": "04811903815352297421"
     },
     "user_tz": -360
    },
    "id": "njiwIG4Y3uPR",
    "outputId": "6dc36b53-bca6-4c4f-c1fd-2307058bc46e"
   },
   "outputs": [
    {
     "data": {
      "text/plain": [
       "60     0.0\n",
       "618    1.0\n",
       "346    0.0\n",
       "294    0.0\n",
       "231    1.0\n",
       "      ... \n",
       "71     0.0\n",
       "106    0.0\n",
       "270    1.0\n",
       "435    1.0\n",
       "102    0.0\n",
       "Name: Outcome, Length: 614, dtype: float64"
      ]
     },
     "execution_count": 45,
     "metadata": {},
     "output_type": "execute_result"
    }
   ],
   "source": [
    "y_train"
   ]
  },
  {
   "cell_type": "code",
   "execution_count": 46,
   "id": "ptF480ei3p5k",
   "metadata": {
    "colab": {
     "base_uri": "https://localhost:8080/",
     "height": 424
    },
    "executionInfo": {
     "elapsed": 36,
     "status": "ok",
     "timestamp": 1686345623720,
     "user": {
      "displayName": "Zamil Zamil",
      "userId": "04811903815352297421"
     },
     "user_tz": -360
    },
    "id": "ptF480ei3p5k",
    "outputId": "d964953e-87cb-4327-fa13-9f4fd89fec48"
   },
   "outputs": [
    {
     "data": {
      "text/html": [
       "\n",
       "  <div id=\"df-20c2d93f-fb5d-4f05-891d-c83ecb384965\">\n",
       "    <div class=\"colab-df-container\">\n",
       "      <div>\n",
       "<style scoped>\n",
       "    .dataframe tbody tr th:only-of-type {\n",
       "        vertical-align: middle;\n",
       "    }\n",
       "\n",
       "    .dataframe tbody tr th {\n",
       "        vertical-align: top;\n",
       "    }\n",
       "\n",
       "    .dataframe thead th {\n",
       "        text-align: right;\n",
       "    }\n",
       "</style>\n",
       "<table border=\"1\" class=\"dataframe\">\n",
       "  <thead>\n",
       "    <tr style=\"text-align: right;\">\n",
       "      <th></th>\n",
       "      <th>Pregnancies</th>\n",
       "      <th>Glucose</th>\n",
       "      <th>BloodPressure</th>\n",
       "      <th>SkinThickness</th>\n",
       "      <th>Insulin</th>\n",
       "      <th>BMI</th>\n",
       "      <th>DiabetesPedigreeFunction</th>\n",
       "      <th>Age</th>\n",
       "    </tr>\n",
       "  </thead>\n",
       "  <tbody>\n",
       "    <tr>\n",
       "      <th>668</th>\n",
       "      <td>6</td>\n",
       "      <td>98</td>\n",
       "      <td>58</td>\n",
       "      <td>33.0</td>\n",
       "      <td>190.0</td>\n",
       "      <td>34.0</td>\n",
       "      <td>0.430</td>\n",
       "      <td>43.0</td>\n",
       "    </tr>\n",
       "    <tr>\n",
       "      <th>324</th>\n",
       "      <td>2</td>\n",
       "      <td>112</td>\n",
       "      <td>75</td>\n",
       "      <td>32.0</td>\n",
       "      <td>147.0</td>\n",
       "      <td>35.7</td>\n",
       "      <td>0.148</td>\n",
       "      <td>21.0</td>\n",
       "    </tr>\n",
       "    <tr>\n",
       "      <th>624</th>\n",
       "      <td>2</td>\n",
       "      <td>108</td>\n",
       "      <td>64</td>\n",
       "      <td>29.0</td>\n",
       "      <td>147.0</td>\n",
       "      <td>30.8</td>\n",
       "      <td>0.158</td>\n",
       "      <td>21.0</td>\n",
       "    </tr>\n",
       "    <tr>\n",
       "      <th>690</th>\n",
       "      <td>8</td>\n",
       "      <td>107</td>\n",
       "      <td>80</td>\n",
       "      <td>29.0</td>\n",
       "      <td>147.0</td>\n",
       "      <td>24.6</td>\n",
       "      <td>0.856</td>\n",
       "      <td>34.0</td>\n",
       "    </tr>\n",
       "    <tr>\n",
       "      <th>473</th>\n",
       "      <td>7</td>\n",
       "      <td>136</td>\n",
       "      <td>90</td>\n",
       "      <td>29.0</td>\n",
       "      <td>147.0</td>\n",
       "      <td>29.9</td>\n",
       "      <td>0.210</td>\n",
       "      <td>50.0</td>\n",
       "    </tr>\n",
       "    <tr>\n",
       "      <th>...</th>\n",
       "      <td>...</td>\n",
       "      <td>...</td>\n",
       "      <td>...</td>\n",
       "      <td>...</td>\n",
       "      <td>...</td>\n",
       "      <td>...</td>\n",
       "      <td>...</td>\n",
       "      <td>...</td>\n",
       "    </tr>\n",
       "    <tr>\n",
       "      <th>355</th>\n",
       "      <td>9</td>\n",
       "      <td>165</td>\n",
       "      <td>88</td>\n",
       "      <td>29.0</td>\n",
       "      <td>147.0</td>\n",
       "      <td>30.4</td>\n",
       "      <td>0.302</td>\n",
       "      <td>49.0</td>\n",
       "    </tr>\n",
       "    <tr>\n",
       "      <th>534</th>\n",
       "      <td>1</td>\n",
       "      <td>77</td>\n",
       "      <td>56</td>\n",
       "      <td>30.0</td>\n",
       "      <td>56.0</td>\n",
       "      <td>33.3</td>\n",
       "      <td>1.251</td>\n",
       "      <td>24.0</td>\n",
       "    </tr>\n",
       "    <tr>\n",
       "      <th>344</th>\n",
       "      <td>8</td>\n",
       "      <td>95</td>\n",
       "      <td>72</td>\n",
       "      <td>29.0</td>\n",
       "      <td>147.0</td>\n",
       "      <td>36.8</td>\n",
       "      <td>0.485</td>\n",
       "      <td>57.0</td>\n",
       "    </tr>\n",
       "    <tr>\n",
       "      <th>296</th>\n",
       "      <td>2</td>\n",
       "      <td>146</td>\n",
       "      <td>70</td>\n",
       "      <td>38.0</td>\n",
       "      <td>360.0</td>\n",
       "      <td>28.0</td>\n",
       "      <td>0.337</td>\n",
       "      <td>29.0</td>\n",
       "    </tr>\n",
       "    <tr>\n",
       "      <th>462</th>\n",
       "      <td>8</td>\n",
       "      <td>74</td>\n",
       "      <td>70</td>\n",
       "      <td>40.0</td>\n",
       "      <td>49.0</td>\n",
       "      <td>35.3</td>\n",
       "      <td>0.705</td>\n",
       "      <td>39.0</td>\n",
       "    </tr>\n",
       "  </tbody>\n",
       "</table>\n",
       "<p>154 rows × 8 columns</p>\n",
       "</div>\n",
       "      <button class=\"colab-df-convert\" onclick=\"convertToInteractive('df-20c2d93f-fb5d-4f05-891d-c83ecb384965')\"\n",
       "              title=\"Convert this dataframe to an interactive table.\"\n",
       "              style=\"display:none;\">\n",
       "        \n",
       "  <svg xmlns=\"http://www.w3.org/2000/svg\" height=\"24px\"viewBox=\"0 0 24 24\"\n",
       "       width=\"24px\">\n",
       "    <path d=\"M0 0h24v24H0V0z\" fill=\"none\"/>\n",
       "    <path d=\"M18.56 5.44l.94 2.06.94-2.06 2.06-.94-2.06-.94-.94-2.06-.94 2.06-2.06.94zm-11 1L8.5 8.5l.94-2.06 2.06-.94-2.06-.94L8.5 2.5l-.94 2.06-2.06.94zm10 10l.94 2.06.94-2.06 2.06-.94-2.06-.94-.94-2.06-.94 2.06-2.06.94z\"/><path d=\"M17.41 7.96l-1.37-1.37c-.4-.4-.92-.59-1.43-.59-.52 0-1.04.2-1.43.59L10.3 9.45l-7.72 7.72c-.78.78-.78 2.05 0 2.83L4 21.41c.39.39.9.59 1.41.59.51 0 1.02-.2 1.41-.59l7.78-7.78 2.81-2.81c.8-.78.8-2.07 0-2.86zM5.41 20L4 18.59l7.72-7.72 1.47 1.35L5.41 20z\"/>\n",
       "  </svg>\n",
       "      </button>\n",
       "      \n",
       "  <style>\n",
       "    .colab-df-container {\n",
       "      display:flex;\n",
       "      flex-wrap:wrap;\n",
       "      gap: 12px;\n",
       "    }\n",
       "\n",
       "    .colab-df-convert {\n",
       "      background-color: #E8F0FE;\n",
       "      border: none;\n",
       "      border-radius: 50%;\n",
       "      cursor: pointer;\n",
       "      display: none;\n",
       "      fill: #1967D2;\n",
       "      height: 32px;\n",
       "      padding: 0 0 0 0;\n",
       "      width: 32px;\n",
       "    }\n",
       "\n",
       "    .colab-df-convert:hover {\n",
       "      background-color: #E2EBFA;\n",
       "      box-shadow: 0px 1px 2px rgba(60, 64, 67, 0.3), 0px 1px 3px 1px rgba(60, 64, 67, 0.15);\n",
       "      fill: #174EA6;\n",
       "    }\n",
       "\n",
       "    [theme=dark] .colab-df-convert {\n",
       "      background-color: #3B4455;\n",
       "      fill: #D2E3FC;\n",
       "    }\n",
       "\n",
       "    [theme=dark] .colab-df-convert:hover {\n",
       "      background-color: #434B5C;\n",
       "      box-shadow: 0px 1px 3px 1px rgba(0, 0, 0, 0.15);\n",
       "      filter: drop-shadow(0px 1px 2px rgba(0, 0, 0, 0.3));\n",
       "      fill: #FFFFFF;\n",
       "    }\n",
       "  </style>\n",
       "\n",
       "      <script>\n",
       "        const buttonEl =\n",
       "          document.querySelector('#df-20c2d93f-fb5d-4f05-891d-c83ecb384965 button.colab-df-convert');\n",
       "        buttonEl.style.display =\n",
       "          google.colab.kernel.accessAllowed ? 'block' : 'none';\n",
       "\n",
       "        async function convertToInteractive(key) {\n",
       "          const element = document.querySelector('#df-20c2d93f-fb5d-4f05-891d-c83ecb384965');\n",
       "          const dataTable =\n",
       "            await google.colab.kernel.invokeFunction('convertToInteractive',\n",
       "                                                     [key], {});\n",
       "          if (!dataTable) return;\n",
       "\n",
       "          const docLinkHtml = 'Like what you see? Visit the ' +\n",
       "            '<a target=\"_blank\" href=https://colab.research.google.com/notebooks/data_table.ipynb>data table notebook</a>'\n",
       "            + ' to learn more about interactive tables.';\n",
       "          element.innerHTML = '';\n",
       "          dataTable['output_type'] = 'display_data';\n",
       "          await google.colab.output.renderOutput(dataTable, element);\n",
       "          const docLink = document.createElement('div');\n",
       "          docLink.innerHTML = docLinkHtml;\n",
       "          element.appendChild(docLink);\n",
       "        }\n",
       "      </script>\n",
       "    </div>\n",
       "  </div>\n",
       "  "
      ],
      "text/plain": [
       "     Pregnancies  Glucose  BloodPressure  SkinThickness  Insulin   BMI  \\\n",
       "668            6       98             58           33.0    190.0  34.0   \n",
       "324            2      112             75           32.0    147.0  35.7   \n",
       "624            2      108             64           29.0    147.0  30.8   \n",
       "690            8      107             80           29.0    147.0  24.6   \n",
       "473            7      136             90           29.0    147.0  29.9   \n",
       "..           ...      ...            ...            ...      ...   ...   \n",
       "355            9      165             88           29.0    147.0  30.4   \n",
       "534            1       77             56           30.0     56.0  33.3   \n",
       "344            8       95             72           29.0    147.0  36.8   \n",
       "296            2      146             70           38.0    360.0  28.0   \n",
       "462            8       74             70           40.0     49.0  35.3   \n",
       "\n",
       "     DiabetesPedigreeFunction   Age  \n",
       "668                     0.430  43.0  \n",
       "324                     0.148  21.0  \n",
       "624                     0.158  21.0  \n",
       "690                     0.856  34.0  \n",
       "473                     0.210  50.0  \n",
       "..                        ...   ...  \n",
       "355                     0.302  49.0  \n",
       "534                     1.251  24.0  \n",
       "344                     0.485  57.0  \n",
       "296                     0.337  29.0  \n",
       "462                     0.705  39.0  \n",
       "\n",
       "[154 rows x 8 columns]"
      ]
     },
     "execution_count": 46,
     "metadata": {},
     "output_type": "execute_result"
    }
   ],
   "source": [
    "X_test"
   ]
  },
  {
   "cell_type": "code",
   "execution_count": 47,
   "id": "O_-rbLnu3sCB",
   "metadata": {
    "colab": {
     "base_uri": "https://localhost:8080/"
    },
    "executionInfo": {
     "elapsed": 35,
     "status": "ok",
     "timestamp": 1686345623720,
     "user": {
      "displayName": "Zamil Zamil",
      "userId": "04811903815352297421"
     },
     "user_tz": -360
    },
    "id": "O_-rbLnu3sCB",
    "outputId": "2d756172-19c6-48ab-d2c8-1f85b823be8f"
   },
   "outputs": [
    {
     "data": {
      "text/plain": [
       "668    0.0\n",
       "324    0.0\n",
       "624    0.0\n",
       "690    0.0\n",
       "473    0.0\n",
       "      ... \n",
       "355    1.0\n",
       "534    0.0\n",
       "344    0.0\n",
       "296    1.0\n",
       "462    0.0\n",
       "Name: Outcome, Length: 154, dtype: float64"
      ]
     },
     "execution_count": 47,
     "metadata": {},
     "output_type": "execute_result"
    }
   ],
   "source": [
    "y_test"
   ]
  },
  {
   "cell_type": "markdown",
   "id": "5107bad7",
   "metadata": {
    "id": "5107bad7"
   },
   "source": [
    "### Feature Scaling"
   ]
  },
  {
   "cell_type": "code",
   "execution_count": 48,
   "id": "cb3e1c90",
   "metadata": {
    "executionInfo": {
     "elapsed": 33,
     "status": "ok",
     "timestamp": 1686345623721,
     "user": {
      "displayName": "Zamil Zamil",
      "userId": "04811903815352297421"
     },
     "user_tz": -360
    },
    "id": "cb3e1c90"
   },
   "outputs": [],
   "source": [
    "sc_X = StandardScaler()\n",
    "X_train_std = sc_X.fit_transform(X_train)\n",
    "X_test_std = sc_X.fit_transform(X_test)"
   ]
  },
  {
   "cell_type": "markdown",
   "id": "Uo5w3GTwH6cc",
   "metadata": {
    "id": "Uo5w3GTwH6cc"
   },
   "source": [
    "## Models Training & Classification Report "
   ]
  },
  {
   "cell_type": "markdown",
   "id": "Ekf2yKIzxCM3",
   "metadata": {
    "id": "Ekf2yKIzxCM3"
   },
   "source": [
    "### Decision Tree Algorithm"
   ]
  },
  {
   "cell_type": "code",
   "execution_count": 49,
   "id": "CmueXkMrn4dd",
   "metadata": {
    "colab": {
     "base_uri": "https://localhost:8080/"
    },
    "executionInfo": {
     "elapsed": 32,
     "status": "ok",
     "timestamp": 1686345623721,
     "user": {
      "displayName": "Zamil Zamil",
      "userId": "04811903815352297421"
     },
     "user_tz": -360
    },
    "id": "CmueXkMrn4dd",
    "outputId": "8781cc81-5d76-43ee-817c-807bd67a7c0a"
   },
   "outputs": [
    {
     "name": "stdout",
     "output_type": "stream",
     "text": [
      "Decision Tree Algorithm Accuracy: 0.7272727272727273\n"
     ]
    }
   ],
   "source": [
    "from sklearn.tree import DecisionTreeClassifier\n",
    "from sklearn.metrics import accuracy_score\n",
    "\n",
    "\n",
    "# Train decision tree classifier on training set\n",
    "DT_clf = DecisionTreeClassifier()\n",
    "DT_clf.fit(X_train, y_train)\n",
    "\n",
    "# Predict classes for test set\n",
    "DT_pred = DT_clf.predict(X_test)\n",
    "\n",
    "# Calculate accuracy of predictions\n",
    "DT_ACC = accuracy_score(y_test, DT_pred)\n",
    "print(f\"Decision Tree Algorithm Accuracy: {DT_ACC}\")"
   ]
  },
  {
   "cell_type": "markdown",
   "id": "1BFWHTVXohWY",
   "metadata": {
    "id": "1BFWHTVXohWY"
   },
   "source": [
    "### Decision Tree Algorithm Classification report"
   ]
  },
  {
   "cell_type": "code",
   "execution_count": 50,
   "id": "zk-1mQLYokC3",
   "metadata": {
    "colab": {
     "base_uri": "https://localhost:8080/"
    },
    "executionInfo": {
     "elapsed": 31,
     "status": "ok",
     "timestamp": 1686345623722,
     "user": {
      "displayName": "Zamil Zamil",
      "userId": "04811903815352297421"
     },
     "user_tz": -360
    },
    "id": "zk-1mQLYokC3",
    "outputId": "ca015ed4-0503-42ba-b38f-c01dd5681132"
   },
   "outputs": [
    {
     "name": "stdout",
     "output_type": "stream",
     "text": [
      "Decision Tree Algorithm Classification report\n",
      "              precision    recall  f1-score   support\n",
      "\n",
      "         0.0       0.79      0.78      0.79        99\n",
      "         1.0       0.61      0.64      0.62        55\n",
      "\n",
      "    accuracy                           0.73       154\n",
      "   macro avg       0.70      0.71      0.71       154\n",
      "weighted avg       0.73      0.73      0.73       154\n",
      "\n"
     ]
    }
   ],
   "source": [
    "from sklearn.metrics import classification_report\n",
    "\n",
    "# Generate classification report\n",
    "DT_report = classification_report(y_test, DT_pred)\n",
    "\n",
    "# Print the header\n",
    "print(\"Decision Tree Algorithm Classification report\")\n",
    "\n",
    "# Print the report\n",
    "print(DT_report)"
   ]
  },
  {
   "cell_type": "markdown",
   "id": "N8zjkA5dpcot",
   "metadata": {
    "id": "N8zjkA5dpcot"
   },
   "source": [
    "### K-Nearest Neighbors Algorithm"
   ]
  },
  {
   "cell_type": "markdown",
   "id": "GVW40TTd9PFN",
   "metadata": {
    "id": "GVW40TTd9PFN"
   },
   "source": [
    "#### Find the value of K"
   ]
  },
  {
   "cell_type": "code",
   "execution_count": 51,
   "id": "py3olHFl9VSF",
   "metadata": {
    "colab": {
     "base_uri": "https://localhost:8080/"
    },
    "executionInfo": {
     "elapsed": 29,
     "status": "ok",
     "timestamp": 1686345623723,
     "user": {
      "displayName": "Zamil Zamil",
      "userId": "04811903815352297421"
     },
     "user_tz": -360
    },
    "id": "py3olHFl9VSF",
    "outputId": "d698a8b3-807d-4d8d-8373-59405f1015bb"
   },
   "outputs": [
    {
     "data": {
      "text/plain": [
       "12.409673645990857"
      ]
     },
     "execution_count": 51,
     "metadata": {},
     "output_type": "execute_result"
    }
   ],
   "source": [
    "import math\n",
    "math.sqrt(len(X_test))"
   ]
  },
  {
   "cell_type": "code",
   "execution_count": 52,
   "id": "f1E1B2BUpgDA",
   "metadata": {
    "colab": {
     "base_uri": "https://localhost:8080/"
    },
    "executionInfo": {
     "elapsed": 27,
     "status": "ok",
     "timestamp": 1686345623724,
     "user": {
      "displayName": "Zamil Zamil",
      "userId": "04811903815352297421"
     },
     "user_tz": -360
    },
    "id": "f1E1B2BUpgDA",
    "outputId": "822e9570-f438-44d9-a8c4-e92ac98c0868"
   },
   "outputs": [
    {
     "name": "stdout",
     "output_type": "stream",
     "text": [
      "K-Nearest Neighbors Algorithm Accuracy: 0.7532467532467533\n"
     ]
    }
   ],
   "source": [
    "from sklearn.neighbors import KNeighborsClassifier\n",
    "from sklearn.metrics import accuracy_score\n",
    "from sklearn.preprocessing import StandardScaler\n",
    "\n",
    "# Train K-Nearest Neighbors classifier on training set\n",
    "# as 12 is an even no. we consider 11 as the value of K\n",
    "KNN_clf = KNeighborsClassifier(n_neighbors=11,p=2,metric='euclidean')       \n",
    "KNN_clf.fit(X_train_std, y_train)\n",
    "\n",
    "# Predict classes for test set\n",
    "KNN_pred = KNN_clf.predict(X_test_std)\n",
    "\n",
    "# Calculate accuracy of predictions\n",
    "KNN_ACC = accuracy_score(y_test, KNN_pred)\n",
    "print(f\"K-Nearest Neighbors Algorithm Accuracy: {KNN_ACC}\")"
   ]
  },
  {
   "cell_type": "markdown",
   "id": "nLmKgdpjpuA0",
   "metadata": {
    "id": "nLmKgdpjpuA0"
   },
   "source": [
    "### K-Nearest Neighbors Algorithm Classification report"
   ]
  },
  {
   "cell_type": "code",
   "execution_count": 53,
   "id": "37Rx3WN5ps6l",
   "metadata": {
    "colab": {
     "base_uri": "https://localhost:8080/"
    },
    "executionInfo": {
     "elapsed": 24,
     "status": "ok",
     "timestamp": 1686345623724,
     "user": {
      "displayName": "Zamil Zamil",
      "userId": "04811903815352297421"
     },
     "user_tz": -360
    },
    "id": "37Rx3WN5ps6l",
    "outputId": "1f6b0354-ffb6-4cd0-e280-343795b69bef"
   },
   "outputs": [
    {
     "name": "stdout",
     "output_type": "stream",
     "text": [
      "K-Nearest Neighbors Algorithm Classification report\n",
      "              precision    recall  f1-score   support\n",
      "\n",
      "         0.0       0.80      0.82      0.81        99\n",
      "         1.0       0.66      0.64      0.65        55\n",
      "\n",
      "    accuracy                           0.75       154\n",
      "   macro avg       0.73      0.73      0.73       154\n",
      "weighted avg       0.75      0.75      0.75       154\n",
      "\n"
     ]
    }
   ],
   "source": [
    "from sklearn.metrics import classification_report\n",
    "\n",
    "# Generate classification report\n",
    "KNN_report = classification_report(y_test, KNN_pred)\n",
    "\n",
    "# Print the header\n",
    "print(\"K-Nearest Neighbors Algorithm Classification report\")\n",
    "\n",
    "# Print the report\n",
    "print(KNN_report)"
   ]
  },
  {
   "cell_type": "markdown",
   "id": "I9CrkxdZp000",
   "metadata": {
    "id": "I9CrkxdZp000"
   },
   "source": [
    "### Naive Bayes Algorithm"
   ]
  },
  {
   "cell_type": "code",
   "execution_count": 54,
   "id": "IEizqYmEp4WY",
   "metadata": {
    "colab": {
     "base_uri": "https://localhost:8080/"
    },
    "executionInfo": {
     "elapsed": 23,
     "status": "ok",
     "timestamp": 1686345623725,
     "user": {
      "displayName": "Zamil Zamil",
      "userId": "04811903815352297421"
     },
     "user_tz": -360
    },
    "id": "IEizqYmEp4WY",
    "outputId": "76e23252-81bb-4c3f-e43c-5d773fb8c699"
   },
   "outputs": [
    {
     "name": "stdout",
     "output_type": "stream",
     "text": [
      "Naive Bayes Algorithm Accuracy: 0.7077922077922078\n"
     ]
    }
   ],
   "source": [
    "from sklearn.naive_bayes import MultinomialNB\n",
    "from sklearn.feature_extraction.text import CountVectorizer\n",
    "from sklearn.metrics import accuracy_score\n",
    "\n",
    "# Train Naive Bayes classifier on training set\n",
    "NB_clf = MultinomialNB()\n",
    "NB_clf.fit(X_train, y_train)\n",
    "\n",
    "# Predict classes for test set\n",
    "NB_pred = NB_clf.predict(X_test)\n",
    "\n",
    "# Calculate accuracy of predictions\n",
    "NB_ACC = accuracy_score(y_test, NB_pred)\n",
    "print(f\"Naive Bayes Algorithm Accuracy: {NB_ACC}\")"
   ]
  },
  {
   "cell_type": "markdown",
   "id": "328g45Elp9_9",
   "metadata": {
    "id": "328g45Elp9_9"
   },
   "source": [
    "### Naive Bayes Algorithm Classification report"
   ]
  },
  {
   "cell_type": "code",
   "execution_count": 55,
   "id": "Sz05P3YsqBQ8",
   "metadata": {
    "colab": {
     "base_uri": "https://localhost:8080/"
    },
    "executionInfo": {
     "elapsed": 563,
     "status": "ok",
     "timestamp": 1686345624267,
     "user": {
      "displayName": "Zamil Zamil",
      "userId": "04811903815352297421"
     },
     "user_tz": -360
    },
    "id": "Sz05P3YsqBQ8",
    "outputId": "f3970fcf-12c3-4f84-dc31-ae90bdc7a0da"
   },
   "outputs": [
    {
     "name": "stdout",
     "output_type": "stream",
     "text": [
      "Naive Bayes Algorithm Classification report\n",
      "              precision    recall  f1-score   support\n",
      "\n",
      "         0.0       0.78      0.76      0.77        99\n",
      "         1.0       0.59      0.62      0.60        55\n",
      "\n",
      "    accuracy                           0.71       154\n",
      "   macro avg       0.68      0.69      0.69       154\n",
      "weighted avg       0.71      0.71      0.71       154\n",
      "\n"
     ]
    }
   ],
   "source": [
    "from sklearn.metrics import classification_report\n",
    "\n",
    "# Generate classification report\n",
    "NB_report = classification_report(y_test, NB_pred)\n",
    "\n",
    "# Print the header\n",
    "print(\"Naive Bayes Algorithm Classification report\")\n",
    "\n",
    "# Print the report\n",
    "print(NB_report)"
   ]
  },
  {
   "cell_type": "markdown",
   "id": "JBmbeZCLtepY",
   "metadata": {
    "id": "JBmbeZCLtepY"
   },
   "source": [
    "### Artificial Neural Network Algorithm"
   ]
  },
  {
   "cell_type": "code",
   "execution_count": 56,
   "id": "rlmXvWuutgew",
   "metadata": {
    "colab": {
     "base_uri": "https://localhost:8080/"
    },
    "executionInfo": {
     "elapsed": 7222,
     "status": "ok",
     "timestamp": 1686345631486,
     "user": {
      "displayName": "Zamil Zamil",
      "userId": "04811903815352297421"
     },
     "user_tz": -360
    },
    "id": "rlmXvWuutgew",
    "outputId": "daf08d8e-aaa7-4c9d-f935-5982789b3d1f"
   },
   "outputs": [
    {
     "name": "stdout",
     "output_type": "stream",
     "text": [
      "ANN Algorithm Accuracy: 0.6428571428571429\n"
     ]
    }
   ],
   "source": [
    "from sklearn.preprocessing import StandardScaler\n",
    "from sklearn.neural_network import MLPClassifier\n",
    "from sklearn.metrics import accuracy_score\n",
    "\n",
    "# Create and train the ANN classifier\n",
    "ANN_clf = MLPClassifier(hidden_layer_sizes=(50, 50), max_iter=1000, random_state=42)\n",
    "ANN_clf.fit(X_train_std, y_train)\n",
    "\n",
    "# Predict classes for test set\n",
    "ANN_pred = ANN_clf.predict(X_test_std)\n",
    "\n",
    "# Calculate accuracy of predictions\n",
    "ANN_ACC = accuracy_score(y_test, ANN_pred)\n",
    "print(f\"ANN Algorithm Accuracy: {ANN_ACC}\")\n"
   ]
  },
  {
   "cell_type": "markdown",
   "id": "GVXfuaiiuMXB",
   "metadata": {
    "id": "GVXfuaiiuMXB"
   },
   "source": [
    "### Artificial Neural Network Algorithm Classification report"
   ]
  },
  {
   "cell_type": "code",
   "execution_count": 57,
   "id": "KQ16NjlsuP9Z",
   "metadata": {
    "colab": {
     "base_uri": "https://localhost:8080/"
    },
    "executionInfo": {
     "elapsed": 23,
     "status": "ok",
     "timestamp": 1686345631486,
     "user": {
      "displayName": "Zamil Zamil",
      "userId": "04811903815352297421"
     },
     "user_tz": -360
    },
    "id": "KQ16NjlsuP9Z",
    "outputId": "d83772a8-8837-47db-85f1-ecde020ca148"
   },
   "outputs": [
    {
     "name": "stdout",
     "output_type": "stream",
     "text": [
      "Artificial Neural Network Algorithm Classification report\n",
      "              precision    recall  f1-score   support\n",
      "\n",
      "         0.0       0.72      0.73      0.72        99\n",
      "         1.0       0.50      0.49      0.50        55\n",
      "\n",
      "    accuracy                           0.64       154\n",
      "   macro avg       0.61      0.61      0.61       154\n",
      "weighted avg       0.64      0.64      0.64       154\n",
      "\n"
     ]
    }
   ],
   "source": [
    "from sklearn.metrics import classification_report\n",
    "\n",
    "# Generate classification report\n",
    "ANN_report = classification_report(y_test, ANN_pred)\n",
    "\n",
    "# Print the header\n",
    "print(\"Artificial Neural Network Algorithm Classification report\")\n",
    "\n",
    "# Print the report\n",
    "print(ANN_report)"
   ]
  },
  {
   "cell_type": "markdown",
   "id": "dn7XNyfIyFBN",
   "metadata": {
    "id": "dn7XNyfIyFBN"
   },
   "source": [
    "### Accuracy Comparison of Four Algorithms"
   ]
  },
  {
   "cell_type": "code",
   "execution_count": 58,
   "id": "ouA2MkdIzCqv",
   "metadata": {
    "colab": {
     "base_uri": "https://localhost:8080/",
     "height": 573
    },
    "executionInfo": {
     "elapsed": 906,
     "status": "ok",
     "timestamp": 1686345632378,
     "user": {
      "displayName": "Zamil Zamil",
      "userId": "04811903815352297421"
     },
     "user_tz": -360
    },
    "id": "ouA2MkdIzCqv",
    "outputId": "75c78456-a986-46b2-9eb5-66f0c56ccfab"
   },
   "outputs": [
    {
     "data": {
      "image/png": "[encoded data removed]",
      "text/plain": [
       "<Figure size 1200x600 with 1 Axes>"
      ]
     },
     "metadata": {},
     "output_type": "display_data"
    }
   ],
   "source": [
    "algorithms = ['Decision Tree', 'K-Nearest Neighbors', 'Naive Bayes', 'Artificial Neural Network']\n",
    "accuracy_scores = [DT_ACC, KNN_ACC, NB_ACC,  ANN_ACC]\n",
    "\n",
    "sns.set(style='whitegrid')\n",
    "plt.figure(figsize=(12, 6))\n",
    "\n",
    "ax = sns.barplot(x=algorithms, y=accuracy_scores)\n",
    "ax.set_title('Comparison of Four Algorithms')\n",
    "ax.set_xlabel('Algorithms')\n",
    "ax.set_ylabel('Accuracy Score')\n",
    "\n",
    "for i, v in enumerate(accuracy_scores):\n",
    "    ax.text(i, v + 0.005, str(round(v, 3)), fontsize=12, color='black', ha='center')\n",
    "\n",
    "plt.show()"
   ]
  },
  {
   "cell_type": "markdown",
   "id": "0hBvE_0NzVBt",
   "metadata": {
    "id": "0hBvE_0NzVBt"
   },
   "source": [
    "### Creating a Custom Function for Comparing Metrics"
   ]
  },
  {
   "cell_type": "code",
   "execution_count": 59,
   "id": "eYigw3Cnzfsj",
   "metadata": {
    "executionInfo": {
     "elapsed": 10,
     "status": "ok",
     "timestamp": 1686345632378,
     "user": {
      "displayName": "Zamil Zamil",
      "userId": "04811903815352297421"
     },
     "user_tz": -360
    },
    "id": "eYigw3Cnzfsj"
   },
   "outputs": [],
   "source": [
    "# Metrics\n",
    "from sklearn.metrics import accuracy_score, precision_score, recall_score, f1_score\n",
    "\n",
    "def metrics_calculator(y_test, y_pred, model_name):\n",
    "    '''\n",
    "    This function calculates all desired performance metrics for a given model.\n",
    "    '''\n",
    "    result = pd.DataFrame(data=[accuracy_score(y_test, y_pred),\n",
    "                                precision_score(y_test, y_pred, average='macro'),\n",
    "                                recall_score(y_test, y_pred, average='macro'),\n",
    "                                f1_score(y_test, y_pred, average='macro')],\n",
    "                          index=['Accuracy','Precision','Recall','F1-score'],\n",
    "                          columns=[model_name])\n",
    "    \n",
    "    # Adding background gradient and color scale\n",
    "    cmap = 'YlGnBu'  # Choose colormap\n",
    "    vmin = result.min().min()\n",
    "    vmax = result.max().max()\n",
    "    styled_result = result.style.background_gradient(cmap=cmap, vmin=vmin, vmax=vmax)\n",
    "\n",
    "    return styled_result"
   ]
  },
  {
   "cell_type": "markdown",
   "id": "gec512SB0fbz",
   "metadata": {
    "id": "gec512SB0fbz"
   },
   "source": [
    "### Now using the above function calculating Accuracy,Precision,Recall,F1-score"
   ]
  },
  {
   "cell_type": "code",
   "execution_count": 60,
   "id": "Vez-3UgFzglc",
   "metadata": {
    "colab": {
     "base_uri": "https://localhost:8080/",
     "height": 196
    },
    "executionInfo": {
     "elapsed": 11,
     "status": "ok",
     "timestamp": 1686345632379,
     "user": {
      "displayName": "Zamil Zamil",
      "userId": "04811903815352297421"
     },
     "user_tz": -360
    },
    "id": "Vez-3UgFzglc",
    "outputId": "3f86d528-3e35-42be-8af4-448a8db6a3e0"
   },
   "outputs": [
    {
     "data": {
      "text/html": [
       "<style type=\"text/css\">\n",
       "#T_53cbe_row0_col0, #T_53cbe_row2_col1 {\n",
       "  text-align: center;\n",
       "  border: 1px solid black !important;\n",
       "  background-color: #24479d;\n",
       "  color: #f1f1f1;\n",
       "}\n",
       "#T_53cbe_row0_col1 {\n",
       "  text-align: center;\n",
       "  border: 1px solid black !important;\n",
       "  background-color: #081d58;\n",
       "  color: #f1f1f1;\n",
       "}\n",
       "#T_53cbe_row0_col2 {\n",
       "  text-align: center;\n",
       "  border: 1px solid black !important;\n",
       "  background-color: #1f78b4;\n",
       "  color: #f1f1f1;\n",
       "}\n",
       "#T_53cbe_row0_col3 {\n",
       "  text-align: center;\n",
       "  border: 1px solid black !important;\n",
       "  background-color: #cdebb4;\n",
       "  color: #000000;\n",
       "}\n",
       "#T_53cbe_row1_col0 {\n",
       "  text-align: center;\n",
       "  border: 1px solid black !important;\n",
       "  background-color: #1e83ba;\n",
       "  color: #f1f1f1;\n",
       "}\n",
       "#T_53cbe_row1_col1 {\n",
       "  text-align: center;\n",
       "  border: 1px solid black !important;\n",
       "  background-color: #243d98;\n",
       "  color: #f1f1f1;\n",
       "}\n",
       "#T_53cbe_row1_col2 {\n",
       "  text-align: center;\n",
       "  border: 1px solid black !important;\n",
       "  background-color: #3cb1c3;\n",
       "  color: #f1f1f1;\n",
       "}\n",
       "#T_53cbe_row1_col3 {\n",
       "  text-align: center;\n",
       "  border: 1px solid black !important;\n",
       "  background-color: #feffd8;\n",
       "  color: #000000;\n",
       "}\n",
       "#T_53cbe_row2_col0 {\n",
       "  text-align: center;\n",
       "  border: 1px solid black !important;\n",
       "  background-color: #1f7bb6;\n",
       "  color: #f1f1f1;\n",
       "}\n",
       "#T_53cbe_row2_col2 {\n",
       "  text-align: center;\n",
       "  border: 1px solid black !important;\n",
       "  background-color: #34a9c3;\n",
       "  color: #f1f1f1;\n",
       "}\n",
       "#T_53cbe_row2_col3, #T_53cbe_row3_col3 {\n",
       "  text-align: center;\n",
       "  border: 1px solid black !important;\n",
       "  background-color: #ffffd9;\n",
       "  color: #000000;\n",
       "}\n",
       "#T_53cbe_row3_col0 {\n",
       "  text-align: center;\n",
       "  border: 1px solid black !important;\n",
       "  background-color: #1f80b8;\n",
       "  color: #f1f1f1;\n",
       "}\n",
       "#T_53cbe_row3_col1 {\n",
       "  text-align: center;\n",
       "  border: 1px solid black !important;\n",
       "  background-color: #24419a;\n",
       "  color: #f1f1f1;\n",
       "}\n",
       "#T_53cbe_row3_col2 {\n",
       "  text-align: center;\n",
       "  border: 1px solid black !important;\n",
       "  background-color: #39adc3;\n",
       "  color: #f1f1f1;\n",
       "}\n",
       "</style>\n",
       "<table id=\"T_53cbe\" class=\"dataframe\">\n",
       "  <caption>Four Model Performance Metrics</caption>\n",
       "  <thead>\n",
       "    <tr>\n",
       "      <th class=\"blank level0\" >&nbsp;</th>\n",
       "      <th id=\"T_53cbe_level0_col0\" class=\"col_heading level0 col0\" >Decision Tree</th>\n",
       "      <th id=\"T_53cbe_level0_col1\" class=\"col_heading level0 col1\" >K-Nearest Neighbors</th>\n",
       "      <th id=\"T_53cbe_level0_col2\" class=\"col_heading level0 col2\" >Naive Bayes</th>\n",
       "      <th id=\"T_53cbe_level0_col3\" class=\"col_heading level0 col3\" >Artificial Neural Network</th>\n",
       "    </tr>\n",
       "  </thead>\n",
       "  <tbody>\n",
       "    <tr>\n",
       "      <th id=\"T_53cbe_level0_row0\" class=\"row_heading level0 row0\" >Accuracy</th>\n",
       "      <td id=\"T_53cbe_row0_col0\" class=\"data row0 col0\" >0.727273</td>\n",
       "      <td id=\"T_53cbe_row0_col1\" class=\"data row0 col1\" >0.753247</td>\n",
       "      <td id=\"T_53cbe_row0_col2\" class=\"data row0 col2\" >0.707792</td>\n",
       "      <td id=\"T_53cbe_row0_col3\" class=\"data row0 col3\" >0.642857</td>\n",
       "    </tr>\n",
       "    <tr>\n",
       "      <th id=\"T_53cbe_level0_row1\" class=\"row_heading level0 row1\" >Precision</th>\n",
       "      <td id=\"T_53cbe_row1_col0\" class=\"data row1 col0\" >0.703925</td>\n",
       "      <td id=\"T_53cbe_row1_col1\" class=\"data row1 col1\" >0.731179</td>\n",
       "      <td id=\"T_53cbe_row1_col2\" class=\"data row1 col2\" >0.683728</td>\n",
       "      <td id=\"T_53cbe_row1_col3\" class=\"data row1 col3\" >0.610000</td>\n",
       "    </tr>\n",
       "    <tr>\n",
       "      <th id=\"T_53cbe_level0_row2\" class=\"row_heading level0 row2\" >Recall</th>\n",
       "      <td id=\"T_53cbe_row2_col0\" class=\"data row2 col0\" >0.707071</td>\n",
       "      <td id=\"T_53cbe_row2_col1\" class=\"data row2 col1\" >0.727273</td>\n",
       "      <td id=\"T_53cbe_row2_col2\" class=\"data row2 col2\" >0.687879</td>\n",
       "      <td id=\"T_53cbe_row2_col3\" class=\"data row2 col3\" >0.609091</td>\n",
       "    </tr>\n",
       "    <tr>\n",
       "      <th id=\"T_53cbe_level0_row3\" class=\"row_heading level0 row3\" >F1-score</th>\n",
       "      <td id=\"T_53cbe_row3_col0\" class=\"data row3 col0\" >0.705357</td>\n",
       "      <td id=\"T_53cbe_row3_col1\" class=\"data row3 col1\" >0.729074</td>\n",
       "      <td id=\"T_53cbe_row3_col2\" class=\"data row3 col2\" >0.685500</td>\n",
       "      <td id=\"T_53cbe_row3_col3\" class=\"data row3 col3\" >0.609515</td>\n",
       "    </tr>\n",
       "  </tbody>\n",
       "</table>\n"
      ],
      "text/plain": [
       "<pandas.io.formats.style.Styler at 0x7f87bce634f0>"
      ]
     },
     "metadata": {},
     "output_type": "display_data"
    }
   ],
   "source": [
    "DT_result = metrics_calculator(y_test, DT_pred, 'Decision Tree')\n",
    "KNN_result = metrics_calculator(y_test, KNN_pred, 'K-Nearest Neighbors')\n",
    "NB_result = metrics_calculator(y_test, NB_pred, 'Naive Bayes')\n",
    "ANN_result = metrics_calculator(y_test, ANN_pred, 'Artificial Neural Network')\n",
    "\n",
    "# Convert styled DataFrames to regular DataFrames\n",
    "decision_tree_result_df = DT_result.data\n",
    "knn_result_df = KNN_result.data\n",
    "naive_bayes_result_df = NB_result.data\n",
    "artificial_neural_network_result_df = ANN_result.data\n",
    "\n",
    "Four_models = pd.concat([decision_tree_result_df, knn_result_df, naive_bayes_result_df, artificial_neural_network_result_df], axis=1)\n",
    "\n",
    "# Applying styling to the concatenated DataFrame\n",
    "styled_four = Four_models.style\\\n",
    "    .set_properties(**{'text-align': 'center', 'border': '1px solid black !important'})\\\n",
    "    .set_table_attributes('class=\"dataframe\"')\\\n",
    "    .set_caption('Four Model Performance Metrics')\\\n",
    "    .background_gradient(cmap='YlGnBu', vmin=Four_models.min().min(), vmax=Four_models.max().max())\n",
    "\n",
    "display(styled_four)"
   ]
  },
  {
   "cell_type": "markdown",
   "id": "X5LWGYVkETD3",
   "metadata": {
    "id": "X5LWGYVkETD3"
   },
   "source": [
    "# Confusion Matrix of Four Algorithms"
   ]
  },
  {
   "cell_type": "code",
   "execution_count": 61,
   "id": "SaAYPQqwEfqW",
   "metadata": {
    "executionInfo": {
     "elapsed": 11,
     "status": "ok",
     "timestamp": 1686345632380,
     "user": {
      "displayName": "Zamil Zamil",
      "userId": "04811903815352297421"
     },
     "user_tz": -360
    },
    "id": "SaAYPQqwEfqW"
   },
   "outputs": [],
   "source": [
    "from sklearn.metrics import confusion_matrix\n",
    "\n",
    "# Define a function to plot the confusion matrix\n",
    "def plot_confusion_matrix(cm, title):\n",
    "    ax = sns.heatmap(cm, annot=True, cmap='Blues', fmt='g')\n",
    "    ax.set_xlabel('Predicted labels')\n",
    "    ax.set_ylabel('True labels')\n",
    "    ax.set_title(title)\n",
    "    plt.show()\n",
    "\n",
    "\n",
    "# Generate the confusion matrix\n",
    "DTC_cm = confusion_matrix(y_test, DT_pred)\n",
    "KNN_cm = confusion_matrix(y_test, KNN_pred)\n",
    "NB_cm = confusion_matrix(y_test, NB_pred)\n",
    "ANN_cm = confusion_matrix(y_test, ANN_pred)\n"
   ]
  },
  {
   "cell_type": "markdown",
   "id": "ZjN1BJRfE4yH",
   "metadata": {
    "id": "ZjN1BJRfE4yH"
   },
   "source": [
    "### Plot the confusion matrix for each classifier"
   ]
  },
  {
   "cell_type": "code",
   "execution_count": 62,
   "id": "z6g2j-giEr92",
   "metadata": {
    "colab": {
     "base_uri": "https://localhost:8080/",
     "height": 480
    },
    "executionInfo": {
     "elapsed": 11,
     "status": "ok",
     "timestamp": 1686345632381,
     "user": {
      "displayName": "Zamil Zamil",
      "userId": "04811903815352297421"
     },
     "user_tz": -360
    },
    "id": "z6g2j-giEr92",
    "outputId": "423f216f-95b1-404f-90c9-75d3bfd5b3a9"
   },
   "outputs": [
    {
     "data": {
      "image/png": "[encoded data removed]",
      "text/plain": [
       "<Figure size 640x480 with 2 Axes>"
      ]
     },
     "metadata": {},
     "output_type": "display_data"
    }
   ],
   "source": [
    "plot_confusion_matrix(DTC_cm, \"Decision Tree Classifier Confusion Matrix\")"
   ]
  },
  {
   "cell_type": "code",
   "execution_count": 63,
   "id": "zSLscQyGEu-V",
   "metadata": {
    "colab": {
     "base_uri": "https://localhost:8080/",
     "height": 480
    },
    "executionInfo": {
     "elapsed": 476,
     "status": "ok",
     "timestamp": 1686345632847,
     "user": {
      "displayName": "Zamil Zamil",
      "userId": "04811903815352297421"
     },
     "user_tz": -360
    },
    "id": "zSLscQyGEu-V",
    "outputId": "6c909b93-3381-4911-99da-4b713b7b4580"
   },
   "outputs": [
    {
     "data": {
      "image/png": "[encoded data removed]",
      "text/plain": [
       "<Figure size 640x480 with 2 Axes>"
      ]
     },
     "metadata": {},
     "output_type": "display_data"
    }
   ],
   "source": [
    "plot_confusion_matrix(KNN_cm, \"K-Nearest Neighbours Classifier Confusion Matrix\")"
   ]
  },
  {
   "cell_type": "code",
   "execution_count": 64,
   "id": "89B1FxmfExTG",
   "metadata": {
    "colab": {
     "base_uri": "https://localhost:8080/",
     "height": 480
    },
    "executionInfo": {
     "elapsed": 10,
     "status": "ok",
     "timestamp": 1686345632848,
     "user": {
      "displayName": "Zamil Zamil",
      "userId": "04811903815352297421"
     },
     "user_tz": -360
    },
    "id": "89B1FxmfExTG",
    "outputId": "9c593553-cc5b-4e50-cc48-6392ea7646ea"
   },
   "outputs": [
    {
     "data": {
      "image/png": "[encoded data removed]",
      "text/plain": [
       "<Figure size 640x480 with 2 Axes>"
      ]
     },
     "metadata": {},
     "output_type": "display_data"
    }
   ],
   "source": [
    "plot_confusion_matrix(NB_cm, \"Naive Bayes Algorithm Classifier Confusion Matrix\")"
   ]
  },
  {
   "cell_type": "code",
   "execution_count": 65,
   "id": "W9DaUoYCE0-u",
   "metadata": {
    "colab": {
     "base_uri": "https://localhost:8080/",
     "height": 480
    },
    "executionInfo": {
     "elapsed": 550,
     "status": "ok",
     "timestamp": 1686345633389,
     "user": {
      "displayName": "Zamil Zamil",
      "userId": "04811903815352297421"
     },
     "user_tz": -360
    },
    "id": "W9DaUoYCE0-u",
    "outputId": "177a43c6-2953-411f-f33c-4de5c89a0fac"
   },
   "outputs": [
    {
     "data": {
      "image/png": "[encoded data removed]",
      "text/plain": [
       "<Figure size 640x480 with 2 Axes>"
      ]
     },
     "metadata": {},
     "output_type": "display_data"
    }
   ],
   "source": [
    "plot_confusion_matrix(ANN_cm, \"Artificial Neural Network Classifier Confusion Matrix\")"
   ]
  }
 ],
 "metadata": {
  "colab": {
   "gpuType": "T4",
   "provenance": [],
   "toc_visible": true
  },
  "kernelspec": {
   "display_name": "Python 3 (ipykernel)",
   "language": "python",
   "name": "python3"
  },
  "language_info": {
   "codemirror_mode": {
    "name": "ipython",
    "version": 3
   },
   "file_extension": ".py",
   "mimetype": "text/x-python",
   "name": "python",
   "nbconvert_exporter": "python",
   "pygments_lexer": "ipython3",
   "version": "3.10.9"
  }
 },
 "nbformat": 4,
 "nbformat_minor": 5
}
